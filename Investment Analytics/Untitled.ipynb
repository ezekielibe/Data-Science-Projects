{
 "cells": [
  {
   "cell_type": "code",
   "execution_count": 1,
   "metadata": {},
   "outputs": [],
   "source": []
  },
  {
   "cell_type": "code",
   "execution_count": 2,
   "metadata": {},
   "outputs": [],
   "source": [
    "import requests\n",
    "import pandas as pd"
   ]
  },
  {
   "cell_type": "code",
   "execution_count": 4,
   "metadata": {},
   "outputs": [],
   "source": [
    "#Load the stock symbols into a data frame.\n",
    "stock_symbols = pd.read_csv(r\"C:\\Users\\ezeki\\OneDrive\\Desktop\\Data Science PDFReads\\Projects\\stock_list.csv\")"
   ]
  },
  {
   "cell_type": "code",
   "execution_count": 6,
   "metadata": {},
   "outputs": [],
   "source": [
    "#We have a character that will cause issue in our request so we have to remove it\n",
    "stock_symbols['Symbol'] = stock_symbols['Symbol'].str.replace('^','')"
   ]
  },
  {
   "cell_type": "code",
   "execution_count": 9,
   "metadata": {},
   "outputs": [
    {
     "data": {
      "text/plain": [
       "(5807, 2)"
      ]
     },
     "metadata": {},
     "output_type": "display_data"
    }
   ],
   "source": [
    "#display the number of rows.\n",
    "display(stock_symbols.shape)"
   ]
  },
  {
   "cell_type": "code",
   "execution_count": 10,
   "metadata": {},
   "outputs": [],
   "source": [
    "#define the size of the chunk\n",
    "n = 100\n",
    "\n",
    "#break the data frame into chunks\n",
    "symbols_chunk = [stock_symbols[i:i+n] for i in range( 0, stock_symbols.shape[0], n)]"
   ]
  },
  {
   "cell_type": "code",
   "execution_count": 11,
   "metadata": {},
   "outputs": [
    {
     "data": {
      "text/plain": [
       "['A', 'AA', 'AABA', 'AAC', 'AAL']"
      ]
     },
     "execution_count": 11,
     "metadata": {},
     "output_type": "execute_result"
    }
   ],
   "source": [
    "#Let's see an example chunk \n",
    "example_chunk = list(symbols_chunk[0]['Symbol'])\n",
    "\n",
    "#show the first five items\n",
    "example_chunk[:5]"
   ]
  },
  {
   "cell_type": "markdown",
   "metadata": {},
   "source": [
    "Step Two: Collect the Data"
   ]
  },
  {
   "cell_type": "code",
   "execution_count": 22,
   "metadata": {},
   "outputs": [],
   "source": [
    "#define an endpoint, in this case we will use the instruments endpoint\n",
    "endpoint = r\"https://api.tdameritrade.com/v1/instruments\""
   ]
  },
  {
   "cell_type": "code",
   "execution_count": 23,
   "metadata": {},
   "outputs": [],
   "source": [
    "#We need a place to store all of our data, so a dictionary will do\n",
    "stock_dict = {}"
   ]
  },
  {
   "cell_type": "code",
   "execution_count": 24,
   "metadata": {},
   "outputs": [],
   "source": [
    "#Loop through each chunk\n",
    "for chunk in symbols_chunk:\n",
    "    \n",
    "    # define the payload\n",
    "    payload = {'apikey':'API_key',\n",
    "                'projection':'fundamental',\n",
    "                'symbol':list(chunk['Symbol'])}\n",
    "    \n",
    "    # make a request\n",
    "    content = requests.get(url = endpoint, params = payload)\n",
    "    \n",
    "    # convert it dictionary object\n",
    "    data = content.json()\n",
    "    \n",
    "    # the ones that do exist, loop through each stock, grab the data, and store it in the dictionary\n",
    "    try: \n",
    "        for stock in data:\n",
    "            stock_dict[data[stock]['cusip']] = data[stock]['fundamental']\n",
    "    except:\n",
    "        continue\n",
    "    \n",
    "# create a data frame with the newly collected data.\n",
    "stock_df = pd.DataFrame(stock_dict)"
   ]
  },
  {
   "cell_type": "code",
   "execution_count": 25,
   "metadata": {},
   "outputs": [],
   "source": [
    "#It's not in the right format, but if we transpose it we will have a much easier time grabbing the necessary columns.\n",
    "stock_df = stock_df.transpose()"
   ]
  },
  {
   "cell_type": "code",
   "execution_count": 26,
   "metadata": {},
   "outputs": [
    {
     "data": {
      "text/html": [
       "<div>\n",
       "<style scoped>\n",
       "    .dataframe tbody tr th:only-of-type {\n",
       "        vertical-align: middle;\n",
       "    }\n",
       "\n",
       "    .dataframe tbody tr th {\n",
       "        vertical-align: top;\n",
       "    }\n",
       "\n",
       "    .dataframe thead th {\n",
       "        text-align: right;\n",
       "    }\n",
       "</style>\n",
       "<table border=\"1\" class=\"dataframe\">\n",
       "  <thead>\n",
       "    <tr style=\"text-align: right;\">\n",
       "      <th></th>\n",
       "    </tr>\n",
       "  </thead>\n",
       "  <tbody>\n",
       "  </tbody>\n",
       "</table>\n",
       "</div>"
      ],
      "text/plain": [
       "Empty DataFrame\n",
       "Columns: []\n",
       "Index: []"
      ]
     },
     "metadata": {},
     "output_type": "display_data"
    },
    {
     "data": {
      "text/plain": [
       "(0, 0)"
      ]
     },
     "metadata": {},
     "output_type": "display_data"
    }
   ],
   "source": [
    "#display the head to make sure it's right\n",
    "display(stock_df.head())\n",
    "\n",
    "#Let's recheck our shape, we lost a few hundred but this was expected as TD Ameritrade doesn't have data on every stock.\n",
    "display(stock_df.shape)"
   ]
  },
  {
   "cell_type": "code",
   "execution_count": null,
   "metadata": {},
   "outputs": [],
   "source": []
  }
 ],
 "metadata": {
  "kernelspec": {
   "display_name": "Python 3",
   "language": "python",
   "name": "python3"
  },
  "language_info": {
   "codemirror_mode": {
    "name": "ipython",
    "version": 3
   },
   "file_extension": ".py",
   "mimetype": "text/x-python",
   "name": "python",
   "nbconvert_exporter": "python",
   "pygments_lexer": "ipython3",
   "version": "3.7.3"
  }
 },
 "nbformat": 4,
 "nbformat_minor": 2
}
