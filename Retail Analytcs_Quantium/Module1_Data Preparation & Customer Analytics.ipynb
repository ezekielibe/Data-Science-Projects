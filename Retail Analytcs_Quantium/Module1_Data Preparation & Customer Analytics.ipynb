{
 "cells": [
  {
   "cell_type": "markdown",
   "metadata": {},
   "source": [
    "### Customer Analytics_Quantium"
   ]
  },
  {
   "cell_type": "markdown",
   "metadata": {},
   "source": [
    "* Creating and interpreting high level summaries of the data\n",
    "* Finding outliers and removing these (if applicable)\n",
    "* Checking data formats and correcting (if applicable)"
   ]
  },
  {
   "cell_type": "markdown",
   "metadata": {},
   "source": [
    "### Steps involved are as follows:"
   ]
  },
  {
   "cell_type": "markdown",
   "metadata": {},
   "source": [
    "* Data Preparation\n",
    "* Examining transaction data/Exploration\n",
    "* Data Summarization/Visualization\n",
    "* Customer Analytics Pipeline\n",
    "    * Customer Data Understanding\n",
    "    * Data Analysis on Customer Segment"
   ]
  },
  {
   "cell_type": "markdown",
   "metadata": {},
   "source": [
    "### Data Preparation "
   ]
  },
  {
   "cell_type": "markdown",
   "metadata": {},
   "source": [
    "### Libraries"
   ]
  },
  {
   "cell_type": "code",
   "execution_count": 1,
   "metadata": {},
   "outputs": [
    {
     "name": "stderr",
     "output_type": "stream",
     "text": [
      "[nltk_data] Error loading punkt: <urlopen error [Errno 11001]\n",
      "[nltk_data]     getaddrinfo failed>\n"
     ]
    }
   ],
   "source": [
    "#data analysis and wrangling\n",
    "import pandas as pd\n",
    "import numpy as np\n",
    "\n",
    "# Visualisation\n",
    "import seaborn as sns\n",
    "import matplotlib.pyplot as plt\n",
    "import missingno\n",
    "\n",
    "# dates\n",
    "import datetime\n",
    "from matplotlib.dates import DateFormatter\n",
    "\n",
    "#Text analysis\n",
    "import nltk\n",
    "nltk.download('punkt')\n",
    "from nltk.tokenize import word_tokenize\n",
    "from nltk.probability import FreqDist as fdist\n",
    "import re\n",
    "\n",
    "#Statistical analysis\n",
    "from scipy.stats import ttest_ind\n",
    "\n",
    "# Warnings\n",
    "import warnings\n",
    "warnings.filterwarnings('ignore')"
   ]
  },
  {
   "cell_type": "code",
   "execution_count": 2,
   "metadata": {},
   "outputs": [
    {
     "data": {
      "text/plain": [
       "'C:\\\\Users\\\\ezeki\\\\Quantium Data Analytics'"
      ]
     },
     "execution_count": 2,
     "metadata": {},
     "output_type": "execute_result"
    }
   ],
   "source": [
    "pwd"
   ]
  },
  {
   "cell_type": "markdown",
   "metadata": {},
   "source": [
    "### Loading Datasets"
   ]
  },
  {
   "cell_type": "code",
   "execution_count": 3,
   "metadata": {},
   "outputs": [],
   "source": [
    "customerPB_Data = pd.read_csv(\"C:/Users/ezeki/Downloads/QVI_purchase_behaviour.csv\")\n",
    "transaction_Data = pd.read_csv(\"C:/Users/ezeki/OneDrive/Desktop/QVI_transaction_data.csv\")"
   ]
  },
  {
   "cell_type": "markdown",
   "metadata": {},
   "source": [
    "### Examining Transaction Data"
   ]
  },
  {
   "cell_type": "code",
   "execution_count": 4,
   "metadata": {},
   "outputs": [
    {
     "data": {
      "text/html": [
       "<div>\n",
       "<style scoped>\n",
       "    .dataframe tbody tr th:only-of-type {\n",
       "        vertical-align: middle;\n",
       "    }\n",
       "\n",
       "    .dataframe tbody tr th {\n",
       "        vertical-align: top;\n",
       "    }\n",
       "\n",
       "    .dataframe thead th {\n",
       "        text-align: right;\n",
       "    }\n",
       "</style>\n",
       "<table border=\"1\" class=\"dataframe\">\n",
       "  <thead>\n",
       "    <tr style=\"text-align: right;\">\n",
       "      <th></th>\n",
       "      <th>DATE</th>\n",
       "      <th>STORE_NBR</th>\n",
       "      <th>LYLTY_CARD_NBR</th>\n",
       "      <th>TXN_ID</th>\n",
       "      <th>PROD_NBR</th>\n",
       "      <th>PROD_NAME</th>\n",
       "      <th>PROD_QTY</th>\n",
       "      <th>TOT_SALES</th>\n",
       "    </tr>\n",
       "  </thead>\n",
       "  <tbody>\n",
       "    <tr>\n",
       "      <th>0</th>\n",
       "      <td>43390</td>\n",
       "      <td>1</td>\n",
       "      <td>1000</td>\n",
       "      <td>1</td>\n",
       "      <td>5</td>\n",
       "      <td>Natural Chip        Compny SeaSalt175g</td>\n",
       "      <td>2</td>\n",
       "      <td>6.0</td>\n",
       "    </tr>\n",
       "    <tr>\n",
       "      <th>1</th>\n",
       "      <td>43599</td>\n",
       "      <td>1</td>\n",
       "      <td>1307</td>\n",
       "      <td>348</td>\n",
       "      <td>66</td>\n",
       "      <td>CCs Nacho Cheese    175g</td>\n",
       "      <td>3</td>\n",
       "      <td>6.3</td>\n",
       "    </tr>\n",
       "    <tr>\n",
       "      <th>2</th>\n",
       "      <td>43605</td>\n",
       "      <td>1</td>\n",
       "      <td>1343</td>\n",
       "      <td>383</td>\n",
       "      <td>61</td>\n",
       "      <td>Smiths Crinkle Cut  Chips Chicken 170g</td>\n",
       "      <td>2</td>\n",
       "      <td>2.9</td>\n",
       "    </tr>\n",
       "    <tr>\n",
       "      <th>3</th>\n",
       "      <td>43329</td>\n",
       "      <td>2</td>\n",
       "      <td>2373</td>\n",
       "      <td>974</td>\n",
       "      <td>69</td>\n",
       "      <td>Smiths Chip Thinly  S/Cream&amp;Onion 175g</td>\n",
       "      <td>5</td>\n",
       "      <td>15.0</td>\n",
       "    </tr>\n",
       "    <tr>\n",
       "      <th>4</th>\n",
       "      <td>43330</td>\n",
       "      <td>2</td>\n",
       "      <td>2426</td>\n",
       "      <td>1038</td>\n",
       "      <td>108</td>\n",
       "      <td>Kettle Tortilla ChpsHny&amp;Jlpno Chili 150g</td>\n",
       "      <td>3</td>\n",
       "      <td>13.8</td>\n",
       "    </tr>\n",
       "  </tbody>\n",
       "</table>\n",
       "</div>"
      ],
      "text/plain": [
       "    DATE  STORE_NBR  LYLTY_CARD_NBR  TXN_ID  PROD_NBR  \\\n",
       "0  43390          1            1000       1         5   \n",
       "1  43599          1            1307     348        66   \n",
       "2  43605          1            1343     383        61   \n",
       "3  43329          2            2373     974        69   \n",
       "4  43330          2            2426    1038       108   \n",
       "\n",
       "                                  PROD_NAME  PROD_QTY  TOT_SALES  \n",
       "0    Natural Chip        Compny SeaSalt175g         2        6.0  \n",
       "1                  CCs Nacho Cheese    175g         3        6.3  \n",
       "2    Smiths Crinkle Cut  Chips Chicken 170g         2        2.9  \n",
       "3    Smiths Chip Thinly  S/Cream&Onion 175g         5       15.0  \n",
       "4  Kettle Tortilla ChpsHny&Jlpno Chili 150g         3       13.8  "
      ]
     },
     "execution_count": 4,
     "metadata": {},
     "output_type": "execute_result"
    }
   ],
   "source": [
    "transaction_Data.head()"
   ]
  },
  {
   "cell_type": "code",
   "execution_count": 5,
   "metadata": {},
   "outputs": [
    {
     "data": {
      "text/plain": [
       "(264836, 8)"
      ]
     },
     "execution_count": 5,
     "metadata": {},
     "output_type": "execute_result"
    }
   ],
   "source": [
    "transaction_Data.shape"
   ]
  },
  {
   "cell_type": "code",
   "execution_count": 6,
   "metadata": {},
   "outputs": [
    {
     "data": {
      "text/plain": [
       "263127"
      ]
     },
     "execution_count": 6,
     "metadata": {},
     "output_type": "execute_result"
    }
   ],
   "source": [
    "transaction_Data['TXN_ID'].nunique()\n",
    "\n",
    "#Comment: 'TXN_ID' is not unique to each row which means a customer can buy multiple brands of chips in a single transaction\n",
    "\n",
    "#Each row of the data corresponds to purchase of a single brand of chips and a customer can buy multiple brands in one single transaction"
   ]
  },
  {
   "cell_type": "code",
   "execution_count": 7,
   "metadata": {},
   "outputs": [
    {
     "data": {
      "text/html": [
       "<div>\n",
       "<style scoped>\n",
       "    .dataframe tbody tr th:only-of-type {\n",
       "        vertical-align: middle;\n",
       "    }\n",
       "\n",
       "    .dataframe tbody tr th {\n",
       "        vertical-align: top;\n",
       "    }\n",
       "\n",
       "    .dataframe thead th {\n",
       "        text-align: right;\n",
       "    }\n",
       "</style>\n",
       "<table border=\"1\" class=\"dataframe\">\n",
       "  <thead>\n",
       "    <tr style=\"text-align: right;\">\n",
       "      <th></th>\n",
       "      <th>DATE</th>\n",
       "      <th>STORE_NBR</th>\n",
       "      <th>LYLTY_CARD_NBR</th>\n",
       "      <th>TXN_ID</th>\n",
       "      <th>PROD_NBR</th>\n",
       "      <th>PROD_NAME</th>\n",
       "      <th>PROD_QTY</th>\n",
       "      <th>TOT_SALES</th>\n",
       "    </tr>\n",
       "  </thead>\n",
       "  <tbody>\n",
       "    <tr>\n",
       "      <th>42</th>\n",
       "      <td>43605</td>\n",
       "      <td>55</td>\n",
       "      <td>55073</td>\n",
       "      <td>48887</td>\n",
       "      <td>113</td>\n",
       "      <td>Twisties Chicken270g</td>\n",
       "      <td>1</td>\n",
       "      <td>4.6</td>\n",
       "    </tr>\n",
       "    <tr>\n",
       "      <th>377</th>\n",
       "      <td>43475</td>\n",
       "      <td>7</td>\n",
       "      <td>7364</td>\n",
       "      <td>7739</td>\n",
       "      <td>20</td>\n",
       "      <td>Doritos Cheese      Supreme 330g</td>\n",
       "      <td>2</td>\n",
       "      <td>11.4</td>\n",
       "    </tr>\n",
       "    <tr>\n",
       "      <th>419</th>\n",
       "      <td>43391</td>\n",
       "      <td>12</td>\n",
       "      <td>12301</td>\n",
       "      <td>10982</td>\n",
       "      <td>93</td>\n",
       "      <td>Doritos Corn Chip Southern Chicken 150g</td>\n",
       "      <td>2</td>\n",
       "      <td>7.8</td>\n",
       "    </tr>\n",
       "    <tr>\n",
       "      <th>476</th>\n",
       "      <td>43351</td>\n",
       "      <td>16</td>\n",
       "      <td>16427</td>\n",
       "      <td>14546</td>\n",
       "      <td>81</td>\n",
       "      <td>Pringles Original   Crisps 134g</td>\n",
       "      <td>1</td>\n",
       "      <td>3.7</td>\n",
       "    </tr>\n",
       "    <tr>\n",
       "      <th>511</th>\n",
       "      <td>43315</td>\n",
       "      <td>19</td>\n",
       "      <td>19272</td>\n",
       "      <td>16683</td>\n",
       "      <td>31</td>\n",
       "      <td>Infzns Crn Crnchers Tangy Gcamole 110g</td>\n",
       "      <td>2</td>\n",
       "      <td>7.6</td>\n",
       "    </tr>\n",
       "  </tbody>\n",
       "</table>\n",
       "</div>"
      ],
      "text/plain": [
       "      DATE  STORE_NBR  LYLTY_CARD_NBR  TXN_ID  PROD_NBR  \\\n",
       "42   43605         55           55073   48887       113   \n",
       "377  43475          7            7364    7739        20   \n",
       "419  43391         12           12301   10982        93   \n",
       "476  43351         16           16427   14546        81   \n",
       "511  43315         19           19272   16683        31   \n",
       "\n",
       "                                   PROD_NAME  PROD_QTY  TOT_SALES  \n",
       "42                      Twisties Chicken270g         1        4.6  \n",
       "377         Doritos Cheese      Supreme 330g         2       11.4  \n",
       "419  Doritos Corn Chip Southern Chicken 150g         2        7.8  \n",
       "476          Pringles Original   Crisps 134g         1        3.7  \n",
       "511   Infzns Crn Crnchers Tangy Gcamole 110g         2        7.6  "
      ]
     },
     "execution_count": 7,
     "metadata": {},
     "output_type": "execute_result"
    }
   ],
   "source": [
    "#For example, look for duplicated 'TXN_ID'\n",
    "\n",
    "transaction_Data[transaction_Data.duplicated(['TXN_ID'])].head()"
   ]
  },
  {
   "cell_type": "markdown",
   "metadata": {},
   "source": [
    "### Data Summarization"
   ]
  },
  {
   "cell_type": "code",
   "execution_count": 8,
   "metadata": {},
   "outputs": [
    {
     "data": {
      "text/html": [
       "<div>\n",
       "<style scoped>\n",
       "    .dataframe tbody tr th:only-of-type {\n",
       "        vertical-align: middle;\n",
       "    }\n",
       "\n",
       "    .dataframe tbody tr th {\n",
       "        vertical-align: top;\n",
       "    }\n",
       "\n",
       "    .dataframe thead th {\n",
       "        text-align: right;\n",
       "    }\n",
       "</style>\n",
       "<table border=\"1\" class=\"dataframe\">\n",
       "  <thead>\n",
       "    <tr style=\"text-align: right;\">\n",
       "      <th></th>\n",
       "      <th>DATE</th>\n",
       "      <th>STORE_NBR</th>\n",
       "      <th>LYLTY_CARD_NBR</th>\n",
       "      <th>TXN_ID</th>\n",
       "      <th>PROD_NBR</th>\n",
       "      <th>PROD_NAME</th>\n",
       "      <th>PROD_QTY</th>\n",
       "      <th>TOT_SALES</th>\n",
       "    </tr>\n",
       "  </thead>\n",
       "  <tbody>\n",
       "    <tr>\n",
       "      <th>376</th>\n",
       "      <td>43475</td>\n",
       "      <td>7</td>\n",
       "      <td>7364</td>\n",
       "      <td>7739</td>\n",
       "      <td>50</td>\n",
       "      <td>Tostitos Lightly    Salted 175g</td>\n",
       "      <td>2</td>\n",
       "      <td>8.8</td>\n",
       "    </tr>\n",
       "    <tr>\n",
       "      <th>377</th>\n",
       "      <td>43475</td>\n",
       "      <td>7</td>\n",
       "      <td>7364</td>\n",
       "      <td>7739</td>\n",
       "      <td>20</td>\n",
       "      <td>Doritos Cheese      Supreme 330g</td>\n",
       "      <td>2</td>\n",
       "      <td>11.4</td>\n",
       "    </tr>\n",
       "  </tbody>\n",
       "</table>\n",
       "</div>"
      ],
      "text/plain": [
       "      DATE  STORE_NBR  LYLTY_CARD_NBR  TXN_ID  PROD_NBR  \\\n",
       "376  43475          7            7364    7739        50   \n",
       "377  43475          7            7364    7739        20   \n",
       "\n",
       "                            PROD_NAME  PROD_QTY  TOT_SALES  \n",
       "376   Tostitos Lightly    Salted 175g         2        8.8  \n",
       "377  Doritos Cheese      Supreme 330g         2       11.4  "
      ]
     },
     "execution_count": 8,
     "metadata": {},
     "output_type": "execute_result"
    }
   ],
   "source": [
    "# Let's have a look at 'TXN_ID' 7739\n",
    "\n",
    "transaction_Data.loc[transaction_Data['TXN_ID'] == 7739, :]"
   ]
  },
  {
   "cell_type": "code",
   "execution_count": 9,
   "metadata": {},
   "outputs": [
    {
     "name": "stdout",
     "output_type": "stream",
     "text": [
      "<class 'pandas.core.frame.DataFrame'>\n",
      "RangeIndex: 264836 entries, 0 to 264835\n",
      "Data columns (total 8 columns):\n",
      "DATE              264836 non-null int64\n",
      "STORE_NBR         264836 non-null int64\n",
      "LYLTY_CARD_NBR    264836 non-null int64\n",
      "TXN_ID            264836 non-null int64\n",
      "PROD_NBR          264836 non-null int64\n",
      "PROD_NAME         264836 non-null object\n",
      "PROD_QTY          264836 non-null int64\n",
      "TOT_SALES         264836 non-null float64\n",
      "dtypes: float64(1), int64(6), object(1)\n",
      "memory usage: 16.2+ MB\n"
     ]
    }
   ],
   "source": [
    "transaction_Data.info()"
   ]
  },
  {
   "cell_type": "code",
   "execution_count": 10,
   "metadata": {},
   "outputs": [
    {
     "data": {
      "text/plain": [
       "<matplotlib.axes._subplots.AxesSubplot at 0x259a56e50b8>"
      ]
     },
     "execution_count": 10,
     "metadata": {},
     "output_type": "execute_result"
    },
    {
     "data": {
      "image/png": "[encoded data removed]",
      "text/plain": [
       "<Figure size 1800x720 with 2 Axes>"
      ]
     },
     "metadata": {
      "needs_background": "light"
     },
     "output_type": "display_data"
    }
   ],
   "source": [
    "#Plot graph of missing values for 'transaction_Data'\n",
    "\n",
    "missingno.matrix(transaction_Data)\n",
    "\n",
    "#Comment: no missing numbers in transaction data"
   ]
  },
  {
   "cell_type": "code",
   "execution_count": 11,
   "metadata": {},
   "outputs": [
    {
     "data": {
      "text/plain": [
       "['DATE',\n",
       " 'STORE_NBR',\n",
       " 'LYLTY_CARD_NBR',\n",
       " 'TXN_ID',\n",
       " 'PROD_NBR',\n",
       " 'PROD_NAME',\n",
       " 'PROD_QTY',\n",
       " 'TOT_SALES']"
      ]
     },
     "execution_count": 11,
     "metadata": {},
     "output_type": "execute_result"
    }
   ],
   "source": [
    "#Now let's explore the features in both dataset starting with 'transaction_Data'\n",
    "\n",
    "list(transaction_Data.columns)"
   ]
  },
  {
   "cell_type": "code",
   "execution_count": 12,
   "metadata": {},
   "outputs": [
    {
     "data": {
      "text/plain": [
       "0    43390\n",
       "1    43599\n",
       "2    43605\n",
       "3    43329\n",
       "4    43330\n",
       "Name: DATE, dtype: int64"
      ]
     },
     "execution_count": 12,
     "metadata": {},
     "output_type": "execute_result"
    }
   ],
   "source": [
    "transaction_Data['DATE'].head()"
   ]
  },
  {
   "cell_type": "code",
   "execution_count": 13,
   "metadata": {},
   "outputs": [],
   "source": [
    "#'Date' is not in the right format\n",
    "\n",
    "#Function that converts Excel integer into yyyy-mm-dd format \n",
    "def xlseriesdate_to_datetime(xlserialdate):\n",
    "    excel_anchor = datetime.datetime(1900, 1, 1)\n",
    "    if(xlserialdate < 60):\n",
    "        delta_in_days = datetime.timedelta(days = (xlserialdate - 1))\n",
    "    else:\n",
    "        delta_in_days = datetime.timedelta(days = (xlserialdate - 2))\n",
    "    converted_date = excel_anchor + delta_in_days\n",
    "    return converted_date"
   ]
  },
  {
   "cell_type": "code",
   "execution_count": 14,
   "metadata": {},
   "outputs": [],
   "source": [
    "#Apply function to 'DATE' feature in 'transaction_Data' dataset\n",
    "\n",
    "transaction_Data['DATE'] = transaction_Data['DATE'].apply(xlseriesdate_to_datetime)"
   ]
  },
  {
   "cell_type": "code",
   "execution_count": 15,
   "metadata": {},
   "outputs": [
    {
     "data": {
      "text/plain": [
       "0   2018-10-17\n",
       "1   2019-05-14\n",
       "2   2019-05-20\n",
       "3   2018-08-17\n",
       "4   2018-08-18\n",
       "Name: DATE, dtype: datetime64[ns]"
      ]
     },
     "execution_count": 15,
     "metadata": {},
     "output_type": "execute_result"
    }
   ],
   "source": [
    "#Check the first 5 rows of the new feature\n",
    "\n",
    "transaction_Data['DATE'].head()"
   ]
  },
  {
   "cell_type": "code",
   "execution_count": 16,
   "metadata": {},
   "outputs": [
    {
     "data": {
      "text/html": [
       "<div>\n",
       "<style scoped>\n",
       "    .dataframe tbody tr th:only-of-type {\n",
       "        vertical-align: middle;\n",
       "    }\n",
       "\n",
       "    .dataframe tbody tr th {\n",
       "        vertical-align: top;\n",
       "    }\n",
       "\n",
       "    .dataframe thead th {\n",
       "        text-align: right;\n",
       "    }\n",
       "</style>\n",
       "<table border=\"1\" class=\"dataframe\">\n",
       "  <thead>\n",
       "    <tr style=\"text-align: right;\">\n",
       "      <th></th>\n",
       "      <th>DATE</th>\n",
       "      <th>STORE_NBR</th>\n",
       "      <th>LYLTY_CARD_NBR</th>\n",
       "      <th>TXN_ID</th>\n",
       "      <th>PROD_NBR</th>\n",
       "      <th>PROD_NAME</th>\n",
       "      <th>PROD_QTY</th>\n",
       "      <th>TOT_SALES</th>\n",
       "    </tr>\n",
       "  </thead>\n",
       "  <tbody>\n",
       "    <tr>\n",
       "      <th>0</th>\n",
       "      <td>2018-10-17</td>\n",
       "      <td>1</td>\n",
       "      <td>1000</td>\n",
       "      <td>1</td>\n",
       "      <td>5</td>\n",
       "      <td>Natural Chip        Compny SeaSalt175g</td>\n",
       "      <td>2</td>\n",
       "      <td>6.0</td>\n",
       "    </tr>\n",
       "    <tr>\n",
       "      <th>1</th>\n",
       "      <td>2019-05-14</td>\n",
       "      <td>1</td>\n",
       "      <td>1307</td>\n",
       "      <td>348</td>\n",
       "      <td>66</td>\n",
       "      <td>CCs Nacho Cheese    175g</td>\n",
       "      <td>3</td>\n",
       "      <td>6.3</td>\n",
       "    </tr>\n",
       "    <tr>\n",
       "      <th>2</th>\n",
       "      <td>2019-05-20</td>\n",
       "      <td>1</td>\n",
       "      <td>1343</td>\n",
       "      <td>383</td>\n",
       "      <td>61</td>\n",
       "      <td>Smiths Crinkle Cut  Chips Chicken 170g</td>\n",
       "      <td>2</td>\n",
       "      <td>2.9</td>\n",
       "    </tr>\n",
       "    <tr>\n",
       "      <th>3</th>\n",
       "      <td>2018-08-17</td>\n",
       "      <td>2</td>\n",
       "      <td>2373</td>\n",
       "      <td>974</td>\n",
       "      <td>69</td>\n",
       "      <td>Smiths Chip Thinly  S/Cream&amp;Onion 175g</td>\n",
       "      <td>5</td>\n",
       "      <td>15.0</td>\n",
       "    </tr>\n",
       "    <tr>\n",
       "      <th>4</th>\n",
       "      <td>2018-08-18</td>\n",
       "      <td>2</td>\n",
       "      <td>2426</td>\n",
       "      <td>1038</td>\n",
       "      <td>108</td>\n",
       "      <td>Kettle Tortilla ChpsHny&amp;Jlpno Chili 150g</td>\n",
       "      <td>3</td>\n",
       "      <td>13.8</td>\n",
       "    </tr>\n",
       "  </tbody>\n",
       "</table>\n",
       "</div>"
      ],
      "text/plain": [
       "        DATE  STORE_NBR  LYLTY_CARD_NBR  TXN_ID  PROD_NBR  \\\n",
       "0 2018-10-17          1            1000       1         5   \n",
       "1 2019-05-14          1            1307     348        66   \n",
       "2 2019-05-20          1            1343     383        61   \n",
       "3 2018-08-17          2            2373     974        69   \n",
       "4 2018-08-18          2            2426    1038       108   \n",
       "\n",
       "                                  PROD_NAME  PROD_QTY  TOT_SALES  \n",
       "0    Natural Chip        Compny SeaSalt175g         2        6.0  \n",
       "1                  CCs Nacho Cheese    175g         3        6.3  \n",
       "2    Smiths Crinkle Cut  Chips Chicken 170g         2        2.9  \n",
       "3    Smiths Chip Thinly  S/Cream&Onion 175g         5       15.0  \n",
       "4  Kettle Tortilla ChpsHny&Jlpno Chili 150g         3       13.8  "
      ]
     },
     "execution_count": 16,
     "metadata": {},
     "output_type": "execute_result"
    }
   ],
   "source": [
    "#Date is now in the right format\n",
    "\n",
    "transaction_Data.head()"
   ]
  },
  {
   "cell_type": "code",
   "execution_count": 17,
   "metadata": {},
   "outputs": [
    {
     "data": {
      "text/html": [
       "<div>\n",
       "<style scoped>\n",
       "    .dataframe tbody tr th:only-of-type {\n",
       "        vertical-align: middle;\n",
       "    }\n",
       "\n",
       "    .dataframe tbody tr th {\n",
       "        vertical-align: top;\n",
       "    }\n",
       "\n",
       "    .dataframe thead th {\n",
       "        text-align: right;\n",
       "    }\n",
       "</style>\n",
       "<table border=\"1\" class=\"dataframe\">\n",
       "  <thead>\n",
       "    <tr style=\"text-align: right;\">\n",
       "      <th></th>\n",
       "      <th>DATE</th>\n",
       "      <th>STORE_NBR</th>\n",
       "      <th>LYLTY_CARD_NBR</th>\n",
       "      <th>TXN_ID</th>\n",
       "      <th>PROD_NBR</th>\n",
       "      <th>PROD_NAME</th>\n",
       "      <th>PROD_QTY</th>\n",
       "      <th>TOT_SALES</th>\n",
       "      <th>PACK_SIZE</th>\n",
       "    </tr>\n",
       "  </thead>\n",
       "  <tbody>\n",
       "    <tr>\n",
       "      <th>0</th>\n",
       "      <td>2018-10-17</td>\n",
       "      <td>1</td>\n",
       "      <td>1000</td>\n",
       "      <td>1</td>\n",
       "      <td>5</td>\n",
       "      <td>Natural Chip        Compny SeaSalt175g</td>\n",
       "      <td>2</td>\n",
       "      <td>6.0</td>\n",
       "      <td>175</td>\n",
       "    </tr>\n",
       "    <tr>\n",
       "      <th>1</th>\n",
       "      <td>2019-05-14</td>\n",
       "      <td>1</td>\n",
       "      <td>1307</td>\n",
       "      <td>348</td>\n",
       "      <td>66</td>\n",
       "      <td>CCs Nacho Cheese    175g</td>\n",
       "      <td>3</td>\n",
       "      <td>6.3</td>\n",
       "      <td>175</td>\n",
       "    </tr>\n",
       "    <tr>\n",
       "      <th>2</th>\n",
       "      <td>2019-05-20</td>\n",
       "      <td>1</td>\n",
       "      <td>1343</td>\n",
       "      <td>383</td>\n",
       "      <td>61</td>\n",
       "      <td>Smiths Crinkle Cut  Chips Chicken 170g</td>\n",
       "      <td>2</td>\n",
       "      <td>2.9</td>\n",
       "      <td>170</td>\n",
       "    </tr>\n",
       "    <tr>\n",
       "      <th>3</th>\n",
       "      <td>2018-08-17</td>\n",
       "      <td>2</td>\n",
       "      <td>2373</td>\n",
       "      <td>974</td>\n",
       "      <td>69</td>\n",
       "      <td>Smiths Chip Thinly  S/Cream&amp;Onion 175g</td>\n",
       "      <td>5</td>\n",
       "      <td>15.0</td>\n",
       "      <td>175</td>\n",
       "    </tr>\n",
       "    <tr>\n",
       "      <th>4</th>\n",
       "      <td>2018-08-18</td>\n",
       "      <td>2</td>\n",
       "      <td>2426</td>\n",
       "      <td>1038</td>\n",
       "      <td>108</td>\n",
       "      <td>Kettle Tortilla ChpsHny&amp;Jlpno Chili 150g</td>\n",
       "      <td>3</td>\n",
       "      <td>13.8</td>\n",
       "      <td>150</td>\n",
       "    </tr>\n",
       "  </tbody>\n",
       "</table>\n",
       "</div>"
      ],
      "text/plain": [
       "        DATE  STORE_NBR  LYLTY_CARD_NBR  TXN_ID  PROD_NBR  \\\n",
       "0 2018-10-17          1            1000       1         5   \n",
       "1 2019-05-14          1            1307     348        66   \n",
       "2 2019-05-20          1            1343     383        61   \n",
       "3 2018-08-17          2            2373     974        69   \n",
       "4 2018-08-18          2            2426    1038       108   \n",
       "\n",
       "                                  PROD_NAME  PROD_QTY  TOT_SALES  PACK_SIZE  \n",
       "0    Natural Chip        Compny SeaSalt175g         2        6.0        175  \n",
       "1                  CCs Nacho Cheese    175g         3        6.3        175  \n",
       "2    Smiths Crinkle Cut  Chips Chicken 170g         2        2.9        170  \n",
       "3    Smiths Chip Thinly  S/Cream&Onion 175g         5       15.0        175  \n",
       "4  Kettle Tortilla ChpsHny&Jlpno Chili 150g         3       13.8        150  "
      ]
     },
     "execution_count": 17,
     "metadata": {},
     "output_type": "execute_result"
    }
   ],
   "source": [
    "# Extract weights out of 'PROD_NAME'\n",
    "\n",
    "transaction_Data['PACK_SIZE'] = transaction_Data['PROD_NAME'].str.extract(\"(\\d+)\")\n",
    "transaction_Data['PACK_SIZE'] = pd.to_numeric(transaction_Data['PACK_SIZE'])\n",
    "transaction_Data.head()"
   ]
  },
  {
   "cell_type": "code",
   "execution_count": 18,
   "metadata": {},
   "outputs": [
    {
     "data": {
      "text/plain": [
       "0      Natural Chip        Compny SeaSalt175g\n",
       "1                    CCs Nacho Cheese    175g\n",
       "2      Smiths Crinkle Cut  Chips Chicken 170g\n",
       "3      Smiths Chip Thinly  S/Cream&Onion 175g\n",
       "4    Kettle Tortilla ChpsHny&Jlpno Chili 150g\n",
       "Name: PROD_NAME, dtype: object"
      ]
     },
     "execution_count": 18,
     "metadata": {},
     "output_type": "execute_result"
    }
   ],
   "source": [
    "#Let's move on to 'PROD_NAME' feature\n",
    "\n",
    "transaction_Data['PROD_NAME'].head()"
   ]
  },
  {
   "cell_type": "code",
   "execution_count": 19,
   "metadata": {},
   "outputs": [],
   "source": [
    "#Create text cleaning function for 'PROD_NAME' feature\n",
    "def clean_text(text):\n",
    "    text = re.sub('[&/]', ' ', text) # remove special characters '&'and '/'\n",
    "    text = re.sub('\\d\\w*', ' ', text) # remove product weights\n",
    "    return text\n",
    "\n",
    "#Apply text cleaning function to 'PROD_NAME' column\n",
    "transaction_Data['PROD_NAME'] = transaction_Data['PROD_NAME'].apply(clean_text)"
   ]
  },
  {
   "cell_type": "code",
   "execution_count": 20,
   "metadata": {},
   "outputs": [],
   "source": [
    "# Create one giant string and apply 'word_tokenize' to separate the words\n",
    "\n",
    "cleanProdName = transaction_Data['PROD_NAME']\n",
    "string = ''.join(cleanProdName)\n",
    "prodWord = word_tokenize(string)"
   ]
  },
  {
   "cell_type": "code",
   "execution_count": 21,
   "metadata": {},
   "outputs": [],
   "source": [
    "#Apply 'fdist' function which computes the frequency of each token and put it into a dataframe\n",
    "\n",
    "wordFrequency = fdist(prodWord)\n",
    "freq_df = pd.DataFrame(list(wordFrequency.items()), columns = [\"Word\", \"Frequency\"]).sort_values(by = 'Frequency', ascending = False)"
   ]
  },
  {
   "cell_type": "code",
   "execution_count": 22,
   "metadata": {},
   "outputs": [
    {
     "data": {
      "text/html": [
       "<div>\n",
       "<style scoped>\n",
       "    .dataframe tbody tr th:only-of-type {\n",
       "        vertical-align: middle;\n",
       "    }\n",
       "\n",
       "    .dataframe tbody tr th {\n",
       "        vertical-align: top;\n",
       "    }\n",
       "\n",
       "    .dataframe thead th {\n",
       "        text-align: right;\n",
       "    }\n",
       "</style>\n",
       "<table border=\"1\" class=\"dataframe\">\n",
       "  <thead>\n",
       "    <tr style=\"text-align: right;\">\n",
       "      <th></th>\n",
       "      <th>Word</th>\n",
       "      <th>Frequency</th>\n",
       "    </tr>\n",
       "  </thead>\n",
       "  <tbody>\n",
       "    <tr>\n",
       "      <th>10</th>\n",
       "      <td>Chips</td>\n",
       "      <td>49770</td>\n",
       "    </tr>\n",
       "    <tr>\n",
       "      <th>16</th>\n",
       "      <td>Kettle</td>\n",
       "      <td>40739</td>\n",
       "    </tr>\n",
       "    <tr>\n",
       "      <th>7</th>\n",
       "      <td>Smiths</td>\n",
       "      <td>28572</td>\n",
       "    </tr>\n",
       "    <tr>\n",
       "      <th>6</th>\n",
       "      <td>Cheese</td>\n",
       "      <td>27890</td>\n",
       "    </tr>\n",
       "    <tr>\n",
       "      <th>66</th>\n",
       "      <td>Pringles</td>\n",
       "      <td>24743</td>\n",
       "    </tr>\n",
       "  </tbody>\n",
       "</table>\n",
       "</div>"
      ],
      "text/plain": [
       "        Word  Frequency\n",
       "10     Chips      49770\n",
       "16    Kettle      40739\n",
       "7     Smiths      28572\n",
       "6     Cheese      27890\n",
       "66  Pringles      24743"
      ]
     },
     "execution_count": 22,
     "metadata": {},
     "output_type": "execute_result"
    }
   ],
   "source": [
    "#Let's see the top 5 most frequent words\n",
    "\n",
    "freq_df.head()"
   ]
  },
  {
   "cell_type": "code",
   "execution_count": 23,
   "metadata": {},
   "outputs": [],
   "source": [
    "# Drop rows with 'salsa' in PROD_NAME\n",
    "\n",
    "transaction_Data['PROD_NAME'] = transaction_Data['PROD_NAME'].apply(lambda x: x.lower())\n",
    "transaction_Data = transaction_Data[~transaction_Data['PROD_NAME'].str.contains(\"salsa\")]\n",
    "transaction_Data['PROD_NAME'] = transaction_Data['PROD_NAME'].apply(lambda x: x.title())"
   ]
  },
  {
   "cell_type": "code",
   "execution_count": 24,
   "metadata": {},
   "outputs": [
    {
     "data": {
      "text/html": [
       "<div>\n",
       "<style scoped>\n",
       "    .dataframe tbody tr th:only-of-type {\n",
       "        vertical-align: middle;\n",
       "    }\n",
       "\n",
       "    .dataframe tbody tr th {\n",
       "        vertical-align: top;\n",
       "    }\n",
       "\n",
       "    .dataframe thead th {\n",
       "        text-align: right;\n",
       "    }\n",
       "</style>\n",
       "<table border=\"1\" class=\"dataframe\">\n",
       "  <thead>\n",
       "    <tr style=\"text-align: right;\">\n",
       "      <th></th>\n",
       "      <th>DATE</th>\n",
       "      <th>STORE_NBR</th>\n",
       "      <th>LYLTY_CARD_NBR</th>\n",
       "      <th>TXN_ID</th>\n",
       "      <th>PROD_NBR</th>\n",
       "      <th>PROD_NAME</th>\n",
       "      <th>PROD_QTY</th>\n",
       "      <th>TOT_SALES</th>\n",
       "      <th>PACK_SIZE</th>\n",
       "    </tr>\n",
       "  </thead>\n",
       "  <tbody>\n",
       "    <tr>\n",
       "      <th>0</th>\n",
       "      <td>2018-10-17</td>\n",
       "      <td>1</td>\n",
       "      <td>1000</td>\n",
       "      <td>1</td>\n",
       "      <td>5</td>\n",
       "      <td>Natural Chip        Compny Seasalt</td>\n",
       "      <td>2</td>\n",
       "      <td>6.0</td>\n",
       "      <td>175</td>\n",
       "    </tr>\n",
       "    <tr>\n",
       "      <th>1</th>\n",
       "      <td>2019-05-14</td>\n",
       "      <td>1</td>\n",
       "      <td>1307</td>\n",
       "      <td>348</td>\n",
       "      <td>66</td>\n",
       "      <td>Ccs Nacho Cheese</td>\n",
       "      <td>3</td>\n",
       "      <td>6.3</td>\n",
       "      <td>175</td>\n",
       "    </tr>\n",
       "    <tr>\n",
       "      <th>2</th>\n",
       "      <td>2019-05-20</td>\n",
       "      <td>1</td>\n",
       "      <td>1343</td>\n",
       "      <td>383</td>\n",
       "      <td>61</td>\n",
       "      <td>Smiths Crinkle Cut  Chips Chicken</td>\n",
       "      <td>2</td>\n",
       "      <td>2.9</td>\n",
       "      <td>170</td>\n",
       "    </tr>\n",
       "    <tr>\n",
       "      <th>3</th>\n",
       "      <td>2018-08-17</td>\n",
       "      <td>2</td>\n",
       "      <td>2373</td>\n",
       "      <td>974</td>\n",
       "      <td>69</td>\n",
       "      <td>Smiths Chip Thinly  S Cream Onion</td>\n",
       "      <td>5</td>\n",
       "      <td>15.0</td>\n",
       "      <td>175</td>\n",
       "    </tr>\n",
       "    <tr>\n",
       "      <th>4</th>\n",
       "      <td>2018-08-18</td>\n",
       "      <td>2</td>\n",
       "      <td>2426</td>\n",
       "      <td>1038</td>\n",
       "      <td>108</td>\n",
       "      <td>Kettle Tortilla Chpshny Jlpno Chili</td>\n",
       "      <td>3</td>\n",
       "      <td>13.8</td>\n",
       "      <td>150</td>\n",
       "    </tr>\n",
       "  </tbody>\n",
       "</table>\n",
       "</div>"
      ],
      "text/plain": [
       "        DATE  STORE_NBR  LYLTY_CARD_NBR  TXN_ID  PROD_NBR  \\\n",
       "0 2018-10-17          1            1000       1         5   \n",
       "1 2019-05-14          1            1307     348        66   \n",
       "2 2019-05-20          1            1343     383        61   \n",
       "3 2018-08-17          2            2373     974        69   \n",
       "4 2018-08-18          2            2426    1038       108   \n",
       "\n",
       "                               PROD_NAME  PROD_QTY  TOT_SALES  PACK_SIZE  \n",
       "0    Natural Chip        Compny Seasalt          2        6.0        175  \n",
       "1                  Ccs Nacho Cheese              3        6.3        175  \n",
       "2    Smiths Crinkle Cut  Chips Chicken           2        2.9        170  \n",
       "3    Smiths Chip Thinly  S Cream Onion           5       15.0        175  \n",
       "4  Kettle Tortilla Chpshny Jlpno Chili           3       13.8        150  "
      ]
     },
     "execution_count": 24,
     "metadata": {},
     "output_type": "execute_result"
    }
   ],
   "source": [
    "#Let's have a look at our data table again\n",
    "\n",
    "transaction_Data.head()"
   ]
  },
  {
   "cell_type": "code",
   "execution_count": 25,
   "metadata": {},
   "outputs": [
    {
     "data": {
      "text/plain": [
       "2      220070\n",
       "1       25476\n",
       "5         415\n",
       "3         408\n",
       "4         371\n",
       "200         2\n",
       "Name: PROD_QTY, dtype: int64"
      ]
     },
     "execution_count": 25,
     "metadata": {},
     "output_type": "execute_result"
    }
   ],
   "source": [
    "#We shall explore 'PROD_QTY' and 'TOT_SALES' feature\n",
    "\n",
    "transaction_Data['PROD_QTY'].value_counts()\n",
    "\n",
    "#Max of 200 looks odd"
   ]
  },
  {
   "cell_type": "code",
   "execution_count": 26,
   "metadata": {},
   "outputs": [
    {
     "data": {
      "text/html": [
       "<div>\n",
       "<style scoped>\n",
       "    .dataframe tbody tr th:only-of-type {\n",
       "        vertical-align: middle;\n",
       "    }\n",
       "\n",
       "    .dataframe tbody tr th {\n",
       "        vertical-align: top;\n",
       "    }\n",
       "\n",
       "    .dataframe thead th {\n",
       "        text-align: right;\n",
       "    }\n",
       "</style>\n",
       "<table border=\"1\" class=\"dataframe\">\n",
       "  <thead>\n",
       "    <tr style=\"text-align: right;\">\n",
       "      <th></th>\n",
       "      <th>DATE</th>\n",
       "      <th>STORE_NBR</th>\n",
       "      <th>LYLTY_CARD_NBR</th>\n",
       "      <th>TXN_ID</th>\n",
       "      <th>PROD_NBR</th>\n",
       "      <th>PROD_NAME</th>\n",
       "      <th>PROD_QTY</th>\n",
       "      <th>TOT_SALES</th>\n",
       "      <th>PACK_SIZE</th>\n",
       "    </tr>\n",
       "  </thead>\n",
       "  <tbody>\n",
       "    <tr>\n",
       "      <th>69762</th>\n",
       "      <td>2018-08-19</td>\n",
       "      <td>226</td>\n",
       "      <td>226000</td>\n",
       "      <td>226201</td>\n",
       "      <td>4</td>\n",
       "      <td>Dorito Corn Chp     Supreme</td>\n",
       "      <td>200</td>\n",
       "      <td>650.0</td>\n",
       "      <td>380</td>\n",
       "    </tr>\n",
       "    <tr>\n",
       "      <th>69763</th>\n",
       "      <td>2019-05-20</td>\n",
       "      <td>226</td>\n",
       "      <td>226000</td>\n",
       "      <td>226210</td>\n",
       "      <td>4</td>\n",
       "      <td>Dorito Corn Chp     Supreme</td>\n",
       "      <td>200</td>\n",
       "      <td>650.0</td>\n",
       "      <td>380</td>\n",
       "    </tr>\n",
       "  </tbody>\n",
       "</table>\n",
       "</div>"
      ],
      "text/plain": [
       "            DATE  STORE_NBR  LYLTY_CARD_NBR  TXN_ID  PROD_NBR  \\\n",
       "69762 2018-08-19        226          226000  226201         4   \n",
       "69763 2019-05-20        226          226000  226210         4   \n",
       "\n",
       "                           PROD_NAME  PROD_QTY  TOT_SALES  PACK_SIZE  \n",
       "69762  Dorito Corn Chp     Supreme         200      650.0        380  \n",
       "69763  Dorito Corn Chp     Supreme         200      650.0        380  "
      ]
     },
     "execution_count": 26,
     "metadata": {},
     "output_type": "execute_result"
    }
   ],
   "source": [
    "#We have two occurences of 200 in the dataset\n",
    "#Let's explore further\n",
    "\n",
    "transaction_Data.loc[transaction_Data['PROD_QTY'] == 200, :]"
   ]
  },
  {
   "cell_type": "code",
   "execution_count": 27,
   "metadata": {},
   "outputs": [
    {
     "data": {
      "text/html": [
       "<div>\n",
       "<style scoped>\n",
       "    .dataframe tbody tr th:only-of-type {\n",
       "        vertical-align: middle;\n",
       "    }\n",
       "\n",
       "    .dataframe tbody tr th {\n",
       "        vertical-align: top;\n",
       "    }\n",
       "\n",
       "    .dataframe thead th {\n",
       "        text-align: right;\n",
       "    }\n",
       "</style>\n",
       "<table border=\"1\" class=\"dataframe\">\n",
       "  <thead>\n",
       "    <tr style=\"text-align: right;\">\n",
       "      <th></th>\n",
       "      <th>DATE</th>\n",
       "      <th>STORE_NBR</th>\n",
       "      <th>LYLTY_CARD_NBR</th>\n",
       "      <th>TXN_ID</th>\n",
       "      <th>PROD_NBR</th>\n",
       "      <th>PROD_NAME</th>\n",
       "      <th>PROD_QTY</th>\n",
       "      <th>TOT_SALES</th>\n",
       "      <th>PACK_SIZE</th>\n",
       "    </tr>\n",
       "  </thead>\n",
       "  <tbody>\n",
       "    <tr>\n",
       "      <th>69762</th>\n",
       "      <td>2018-08-19</td>\n",
       "      <td>226</td>\n",
       "      <td>226000</td>\n",
       "      <td>226201</td>\n",
       "      <td>4</td>\n",
       "      <td>Dorito Corn Chp     Supreme</td>\n",
       "      <td>200</td>\n",
       "      <td>650.0</td>\n",
       "      <td>380</td>\n",
       "    </tr>\n",
       "    <tr>\n",
       "      <th>69763</th>\n",
       "      <td>2019-05-20</td>\n",
       "      <td>226</td>\n",
       "      <td>226000</td>\n",
       "      <td>226210</td>\n",
       "      <td>4</td>\n",
       "      <td>Dorito Corn Chp     Supreme</td>\n",
       "      <td>200</td>\n",
       "      <td>650.0</td>\n",
       "      <td>380</td>\n",
       "    </tr>\n",
       "  </tbody>\n",
       "</table>\n",
       "</div>"
      ],
      "text/plain": [
       "            DATE  STORE_NBR  LYLTY_CARD_NBR  TXN_ID  PROD_NBR  \\\n",
       "69762 2018-08-19        226          226000  226201         4   \n",
       "69763 2019-05-20        226          226000  226210         4   \n",
       "\n",
       "                           PROD_NAME  PROD_QTY  TOT_SALES  PACK_SIZE  \n",
       "69762  Dorito Corn Chp     Supreme         200      650.0        380  \n",
       "69763  Dorito Corn Chp     Supreme         200      650.0        380  "
      ]
     },
     "execution_count": 27,
     "metadata": {},
     "output_type": "execute_result"
    }
   ],
   "source": [
    "#Both these transaction have been made by the same person at the same store\n",
    "#Let's see all the transactions this person has made by tracking his loyalty card number '226000'\n",
    "\n",
    "transaction_Data.loc[transaction_Data['LYLTY_CARD_NBR'] == 226000, :]"
   ]
  },
  {
   "cell_type": "code",
   "execution_count": 28,
   "metadata": {},
   "outputs": [],
   "source": [
    "#This person only made two transactions over the entire year so unlikely to be a retail customer\n",
    "#He or she is most likely purchasing for commercial purposes\n",
    "#Safe to drop this customer in both 'transaction_Data' and 'customer_Data' dataset\n",
    "\n",
    "transaction_Data.drop(transaction_Data.index[transaction_Data['LYLTY_CARD_NBR'] == 226000], inplace = True)\n",
    "customerPB_Data.drop(customerPB_Data.index[customerPB_Data['LYLTY_CARD_NBR'] == 226000], inplace = True)"
   ]
  },
  {
   "cell_type": "code",
   "execution_count": 29,
   "metadata": {},
   "outputs": [
    {
     "data": {
      "text/html": [
       "<div>\n",
       "<style scoped>\n",
       "    .dataframe tbody tr th:only-of-type {\n",
       "        vertical-align: middle;\n",
       "    }\n",
       "\n",
       "    .dataframe tbody tr th {\n",
       "        vertical-align: top;\n",
       "    }\n",
       "\n",
       "    .dataframe thead th {\n",
       "        text-align: right;\n",
       "    }\n",
       "</style>\n",
       "<table border=\"1\" class=\"dataframe\">\n",
       "  <thead>\n",
       "    <tr style=\"text-align: right;\">\n",
       "      <th></th>\n",
       "      <th>DATE</th>\n",
       "      <th>STORE_NBR</th>\n",
       "      <th>LYLTY_CARD_NBR</th>\n",
       "      <th>TXN_ID</th>\n",
       "      <th>PROD_NBR</th>\n",
       "      <th>PROD_NAME</th>\n",
       "      <th>PROD_QTY</th>\n",
       "      <th>TOT_SALES</th>\n",
       "      <th>PACK_SIZE</th>\n",
       "    </tr>\n",
       "  </thead>\n",
       "  <tbody>\n",
       "  </tbody>\n",
       "</table>\n",
       "</div>"
      ],
      "text/plain": [
       "Empty DataFrame\n",
       "Columns: [DATE, STORE_NBR, LYLTY_CARD_NBR, TXN_ID, PROD_NBR, PROD_NAME, PROD_QTY, TOT_SALES, PACK_SIZE]\n",
       "Index: []"
      ]
     },
     "execution_count": 29,
     "metadata": {},
     "output_type": "execute_result"
    }
   ],
   "source": [
    "#Make sure it has been dropped\n",
    "\n",
    "transaction_Data.loc[transaction_Data['LYLTY_CARD_NBR'] == 226000]"
   ]
  },
  {
   "cell_type": "code",
   "execution_count": 30,
   "metadata": {},
   "outputs": [
    {
     "data": {
      "text/plain": [
       "364"
      ]
     },
     "execution_count": 30,
     "metadata": {},
     "output_type": "execute_result"
    }
   ],
   "source": [
    "#Now let's examine the number of transactions over time to see if there are any bvious data issues e.g. missing data\n",
    "\n",
    "transaction_Data['DATE'].nunique()"
   ]
  },
  {
   "cell_type": "code",
   "execution_count": 31,
   "metadata": {},
   "outputs": [
    {
     "data": {
      "text/plain": [
       "DatetimeIndex(['2018-12-25'], dtype='datetime64[ns]', freq=None)"
      ]
     },
     "execution_count": 31,
     "metadata": {},
     "output_type": "execute_result"
    }
   ],
   "source": [
    "#Look for the missing date\n",
    "#Turns out that it was Christmas Day so it makes sense because most retail stores are closed on that day\n",
    "\n",
    "pd.date_range(start = '2018-07-01', end = '2019-06-30').difference(transaction_Data['DATE'])"
   ]
  },
  {
   "cell_type": "code",
   "execution_count": 32,
   "metadata": {},
   "outputs": [
    {
     "data": {
      "text/html": [
       "<div>\n",
       "<style scoped>\n",
       "    .dataframe tbody tr th:only-of-type {\n",
       "        vertical-align: middle;\n",
       "    }\n",
       "\n",
       "    .dataframe tbody tr th {\n",
       "        vertical-align: top;\n",
       "    }\n",
       "\n",
       "    .dataframe thead th {\n",
       "        text-align: right;\n",
       "    }\n",
       "</style>\n",
       "<table border=\"1\" class=\"dataframe\">\n",
       "  <thead>\n",
       "    <tr style=\"text-align: right;\">\n",
       "      <th></th>\n",
       "      <th>TOT_SALES</th>\n",
       "    </tr>\n",
       "    <tr>\n",
       "      <th>DATE</th>\n",
       "      <th></th>\n",
       "    </tr>\n",
       "  </thead>\n",
       "  <tbody>\n",
       "    <tr>\n",
       "      <th>2018-07-01</th>\n",
       "      <td>4920.1</td>\n",
       "    </tr>\n",
       "    <tr>\n",
       "      <th>2018-07-02</th>\n",
       "      <td>4877.0</td>\n",
       "    </tr>\n",
       "    <tr>\n",
       "      <th>2018-07-03</th>\n",
       "      <td>4954.7</td>\n",
       "    </tr>\n",
       "    <tr>\n",
       "      <th>2018-07-04</th>\n",
       "      <td>4968.1</td>\n",
       "    </tr>\n",
       "    <tr>\n",
       "      <th>2018-07-05</th>\n",
       "      <td>4682.0</td>\n",
       "    </tr>\n",
       "  </tbody>\n",
       "</table>\n",
       "</div>"
      ],
      "text/plain": [
       "            TOT_SALES\n",
       "DATE                 \n",
       "2018-07-01     4920.1\n",
       "2018-07-02     4877.0\n",
       "2018-07-03     4954.7\n",
       "2018-07-04     4968.1\n",
       "2018-07-05     4682.0"
      ]
     },
     "execution_count": 32,
     "metadata": {},
     "output_type": "execute_result"
    }
   ],
   "source": [
    "#Create a new dataframe which contains the total sale for each date\n",
    "\n",
    "a = pd.pivot_table(transaction_Data, values = 'TOT_SALES', index = 'DATE', aggfunc = 'sum')\n",
    "a.head()"
   ]
  },
  {
   "cell_type": "code",
   "execution_count": 33,
   "metadata": {},
   "outputs": [
    {
     "data": {
      "text/html": [
       "<div>\n",
       "<style scoped>\n",
       "    .dataframe tbody tr th:only-of-type {\n",
       "        vertical-align: middle;\n",
       "    }\n",
       "\n",
       "    .dataframe tbody tr th {\n",
       "        vertical-align: top;\n",
       "    }\n",
       "\n",
       "    .dataframe thead th {\n",
       "        text-align: right;\n",
       "    }\n",
       "</style>\n",
       "<table border=\"1\" class=\"dataframe\">\n",
       "  <thead>\n",
       "    <tr style=\"text-align: right;\">\n",
       "      <th></th>\n",
       "      <th>TOT_SALES</th>\n",
       "    </tr>\n",
       "  </thead>\n",
       "  <tbody>\n",
       "    <tr>\n",
       "      <th>2018-07-01</th>\n",
       "      <td>0</td>\n",
       "    </tr>\n",
       "    <tr>\n",
       "      <th>2018-07-02</th>\n",
       "      <td>0</td>\n",
       "    </tr>\n",
       "    <tr>\n",
       "      <th>2018-07-03</th>\n",
       "      <td>0</td>\n",
       "    </tr>\n",
       "    <tr>\n",
       "      <th>2018-07-04</th>\n",
       "      <td>0</td>\n",
       "    </tr>\n",
       "    <tr>\n",
       "      <th>2018-07-05</th>\n",
       "      <td>0</td>\n",
       "    </tr>\n",
       "  </tbody>\n",
       "</table>\n",
       "</div>"
      ],
      "text/plain": [
       "            TOT_SALES\n",
       "2018-07-01          0\n",
       "2018-07-02          0\n",
       "2018-07-03          0\n",
       "2018-07-04          0\n",
       "2018-07-05          0"
      ]
     },
     "execution_count": 33,
     "metadata": {},
     "output_type": "execute_result"
    }
   ],
   "source": [
    "b = pd.DataFrame(index = pd.date_range(start = '2018-07-01', end = '2019-06-30'))\n",
    "b['TOT_SALES'] = 0\n",
    "b.head()"
   ]
  },
  {
   "cell_type": "code",
   "execution_count": 34,
   "metadata": {},
   "outputs": [
    {
     "data": {
      "text/html": [
       "<div>\n",
       "<style scoped>\n",
       "    .dataframe tbody tr th:only-of-type {\n",
       "        vertical-align: middle;\n",
       "    }\n",
       "\n",
       "    .dataframe tbody tr th {\n",
       "        vertical-align: top;\n",
       "    }\n",
       "\n",
       "    .dataframe thead th {\n",
       "        text-align: right;\n",
       "    }\n",
       "</style>\n",
       "<table border=\"1\" class=\"dataframe\">\n",
       "  <thead>\n",
       "    <tr style=\"text-align: right;\">\n",
       "      <th></th>\n",
       "      <th>TOT_SALES</th>\n",
       "    </tr>\n",
       "  </thead>\n",
       "  <tbody>\n",
       "    <tr>\n",
       "      <th>2018-07-01</th>\n",
       "      <td>4920.1</td>\n",
       "    </tr>\n",
       "    <tr>\n",
       "      <th>2018-07-02</th>\n",
       "      <td>4877.0</td>\n",
       "    </tr>\n",
       "    <tr>\n",
       "      <th>2018-07-03</th>\n",
       "      <td>4954.7</td>\n",
       "    </tr>\n",
       "    <tr>\n",
       "      <th>2018-07-04</th>\n",
       "      <td>4968.1</td>\n",
       "    </tr>\n",
       "    <tr>\n",
       "      <th>2018-07-05</th>\n",
       "      <td>4682.0</td>\n",
       "    </tr>\n",
       "  </tbody>\n",
       "</table>\n",
       "</div>"
      ],
      "text/plain": [
       "            TOT_SALES\n",
       "2018-07-01     4920.1\n",
       "2018-07-02     4877.0\n",
       "2018-07-03     4954.7\n",
       "2018-07-04     4968.1\n",
       "2018-07-05     4682.0"
      ]
     },
     "execution_count": 34,
     "metadata": {},
     "output_type": "execute_result"
    }
   ],
   "source": [
    "c = a+b\n",
    "c.fillna(0, inplace = True)\n",
    "c.head()"
   ]
  },
  {
   "cell_type": "code",
   "execution_count": 35,
   "metadata": {},
   "outputs": [
    {
     "data": {
      "text/html": [
       "<div>\n",
       "<style scoped>\n",
       "    .dataframe tbody tr th:only-of-type {\n",
       "        vertical-align: middle;\n",
       "    }\n",
       "\n",
       "    .dataframe tbody tr th {\n",
       "        vertical-align: top;\n",
       "    }\n",
       "\n",
       "    .dataframe thead th {\n",
       "        text-align: right;\n",
       "    }\n",
       "</style>\n",
       "<table border=\"1\" class=\"dataframe\">\n",
       "  <thead>\n",
       "    <tr style=\"text-align: right;\">\n",
       "      <th></th>\n",
       "      <th>Total Sales</th>\n",
       "    </tr>\n",
       "    <tr>\n",
       "      <th>Date</th>\n",
       "      <th></th>\n",
       "    </tr>\n",
       "  </thead>\n",
       "  <tbody>\n",
       "    <tr>\n",
       "      <th>2018-07-01</th>\n",
       "      <td>4920.1</td>\n",
       "    </tr>\n",
       "    <tr>\n",
       "      <th>2018-07-02</th>\n",
       "      <td>4877.0</td>\n",
       "    </tr>\n",
       "    <tr>\n",
       "      <th>2018-07-03</th>\n",
       "      <td>4954.7</td>\n",
       "    </tr>\n",
       "    <tr>\n",
       "      <th>2018-07-04</th>\n",
       "      <td>4968.1</td>\n",
       "    </tr>\n",
       "    <tr>\n",
       "      <th>2018-07-05</th>\n",
       "      <td>4682.0</td>\n",
       "    </tr>\n",
       "  </tbody>\n",
       "</table>\n",
       "</div>"
      ],
      "text/plain": [
       "            Total Sales\n",
       "Date                   \n",
       "2018-07-01       4920.1\n",
       "2018-07-02       4877.0\n",
       "2018-07-03       4954.7\n",
       "2018-07-04       4968.1\n",
       "2018-07-05       4682.0"
      ]
     },
     "execution_count": 35,
     "metadata": {},
     "output_type": "execute_result"
    }
   ],
   "source": [
    "c.index.name = 'Date'\n",
    "c.rename(columns = {'TOT_SALES': 'Total Sales'}, inplace = True)\n",
    "c.head()"
   ]
  },
  {
   "cell_type": "code",
   "execution_count": 36,
   "metadata": {},
   "outputs": [
    {
     "data": {
      "image/png": "[encoded data removed]",
      "text/plain": [
       "<Figure size 720x360 with 1 Axes>"
      ]
     },
     "metadata": {
      "needs_background": "light"
     },
     "output_type": "display_data"
    }
   ],
   "source": [
    "timeline = c.index\n",
    "graph = c['Total Sales']\n",
    "\n",
    "fig, ax = plt.subplots(figsize = (10, 5))\n",
    "ax.plot(timeline, graph)\n",
    "\n",
    "date_form = DateFormatter(\"%Y-%m\")\n",
    "ax.xaxis.set_major_formatter(date_form)\n",
    "plt.title('Total Sales from July 2018 to June 2019')\n",
    "plt.xlabel('Time')\n",
    "plt.ylabel('Total Sales')\n",
    "\n",
    "plt.show()\n",
    "\n",
    "#Comment: We can see that sales spike up during the December month and zero sale on Christmas\n"
   ]
  },
  {
   "cell_type": "code",
   "execution_count": 37,
   "metadata": {},
   "outputs": [
    {
     "data": {
      "text/html": [
       "<div>\n",
       "<style scoped>\n",
       "    .dataframe tbody tr th:only-of-type {\n",
       "        vertical-align: middle;\n",
       "    }\n",
       "\n",
       "    .dataframe tbody tr th {\n",
       "        vertical-align: top;\n",
       "    }\n",
       "\n",
       "    .dataframe thead th {\n",
       "        text-align: right;\n",
       "    }\n",
       "</style>\n",
       "<table border=\"1\" class=\"dataframe\">\n",
       "  <thead>\n",
       "    <tr style=\"text-align: right;\">\n",
       "      <th></th>\n",
       "      <th>Total Sales</th>\n",
       "    </tr>\n",
       "    <tr>\n",
       "      <th>Date</th>\n",
       "      <th></th>\n",
       "    </tr>\n",
       "  </thead>\n",
       "  <tbody>\n",
       "    <tr>\n",
       "      <th>2018-12-25</th>\n",
       "      <td>0.0</td>\n",
       "    </tr>\n",
       "  </tbody>\n",
       "</table>\n",
       "</div>"
      ],
      "text/plain": [
       "            Total Sales\n",
       "Date                   \n",
       "2018-12-25          0.0"
      ]
     },
     "execution_count": 37,
     "metadata": {},
     "output_type": "execute_result"
    }
   ],
   "source": [
    "#Confirm the date where sales count equals to zero\n",
    "\n",
    "c[c['Total Sales'] == 0]\n",
    "\n",
    "#It is indeed Christmas Day"
   ]
  },
  {
   "cell_type": "code",
   "execution_count": 38,
   "metadata": {},
   "outputs": [
    {
     "data": {
      "text/html": [
       "<div>\n",
       "<style scoped>\n",
       "    .dataframe tbody tr th:only-of-type {\n",
       "        vertical-align: middle;\n",
       "    }\n",
       "\n",
       "    .dataframe tbody tr th {\n",
       "        vertical-align: top;\n",
       "    }\n",
       "\n",
       "    .dataframe thead th {\n",
       "        text-align: right;\n",
       "    }\n",
       "</style>\n",
       "<table border=\"1\" class=\"dataframe\">\n",
       "  <thead>\n",
       "    <tr style=\"text-align: right;\">\n",
       "      <th></th>\n",
       "      <th>Total Sales</th>\n",
       "    </tr>\n",
       "    <tr>\n",
       "      <th>Date</th>\n",
       "      <th></th>\n",
       "    </tr>\n",
       "  </thead>\n",
       "  <tbody>\n",
       "    <tr>\n",
       "      <th>2018-12-01</th>\n",
       "      <td>5000.9</td>\n",
       "    </tr>\n",
       "    <tr>\n",
       "      <th>2018-12-02</th>\n",
       "      <td>4781.1</td>\n",
       "    </tr>\n",
       "    <tr>\n",
       "      <th>2018-12-03</th>\n",
       "      <td>4927.0</td>\n",
       "    </tr>\n",
       "    <tr>\n",
       "      <th>2018-12-04</th>\n",
       "      <td>4869.4</td>\n",
       "    </tr>\n",
       "    <tr>\n",
       "      <th>2018-12-05</th>\n",
       "      <td>4900.5</td>\n",
       "    </tr>\n",
       "  </tbody>\n",
       "</table>\n",
       "</div>"
      ],
      "text/plain": [
       "            Total Sales\n",
       "Date                   \n",
       "2018-12-01       5000.9\n",
       "2018-12-02       4781.1\n",
       "2018-12-03       4927.0\n",
       "2018-12-04       4869.4\n",
       "2018-12-05       4900.5"
      ]
     },
     "execution_count": 38,
     "metadata": {},
     "output_type": "execute_result"
    }
   ],
   "source": [
    "#Let's look at the December month only\n",
    "\n",
    "c_december = c[(c.index < \"2019-01-01\") & (c.index > \"2018-11-30\")]\n",
    "c_december.head()"
   ]
  },
  {
   "cell_type": "code",
   "execution_count": 39,
   "metadata": {},
   "outputs": [
    {
     "data": {
      "text/plain": [
       "Text(0.5, 1.0, 'Total Sales in December')"
      ]
     },
     "execution_count": 39,
     "metadata": {},
     "output_type": "execute_result"
    },
    {
     "data": {
      "image/png": "[encoded data removed]",
      "text/plain": [
       "<Figure size 1080x360 with 1 Axes>"
      ]
     },
     "metadata": {
      "needs_background": "light"
     },
     "output_type": "display_data"
    }
   ],
   "source": [
    "plt.figure(figsize = (15, 5))\n",
    "plt.plot(c_december)\n",
    "plt.xlabel('Date')\n",
    "plt.ylabel('Total Sales')\n",
    "plt.title('Total Sales in December')"
   ]
  },
  {
   "cell_type": "code",
   "execution_count": 40,
   "metadata": {},
   "outputs": [
    {
     "data": {
      "text/html": [
       "<div>\n",
       "<style scoped>\n",
       "    .dataframe tbody tr th:only-of-type {\n",
       "        vertical-align: middle;\n",
       "    }\n",
       "\n",
       "    .dataframe tbody tr th {\n",
       "        vertical-align: top;\n",
       "    }\n",
       "\n",
       "    .dataframe thead th {\n",
       "        text-align: right;\n",
       "    }\n",
       "</style>\n",
       "<table border=\"1\" class=\"dataframe\">\n",
       "  <thead>\n",
       "    <tr style=\"text-align: right;\">\n",
       "      <th></th>\n",
       "      <th>Total Sales</th>\n",
       "    </tr>\n",
       "  </thead>\n",
       "  <tbody>\n",
       "    <tr>\n",
       "      <th>0</th>\n",
       "      <td>5000.9</td>\n",
       "    </tr>\n",
       "    <tr>\n",
       "      <th>1</th>\n",
       "      <td>4781.1</td>\n",
       "    </tr>\n",
       "    <tr>\n",
       "      <th>2</th>\n",
       "      <td>4927.0</td>\n",
       "    </tr>\n",
       "    <tr>\n",
       "      <th>3</th>\n",
       "      <td>4869.4</td>\n",
       "    </tr>\n",
       "    <tr>\n",
       "      <th>4</th>\n",
       "      <td>4900.5</td>\n",
       "    </tr>\n",
       "  </tbody>\n",
       "</table>\n",
       "</div>"
      ],
      "text/plain": [
       "   Total Sales\n",
       "0       5000.9\n",
       "1       4781.1\n",
       "2       4927.0\n",
       "3       4869.4\n",
       "4       4900.5"
      ]
     },
     "execution_count": 40,
     "metadata": {},
     "output_type": "execute_result"
    }
   ],
   "source": [
    "#Reset index for 'c_december'\n",
    "\n",
    "c_december.reset_index(drop = True, inplace = True)\n",
    "c_december.head()"
   ]
  },
  {
   "cell_type": "code",
   "execution_count": 41,
   "metadata": {},
   "outputs": [
    {
     "data": {
      "text/html": [
       "<div>\n",
       "<style scoped>\n",
       "    .dataframe tbody tr th:only-of-type {\n",
       "        vertical-align: middle;\n",
       "    }\n",
       "\n",
       "    .dataframe tbody tr th {\n",
       "        vertical-align: top;\n",
       "    }\n",
       "\n",
       "    .dataframe thead th {\n",
       "        text-align: right;\n",
       "    }\n",
       "</style>\n",
       "<table border=\"1\" class=\"dataframe\">\n",
       "  <thead>\n",
       "    <tr style=\"text-align: right;\">\n",
       "      <th></th>\n",
       "      <th>Total Sales</th>\n",
       "      <th>Date</th>\n",
       "    </tr>\n",
       "  </thead>\n",
       "  <tbody>\n",
       "    <tr>\n",
       "      <th>0</th>\n",
       "      <td>5000.9</td>\n",
       "      <td>1</td>\n",
       "    </tr>\n",
       "    <tr>\n",
       "      <th>1</th>\n",
       "      <td>4781.1</td>\n",
       "      <td>2</td>\n",
       "    </tr>\n",
       "    <tr>\n",
       "      <th>2</th>\n",
       "      <td>4927.0</td>\n",
       "      <td>3</td>\n",
       "    </tr>\n",
       "    <tr>\n",
       "      <th>3</th>\n",
       "      <td>4869.4</td>\n",
       "      <td>4</td>\n",
       "    </tr>\n",
       "    <tr>\n",
       "      <th>4</th>\n",
       "      <td>4900.5</td>\n",
       "      <td>5</td>\n",
       "    </tr>\n",
       "  </tbody>\n",
       "</table>\n",
       "</div>"
      ],
      "text/plain": [
       "   Total Sales  Date\n",
       "0       5000.9     1\n",
       "1       4781.1     2\n",
       "2       4927.0     3\n",
       "3       4869.4     4\n",
       "4       4900.5     5"
      ]
     },
     "execution_count": 41,
     "metadata": {},
     "output_type": "execute_result"
    }
   ],
   "source": [
    "#Relabel 'Date'\n",
    "\n",
    "c_december['Date'] = c_december.index + 1\n",
    "c_december.head()"
   ]
  },
  {
   "cell_type": "code",
   "execution_count": 42,
   "metadata": {},
   "outputs": [
    {
     "data": {
      "text/plain": [
       "<matplotlib.axes._subplots.AxesSubplot at 0x259a58c9630>"
      ]
     },
     "execution_count": 42,
     "metadata": {},
     "output_type": "execute_result"
    },
    {
     "data": {
      "image/png": "[encoded data removed]",
      "text/plain": [
       "<Figure size 1080x360 with 1 Axes>"
      ]
     },
     "metadata": {
      "needs_background": "light"
     },
     "output_type": "display_data"
    }
   ],
   "source": [
    "plt.figure(figsize = (15, 5))\n",
    "sns.barplot(x = 'Date', y = 'Total Sales', data = c_december)\n",
    "\n",
    "#Comment: No Sales on Christmas Day (2018-12-25)"
   ]
  },
  {
   "cell_type": "code",
   "execution_count": 43,
   "metadata": {},
   "outputs": [
    {
     "data": {
      "text/plain": [
       "0    175\n",
       "1    175\n",
       "2    170\n",
       "3    175\n",
       "4    150\n",
       "Name: PACK_SIZE, dtype: int64"
      ]
     },
     "execution_count": 43,
     "metadata": {},
     "output_type": "execute_result"
    }
   ],
   "source": [
    "#Now that we are satisfied that the data no longer has outliers\n",
    "#We can move on to creating other features\n",
    "#At the beginning, we have already created a 'pack_size' feature\n",
    "#Let's have a look again\n",
    "\n",
    "transaction_Data['PACK_SIZE'].head()"
   ]
  },
  {
   "cell_type": "code",
   "execution_count": 44,
   "metadata": {},
   "outputs": [
    {
     "data": {
      "text/plain": [
       "array([175, 170, 150, 330, 210, 270, 220, 125, 110, 134, 380, 180, 165,\n",
       "       135, 250, 200, 160, 190,  90,  70], dtype=int64)"
      ]
     },
     "execution_count": 44,
     "metadata": {},
     "output_type": "execute_result"
    }
   ],
   "source": [
    "transaction_Data['PACK_SIZE'].unique()\n",
    "\n",
    "#Comment: the largest size is 380g and the smallest size is 70g which seems reasonable"
   ]
  },
  {
   "cell_type": "code",
   "execution_count": 45,
   "metadata": {},
   "outputs": [
    {
     "data": {
      "text/plain": [
       "<matplotlib.axes._subplots.AxesSubplot at 0x259a8ceea20>"
      ]
     },
     "execution_count": 45,
     "metadata": {},
     "output_type": "execute_result"
    },
    {
     "data": {
      "image/png": "[encoded data removed]",
      "text/plain": [
       "<Figure size 432x288 with 1 Axes>"
      ]
     },
     "metadata": {
      "needs_background": "light"
     },
     "output_type": "display_data"
    }
   ],
   "source": [
    "#Check the distribution of 'PACK_SIZE'\n",
    "\n",
    "transaction_Data['PACK_SIZE'].hist()"
   ]
  },
  {
   "cell_type": "code",
   "execution_count": 46,
   "metadata": {},
   "outputs": [
    {
     "data": {
      "text/html": [
       "<div>\n",
       "<style scoped>\n",
       "    .dataframe tbody tr th:only-of-type {\n",
       "        vertical-align: middle;\n",
       "    }\n",
       "\n",
       "    .dataframe tbody tr th {\n",
       "        vertical-align: top;\n",
       "    }\n",
       "\n",
       "    .dataframe thead th {\n",
       "        text-align: right;\n",
       "    }\n",
       "</style>\n",
       "<table border=\"1\" class=\"dataframe\">\n",
       "  <thead>\n",
       "    <tr style=\"text-align: right;\">\n",
       "      <th></th>\n",
       "      <th>DATE</th>\n",
       "      <th>STORE_NBR</th>\n",
       "      <th>LYLTY_CARD_NBR</th>\n",
       "      <th>TXN_ID</th>\n",
       "      <th>PROD_NBR</th>\n",
       "      <th>PROD_NAME</th>\n",
       "      <th>PROD_QTY</th>\n",
       "      <th>TOT_SALES</th>\n",
       "      <th>PACK_SIZE</th>\n",
       "      <th>BRAND</th>\n",
       "    </tr>\n",
       "  </thead>\n",
       "  <tbody>\n",
       "    <tr>\n",
       "      <th>0</th>\n",
       "      <td>2018-10-17</td>\n",
       "      <td>1</td>\n",
       "      <td>1000</td>\n",
       "      <td>1</td>\n",
       "      <td>5</td>\n",
       "      <td>Natural Chip        Compny Seasalt</td>\n",
       "      <td>2</td>\n",
       "      <td>6.0</td>\n",
       "      <td>175</td>\n",
       "      <td>Natural</td>\n",
       "    </tr>\n",
       "    <tr>\n",
       "      <th>1</th>\n",
       "      <td>2019-05-14</td>\n",
       "      <td>1</td>\n",
       "      <td>1307</td>\n",
       "      <td>348</td>\n",
       "      <td>66</td>\n",
       "      <td>Ccs Nacho Cheese</td>\n",
       "      <td>3</td>\n",
       "      <td>6.3</td>\n",
       "      <td>175</td>\n",
       "      <td>Ccs</td>\n",
       "    </tr>\n",
       "    <tr>\n",
       "      <th>2</th>\n",
       "      <td>2019-05-20</td>\n",
       "      <td>1</td>\n",
       "      <td>1343</td>\n",
       "      <td>383</td>\n",
       "      <td>61</td>\n",
       "      <td>Smiths Crinkle Cut  Chips Chicken</td>\n",
       "      <td>2</td>\n",
       "      <td>2.9</td>\n",
       "      <td>170</td>\n",
       "      <td>Smiths</td>\n",
       "    </tr>\n",
       "    <tr>\n",
       "      <th>3</th>\n",
       "      <td>2018-08-17</td>\n",
       "      <td>2</td>\n",
       "      <td>2373</td>\n",
       "      <td>974</td>\n",
       "      <td>69</td>\n",
       "      <td>Smiths Chip Thinly  S Cream Onion</td>\n",
       "      <td>5</td>\n",
       "      <td>15.0</td>\n",
       "      <td>175</td>\n",
       "      <td>Smiths</td>\n",
       "    </tr>\n",
       "    <tr>\n",
       "      <th>4</th>\n",
       "      <td>2018-08-18</td>\n",
       "      <td>2</td>\n",
       "      <td>2426</td>\n",
       "      <td>1038</td>\n",
       "      <td>108</td>\n",
       "      <td>Kettle Tortilla Chpshny Jlpno Chili</td>\n",
       "      <td>3</td>\n",
       "      <td>13.8</td>\n",
       "      <td>150</td>\n",
       "      <td>Kettle</td>\n",
       "    </tr>\n",
       "  </tbody>\n",
       "</table>\n",
       "</div>"
      ],
      "text/plain": [
       "        DATE  STORE_NBR  LYLTY_CARD_NBR  TXN_ID  PROD_NBR  \\\n",
       "0 2018-10-17          1            1000       1         5   \n",
       "1 2019-05-14          1            1307     348        66   \n",
       "2 2019-05-20          1            1343     383        61   \n",
       "3 2018-08-17          2            2373     974        69   \n",
       "4 2018-08-18          2            2426    1038       108   \n",
       "\n",
       "                               PROD_NAME  PROD_QTY  TOT_SALES  PACK_SIZE  \\\n",
       "0    Natural Chip        Compny Seasalt          2        6.0        175   \n",
       "1                  Ccs Nacho Cheese              3        6.3        175   \n",
       "2    Smiths Crinkle Cut  Chips Chicken           2        2.9        170   \n",
       "3    Smiths Chip Thinly  S Cream Onion           5       15.0        175   \n",
       "4  Kettle Tortilla Chpshny Jlpno Chili           3       13.8        150   \n",
       "\n",
       "     BRAND  \n",
       "0  Natural  \n",
       "1      Ccs  \n",
       "2   Smiths  \n",
       "3   Smiths  \n",
       "4   Kettle  "
      ]
     },
     "execution_count": 46,
     "metadata": {},
     "output_type": "execute_result"
    }
   ],
   "source": [
    "#Extract brand name from 'PROD_NAME'\n",
    "#Create a new column under 'Transaction_Data' called 'brand'\n",
    "\n",
    "part = transaction_Data['PROD_NAME'].str.partition()\n",
    "transaction_Data['BRAND'] = part[0]\n",
    "transaction_Data.head()"
   ]
  },
  {
   "cell_type": "code",
   "execution_count": 47,
   "metadata": {},
   "outputs": [
    {
     "data": {
      "text/plain": [
       "array(['Natural', 'Ccs', 'Smiths', 'Kettle', 'Grain', 'Doritos',\n",
       "       'Twisties', 'Ww', 'Thins', 'Burger', 'Ncc', 'Cheezels', 'Infzns',\n",
       "       'Red', 'Pringles', 'Dorito', 'Infuzions', 'Smith', 'Grnwves',\n",
       "       'Tyrrells', 'Cobs', 'French', 'Rrd', 'Tostitos', 'Cheetos',\n",
       "       'Woolworths', 'Snbts', 'Sunbites'], dtype=object)"
      ]
     },
     "execution_count": 47,
     "metadata": {},
     "output_type": "execute_result"
    }
   ],
   "source": [
    "transaction_Data['BRAND'].unique()"
   ]
  },
  {
   "cell_type": "code",
   "execution_count": 48,
   "metadata": {},
   "outputs": [
    {
     "data": {
      "text/plain": [
       "array(['Natural', 'CCS', 'Smiths', 'Kettle', 'Grain waves', 'Doritos',\n",
       "       'Twisties', 'Woolworths', 'Thins', 'Burger', 'Cheezels',\n",
       "       'Infuzions', 'Red Rock Deli', 'Pringles', 'Tyrrells', 'Cobs',\n",
       "       'French', 'Tostitos', 'Cheetos', 'Sunbites'], dtype=object)"
      ]
     },
     "execution_count": 48,
     "metadata": {},
     "output_type": "execute_result"
    }
   ],
   "source": [
    "#It looks like there are duplicates of the same brand e.g. 'ww' and 'woolworths','red' and 'rrd', 'natural' and 'ncc',\n",
    "#'infuzions' and 'infzns', 'snbts' and 'sunbites', 'grain' and 'grnwves', 'smiths' and 'smith', 'doritos' and 'dorito'\n",
    "#Let's rename them for consistency\n",
    "\n",
    "transaction_Data['BRAND'].replace('Ncc', 'Natural', inplace = True)\n",
    "transaction_Data['BRAND'].replace('Ccs', 'CCS', inplace = True)\n",
    "transaction_Data['BRAND'].replace('Smith', 'Smiths', inplace = True)\n",
    "transaction_Data['BRAND'].replace(['Grain', 'Grnwves'], 'Grain waves', inplace = True)\n",
    "transaction_Data['BRAND'].replace('Dorito', 'Doritos', inplace = True)\n",
    "transaction_Data['BRAND'].replace('Ww', 'Woolworths', inplace = True)\n",
    "transaction_Data['BRAND'].replace('Infzns', 'Infuzions', inplace = True)\n",
    "transaction_Data['BRAND'].replace(['Red', 'Rrd'], 'Red Rock Deli', inplace = True)\n",
    "transaction_Data['BRAND'].replace('Snbts', 'Sunbites', inplace = True)\n",
    "\n",
    "transaction_Data['BRAND'].unique()"
   ]
  },
  {
   "cell_type": "code",
   "execution_count": 49,
   "metadata": {},
   "outputs": [
    {
     "data": {
      "text/plain": [
       "BRAND\n",
       "Kettle           390239.8\n",
       "Doritos          226329.9\n",
       "Smiths           217492.0\n",
       "Pringles         177655.5\n",
       "Infuzions         99047.6\n",
       "Thins             88852.5\n",
       "Red Rock Deli     87607.5\n",
       "Twisties          81522.1\n",
       "Tostitos          79789.6\n",
       "Cobs              70569.8\n",
       "Tyrrells          51647.4\n",
       "Grain waves       51617.2\n",
       "Natural           42318.0\n",
       "Woolworths        41059.1\n",
       "Cheezels          40029.9\n",
       "CCS               18078.9\n",
       "Cheetos           16884.5\n",
       "Sunbites           9676.4\n",
       "French             7929.0\n",
       "Burger             6831.0\n",
       "Name: TOT_SALES, dtype: float64"
      ]
     },
     "execution_count": 49,
     "metadata": {},
     "output_type": "execute_result"
    }
   ],
   "source": [
    "#Which brand had the most sales?\n",
    "\n",
    "transaction_Data.groupby('BRAND').TOT_SALES.sum().sort_values (ascending = False)"
   ]
  },
  {
   "cell_type": "markdown",
   "metadata": {},
   "source": [
    "### Customer Analytics Second Pipeline"
   ]
  },
  {
   "cell_type": "markdown",
   "metadata": {},
   "source": [
    "### Customer Data Understanding"
   ]
  },
  {
   "cell_type": "code",
   "execution_count": 50,
   "metadata": {},
   "outputs": [
    {
     "data": {
      "text/plain": [
       "['LYLTY_CARD_NBR', 'LIFESTAGE', 'PREMIUM_CUSTOMER']"
      ]
     },
     "execution_count": 50,
     "metadata": {},
     "output_type": "execute_result"
    }
   ],
   "source": [
    "# Let's move on to 'customerPB_Data' dataset now\n",
    "\n",
    "list(customerPB_Data.columns)"
   ]
  },
  {
   "cell_type": "code",
   "execution_count": 51,
   "metadata": {},
   "outputs": [
    {
     "data": {
      "text/html": [
       "<div>\n",
       "<style scoped>\n",
       "    .dataframe tbody tr th:only-of-type {\n",
       "        vertical-align: middle;\n",
       "    }\n",
       "\n",
       "    .dataframe tbody tr th {\n",
       "        vertical-align: top;\n",
       "    }\n",
       "\n",
       "    .dataframe thead th {\n",
       "        text-align: right;\n",
       "    }\n",
       "</style>\n",
       "<table border=\"1\" class=\"dataframe\">\n",
       "  <thead>\n",
       "    <tr style=\"text-align: right;\">\n",
       "      <th></th>\n",
       "      <th>LYLTY_CARD_NBR</th>\n",
       "      <th>LIFESTAGE</th>\n",
       "      <th>PREMIUM_CUSTOMER</th>\n",
       "    </tr>\n",
       "  </thead>\n",
       "  <tbody>\n",
       "    <tr>\n",
       "      <th>0</th>\n",
       "      <td>1000</td>\n",
       "      <td>YOUNG SINGLES/COUPLES</td>\n",
       "      <td>Premium</td>\n",
       "    </tr>\n",
       "    <tr>\n",
       "      <th>1</th>\n",
       "      <td>1002</td>\n",
       "      <td>YOUNG SINGLES/COUPLES</td>\n",
       "      <td>Mainstream</td>\n",
       "    </tr>\n",
       "    <tr>\n",
       "      <th>2</th>\n",
       "      <td>1003</td>\n",
       "      <td>YOUNG FAMILIES</td>\n",
       "      <td>Budget</td>\n",
       "    </tr>\n",
       "    <tr>\n",
       "      <th>3</th>\n",
       "      <td>1004</td>\n",
       "      <td>OLDER SINGLES/COUPLES</td>\n",
       "      <td>Mainstream</td>\n",
       "    </tr>\n",
       "    <tr>\n",
       "      <th>4</th>\n",
       "      <td>1005</td>\n",
       "      <td>MIDAGE SINGLES/COUPLES</td>\n",
       "      <td>Mainstream</td>\n",
       "    </tr>\n",
       "  </tbody>\n",
       "</table>\n",
       "</div>"
      ],
      "text/plain": [
       "   LYLTY_CARD_NBR               LIFESTAGE PREMIUM_CUSTOMER\n",
       "0            1000   YOUNG SINGLES/COUPLES          Premium\n",
       "1            1002   YOUNG SINGLES/COUPLES       Mainstream\n",
       "2            1003          YOUNG FAMILIES           Budget\n",
       "3            1004   OLDER SINGLES/COUPLES       Mainstream\n",
       "4            1005  MIDAGE SINGLES/COUPLES       Mainstream"
      ]
     },
     "execution_count": 51,
     "metadata": {},
     "output_type": "execute_result"
    }
   ],
   "source": [
    "customerPB_Data.head()"
   ]
  },
  {
   "cell_type": "code",
   "execution_count": 52,
   "metadata": {},
   "outputs": [
    {
     "data": {
      "text/plain": [
       "<matplotlib.axes._subplots.AxesSubplot at 0x259ba528940>"
      ]
     },
     "execution_count": 52,
     "metadata": {},
     "output_type": "execute_result"
    },
    {
     "data": {
      "image/png": "[encoded data removed]",
      "text/plain": [
       "<Figure size 1800x720 with 2 Axes>"
      ]
     },
     "metadata": {
      "needs_background": "light"
     },
     "output_type": "display_data"
    }
   ],
   "source": [
    "missingno.matrix(customerPB_Data)"
   ]
  },
  {
   "cell_type": "code",
   "execution_count": 53,
   "metadata": {},
   "outputs": [
    {
     "data": {
      "text/plain": [
       "72636"
      ]
     },
     "execution_count": 53,
     "metadata": {},
     "output_type": "execute_result"
    }
   ],
   "source": [
    "len(customerPB_Data)"
   ]
  },
  {
   "cell_type": "code",
   "execution_count": 54,
   "metadata": {},
   "outputs": [
    {
     "data": {
      "text/plain": [
       "72636"
      ]
     },
     "execution_count": 54,
     "metadata": {},
     "output_type": "execute_result"
    }
   ],
   "source": [
    "customerPB_Data['LYLTY_CARD_NBR'].nunique()\n",
    "\n",
    "#Comment: 'LYLTY_CARD_NBR' is unique to each row"
   ]
  },
  {
   "cell_type": "code",
   "execution_count": 55,
   "metadata": {},
   "outputs": [
    {
     "data": {
      "text/plain": [
       "7"
      ]
     },
     "execution_count": 55,
     "metadata": {},
     "output_type": "execute_result"
    }
   ],
   "source": [
    "customerPB_Data['LIFESTAGE'].nunique()\n",
    "\n",
    "#Comment: 7 unique lifestages of customers"
   ]
  },
  {
   "cell_type": "code",
   "execution_count": 56,
   "metadata": {},
   "outputs": [
    {
     "data": {
      "text/plain": [
       "array(['YOUNG SINGLES/COUPLES', 'YOUNG FAMILIES', 'OLDER SINGLES/COUPLES',\n",
       "       'MIDAGE SINGLES/COUPLES', 'NEW FAMILIES', 'OLDER FAMILIES',\n",
       "       'RETIREES'], dtype=object)"
      ]
     },
     "execution_count": 56,
     "metadata": {},
     "output_type": "execute_result"
    }
   ],
   "source": [
    "#Let's see what those lifestages are\n",
    "\n",
    "customerPB_Data['LIFESTAGE'].unique()"
   ]
  },
  {
   "cell_type": "code",
   "execution_count": 57,
   "metadata": {},
   "outputs": [
    {
     "data": {
      "text/plain": [
       "RETIREES                  14805\n",
       "OLDER SINGLES/COUPLES     14609\n",
       "YOUNG SINGLES/COUPLES     14441\n",
       "OLDER FAMILIES             9779\n",
       "YOUNG FAMILIES             9178\n",
       "MIDAGE SINGLES/COUPLES     7275\n",
       "NEW FAMILIES               2549\n",
       "Name: LIFESTAGE, dtype: int64"
      ]
     },
     "execution_count": 57,
     "metadata": {},
     "output_type": "execute_result"
    }
   ],
   "source": [
    "#Counts for each lifestages\n",
    "\n",
    "customerPB_Data['LIFESTAGE'].value_counts().sort_values(ascending = False)"
   ]
  },
  {
   "cell_type": "code",
   "execution_count": 58,
   "metadata": {},
   "outputs": [
    {
     "data": {
      "text/plain": [
       "<matplotlib.axes._subplots.AxesSubplot at 0x259ba7667f0>"
      ]
     },
     "execution_count": 58,
     "metadata": {},
     "output_type": "execute_result"
    },
    {
     "data": {
      "image/png": "[encoded data removed]",
      "text/plain": [
       "<Figure size 432x288 with 1 Axes>"
      ]
     },
     "metadata": {
      "needs_background": "light"
     },
     "output_type": "display_data"
    }
   ],
   "source": [
    "sns.countplot(y = customerPB_Data['LIFESTAGE'], order = customerPB_Data['LIFESTAGE'].value_counts().index)"
   ]
  },
  {
   "cell_type": "code",
   "execution_count": 59,
   "metadata": {},
   "outputs": [
    {
     "data": {
      "text/plain": [
       "3"
      ]
     },
     "execution_count": 59,
     "metadata": {},
     "output_type": "execute_result"
    }
   ],
   "source": [
    "#what about the 'PREMIUM_CUSTOMER' column\n",
    "\n",
    "customerPB_Data['PREMIUM_CUSTOMER'].nunique()"
   ]
  },
  {
   "cell_type": "code",
   "execution_count": 60,
   "metadata": {},
   "outputs": [
    {
     "data": {
      "text/plain": [
       "Mainstream    29245\n",
       "Budget        24470\n",
       "Premium       18921\n",
       "Name: PREMIUM_CUSTOMER, dtype: int64"
      ]
     },
     "execution_count": 60,
     "metadata": {},
     "output_type": "execute_result"
    }
   ],
   "source": [
    "#Counts for each 'PREMIUM_CUSTOMER'\n",
    "\n",
    "customerPB_Data['PREMIUM_CUSTOMER'].value_counts().sort_values(ascending = False)\n",
    "\n",
    "#Comment: Mainstream has the highest count, followed by budget and finally premium"
   ]
  },
  {
   "cell_type": "code",
   "execution_count": 61,
   "metadata": {},
   "outputs": [
    {
     "data": {
      "text/plain": [
       "<matplotlib.axes._subplots.AxesSubplot at 0x259b64d9518>"
      ]
     },
     "execution_count": 61,
     "metadata": {},
     "output_type": "execute_result"
    },
    {
     "data": {
      "image/png": "[encoded data removed]",
      "text/plain": [
       "<Figure size 432x288 with 1 Axes>"
      ]
     },
     "metadata": {
      "needs_background": "light"
     },
     "output_type": "display_data"
    }
   ],
   "source": [
    "#Visualize 'PREMIUM_CUSTOMER'\n",
    "\n",
    "sns.countplot(y = customerPB_Data['PREMIUM_CUSTOMER'])"
   ]
  },
  {
   "cell_type": "code",
   "execution_count": 62,
   "metadata": {},
   "outputs": [
    {
     "data": {
      "text/plain": [
       "(246740, 10)"
      ]
     },
     "execution_count": 62,
     "metadata": {},
     "output_type": "execute_result"
    }
   ],
   "source": [
    "#Now let's merge the two datasets together\n",
    "#Before we do, examine the shape\n",
    "\n",
    "transaction_Data.shape"
   ]
  },
  {
   "cell_type": "code",
   "execution_count": 63,
   "metadata": {},
   "outputs": [
    {
     "data": {
      "text/plain": [
       "(72636, 3)"
      ]
     },
     "execution_count": 63,
     "metadata": {},
     "output_type": "execute_result"
    }
   ],
   "source": [
    "customerPB_Data.shape"
   ]
  },
  {
   "cell_type": "code",
   "execution_count": 64,
   "metadata": {},
   "outputs": [
    {
     "data": {
      "text/plain": [
       "(246740, 12)"
      ]
     },
     "execution_count": 64,
     "metadata": {},
     "output_type": "execute_result"
    }
   ],
   "source": [
    "combineData = pd.merge(transaction_Data, customerPB_Data)\n",
    "combineData.shape"
   ]
  },
  {
   "cell_type": "code",
   "execution_count": 65,
   "metadata": {},
   "outputs": [
    {
     "data": {
      "text/html": [
       "<div>\n",
       "<style scoped>\n",
       "    .dataframe tbody tr th:only-of-type {\n",
       "        vertical-align: middle;\n",
       "    }\n",
       "\n",
       "    .dataframe tbody tr th {\n",
       "        vertical-align: top;\n",
       "    }\n",
       "\n",
       "    .dataframe thead th {\n",
       "        text-align: right;\n",
       "    }\n",
       "</style>\n",
       "<table border=\"1\" class=\"dataframe\">\n",
       "  <thead>\n",
       "    <tr style=\"text-align: right;\">\n",
       "      <th></th>\n",
       "      <th>DATE</th>\n",
       "      <th>STORE_NBR</th>\n",
       "      <th>LYLTY_CARD_NBR</th>\n",
       "      <th>TXN_ID</th>\n",
       "      <th>PROD_NBR</th>\n",
       "      <th>PROD_NAME</th>\n",
       "      <th>PROD_QTY</th>\n",
       "      <th>TOT_SALES</th>\n",
       "      <th>PACK_SIZE</th>\n",
       "      <th>BRAND</th>\n",
       "      <th>LIFESTAGE</th>\n",
       "      <th>PREMIUM_CUSTOMER</th>\n",
       "    </tr>\n",
       "  </thead>\n",
       "  <tbody>\n",
       "    <tr>\n",
       "      <th>0</th>\n",
       "      <td>2018-10-17</td>\n",
       "      <td>1</td>\n",
       "      <td>1000</td>\n",
       "      <td>1</td>\n",
       "      <td>5</td>\n",
       "      <td>Natural Chip        Compny Seasalt</td>\n",
       "      <td>2</td>\n",
       "      <td>6.0</td>\n",
       "      <td>175</td>\n",
       "      <td>Natural</td>\n",
       "      <td>YOUNG SINGLES/COUPLES</td>\n",
       "      <td>Premium</td>\n",
       "    </tr>\n",
       "    <tr>\n",
       "      <th>1</th>\n",
       "      <td>2019-05-14</td>\n",
       "      <td>1</td>\n",
       "      <td>1307</td>\n",
       "      <td>348</td>\n",
       "      <td>66</td>\n",
       "      <td>Ccs Nacho Cheese</td>\n",
       "      <td>3</td>\n",
       "      <td>6.3</td>\n",
       "      <td>175</td>\n",
       "      <td>CCS</td>\n",
       "      <td>MIDAGE SINGLES/COUPLES</td>\n",
       "      <td>Budget</td>\n",
       "    </tr>\n",
       "    <tr>\n",
       "      <th>2</th>\n",
       "      <td>2018-11-10</td>\n",
       "      <td>1</td>\n",
       "      <td>1307</td>\n",
       "      <td>346</td>\n",
       "      <td>96</td>\n",
       "      <td>Ww Original Stacked Chips</td>\n",
       "      <td>2</td>\n",
       "      <td>3.8</td>\n",
       "      <td>160</td>\n",
       "      <td>Woolworths</td>\n",
       "      <td>MIDAGE SINGLES/COUPLES</td>\n",
       "      <td>Budget</td>\n",
       "    </tr>\n",
       "    <tr>\n",
       "      <th>3</th>\n",
       "      <td>2019-03-09</td>\n",
       "      <td>1</td>\n",
       "      <td>1307</td>\n",
       "      <td>347</td>\n",
       "      <td>54</td>\n",
       "      <td>Ccs Original</td>\n",
       "      <td>1</td>\n",
       "      <td>2.1</td>\n",
       "      <td>175</td>\n",
       "      <td>CCS</td>\n",
       "      <td>MIDAGE SINGLES/COUPLES</td>\n",
       "      <td>Budget</td>\n",
       "    </tr>\n",
       "    <tr>\n",
       "      <th>4</th>\n",
       "      <td>2019-05-20</td>\n",
       "      <td>1</td>\n",
       "      <td>1343</td>\n",
       "      <td>383</td>\n",
       "      <td>61</td>\n",
       "      <td>Smiths Crinkle Cut  Chips Chicken</td>\n",
       "      <td>2</td>\n",
       "      <td>2.9</td>\n",
       "      <td>170</td>\n",
       "      <td>Smiths</td>\n",
       "      <td>MIDAGE SINGLES/COUPLES</td>\n",
       "      <td>Budget</td>\n",
       "    </tr>\n",
       "  </tbody>\n",
       "</table>\n",
       "</div>"
      ],
      "text/plain": [
       "        DATE  STORE_NBR  LYLTY_CARD_NBR  TXN_ID  PROD_NBR  \\\n",
       "0 2018-10-17          1            1000       1         5   \n",
       "1 2019-05-14          1            1307     348        66   \n",
       "2 2018-11-10          1            1307     346        96   \n",
       "3 2019-03-09          1            1307     347        54   \n",
       "4 2019-05-20          1            1343     383        61   \n",
       "\n",
       "                             PROD_NAME  PROD_QTY  TOT_SALES  PACK_SIZE  \\\n",
       "0  Natural Chip        Compny Seasalt          2        6.0        175   \n",
       "1                Ccs Nacho Cheese              3        6.3        175   \n",
       "2          Ww Original Stacked Chips           2        3.8        160   \n",
       "3                       Ccs Original           1        2.1        175   \n",
       "4  Smiths Crinkle Cut  Chips Chicken           2        2.9        170   \n",
       "\n",
       "        BRAND               LIFESTAGE PREMIUM_CUSTOMER  \n",
       "0     Natural   YOUNG SINGLES/COUPLES          Premium  \n",
       "1         CCS  MIDAGE SINGLES/COUPLES           Budget  \n",
       "2  Woolworths  MIDAGE SINGLES/COUPLES           Budget  \n",
       "3         CCS  MIDAGE SINGLES/COUPLES           Budget  \n",
       "4      Smiths  MIDAGE SINGLES/COUPLES           Budget  "
      ]
     },
     "execution_count": 65,
     "metadata": {},
     "output_type": "execute_result"
    }
   ],
   "source": [
    "#The two datasets are joined together via the column 'LYLTY_CARD_NBR'\n",
    "\n",
    "combineData.head()"
   ]
  },
  {
   "cell_type": "code",
   "execution_count": 66,
   "metadata": {},
   "outputs": [
    {
     "data": {
      "text/plain": [
       "DATE                0\n",
       "STORE_NBR           0\n",
       "LYLTY_CARD_NBR      0\n",
       "TXN_ID              0\n",
       "PROD_NBR            0\n",
       "PROD_NAME           0\n",
       "PROD_QTY            0\n",
       "TOT_SALES           0\n",
       "PACK_SIZE           0\n",
       "BRAND               0\n",
       "LIFESTAGE           0\n",
       "PREMIUM_CUSTOMER    0\n",
       "dtype: int64"
      ]
     },
     "execution_count": 66,
     "metadata": {},
     "output_type": "execute_result"
    }
   ],
   "source": [
    "#Check for null values\n",
    "\n",
    "combineData.isnull().sum()"
   ]
  },
  {
   "cell_type": "markdown",
   "metadata": {},
   "source": [
    "### Data analysis on customer segments\n",
    "\n",
    "Now that our data is ready for analysis, we can define some metrics of interest to the client:\n",
    "\n",
    "* Who spends the most on chips, describing customers by lifestage and how premium their general purchasing behaviour is\n",
    "* How many customers are in each segment\n",
    "* How many chips are bought per customer by segment\n",
    "* What is the average chip price by customer segment"
   ]
  },
  {
   "cell_type": "code",
   "execution_count": 67,
   "metadata": {},
   "outputs": [
    {
     "data": {
      "text/html": [
       "<div>\n",
       "<style scoped>\n",
       "    .dataframe tbody tr th:only-of-type {\n",
       "        vertical-align: middle;\n",
       "    }\n",
       "\n",
       "    .dataframe tbody tr th {\n",
       "        vertical-align: top;\n",
       "    }\n",
       "\n",
       "    .dataframe thead th {\n",
       "        text-align: right;\n",
       "    }\n",
       "</style>\n",
       "<table border=\"1\" class=\"dataframe\">\n",
       "  <thead>\n",
       "    <tr style=\"text-align: right;\">\n",
       "      <th></th>\n",
       "      <th></th>\n",
       "      <th>Total Sales</th>\n",
       "    </tr>\n",
       "    <tr>\n",
       "      <th>PREMIUM_CUSTOMER</th>\n",
       "      <th>LIFESTAGE</th>\n",
       "      <th></th>\n",
       "    </tr>\n",
       "  </thead>\n",
       "  <tbody>\n",
       "    <tr>\n",
       "      <th>Budget</th>\n",
       "      <th>OLDER FAMILIES</th>\n",
       "      <td>156863.75</td>\n",
       "    </tr>\n",
       "    <tr>\n",
       "      <th rowspan=\"2\" valign=\"top\">Mainstream</th>\n",
       "      <th>YOUNG SINGLES/COUPLES</th>\n",
       "      <td>147582.20</td>\n",
       "    </tr>\n",
       "    <tr>\n",
       "      <th>RETIREES</th>\n",
       "      <td>145168.95</td>\n",
       "    </tr>\n",
       "    <tr>\n",
       "      <th rowspan=\"2\" valign=\"top\">Budget</th>\n",
       "      <th>YOUNG FAMILIES</th>\n",
       "      <td>129717.95</td>\n",
       "    </tr>\n",
       "    <tr>\n",
       "      <th>OLDER SINGLES/COUPLES</th>\n",
       "      <td>127833.60</td>\n",
       "    </tr>\n",
       "    <tr>\n",
       "      <th>Mainstream</th>\n",
       "      <th>OLDER SINGLES/COUPLES</th>\n",
       "      <td>124648.50</td>\n",
       "    </tr>\n",
       "    <tr>\n",
       "      <th>Premium</th>\n",
       "      <th>OLDER SINGLES/COUPLES</th>\n",
       "      <td>123537.55</td>\n",
       "    </tr>\n",
       "    <tr>\n",
       "      <th>Budget</th>\n",
       "      <th>RETIREES</th>\n",
       "      <td>105916.30</td>\n",
       "    </tr>\n",
       "    <tr>\n",
       "      <th>Mainstream</th>\n",
       "      <th>OLDER FAMILIES</th>\n",
       "      <td>96413.55</td>\n",
       "    </tr>\n",
       "    <tr>\n",
       "      <th>Premium</th>\n",
       "      <th>RETIREES</th>\n",
       "      <td>91296.65</td>\n",
       "    </tr>\n",
       "    <tr>\n",
       "      <th rowspan=\"2\" valign=\"top\">Mainstream</th>\n",
       "      <th>YOUNG FAMILIES</th>\n",
       "      <td>86338.25</td>\n",
       "    </tr>\n",
       "    <tr>\n",
       "      <th>MIDAGE SINGLES/COUPLES</th>\n",
       "      <td>84734.25</td>\n",
       "    </tr>\n",
       "    <tr>\n",
       "      <th rowspan=\"2\" valign=\"top\">Premium</th>\n",
       "      <th>YOUNG FAMILIES</th>\n",
       "      <td>78571.70</td>\n",
       "    </tr>\n",
       "    <tr>\n",
       "      <th>OLDER FAMILIES</th>\n",
       "      <td>75242.60</td>\n",
       "    </tr>\n",
       "    <tr>\n",
       "      <th>Budget</th>\n",
       "      <th>YOUNG SINGLES/COUPLES</th>\n",
       "      <td>57122.10</td>\n",
       "    </tr>\n",
       "    <tr>\n",
       "      <th rowspan=\"2\" valign=\"top\">Premium</th>\n",
       "      <th>MIDAGE SINGLES/COUPLES</th>\n",
       "      <td>54443.85</td>\n",
       "    </tr>\n",
       "    <tr>\n",
       "      <th>YOUNG SINGLES/COUPLES</th>\n",
       "      <td>39052.30</td>\n",
       "    </tr>\n",
       "    <tr>\n",
       "      <th rowspan=\"2\" valign=\"top\">Budget</th>\n",
       "      <th>MIDAGE SINGLES/COUPLES</th>\n",
       "      <td>33345.70</td>\n",
       "    </tr>\n",
       "    <tr>\n",
       "      <th>NEW FAMILIES</th>\n",
       "      <td>20607.45</td>\n",
       "    </tr>\n",
       "    <tr>\n",
       "      <th>Mainstream</th>\n",
       "      <th>NEW FAMILIES</th>\n",
       "      <td>15979.70</td>\n",
       "    </tr>\n",
       "    <tr>\n",
       "      <th>Premium</th>\n",
       "      <th>NEW FAMILIES</th>\n",
       "      <td>10760.80</td>\n",
       "    </tr>\n",
       "  </tbody>\n",
       "</table>\n",
       "</div>"
      ],
      "text/plain": [
       "                                         Total Sales\n",
       "PREMIUM_CUSTOMER LIFESTAGE                          \n",
       "Budget           OLDER FAMILIES            156863.75\n",
       "Mainstream       YOUNG SINGLES/COUPLES     147582.20\n",
       "                 RETIREES                  145168.95\n",
       "Budget           YOUNG FAMILIES            129717.95\n",
       "                 OLDER SINGLES/COUPLES     127833.60\n",
       "Mainstream       OLDER SINGLES/COUPLES     124648.50\n",
       "Premium          OLDER SINGLES/COUPLES     123537.55\n",
       "Budget           RETIREES                  105916.30\n",
       "Mainstream       OLDER FAMILIES             96413.55\n",
       "Premium          RETIREES                   91296.65\n",
       "Mainstream       YOUNG FAMILIES             86338.25\n",
       "                 MIDAGE SINGLES/COUPLES     84734.25\n",
       "Premium          YOUNG FAMILIES             78571.70\n",
       "                 OLDER FAMILIES             75242.60\n",
       "Budget           YOUNG SINGLES/COUPLES      57122.10\n",
       "Premium          MIDAGE SINGLES/COUPLES     54443.85\n",
       "                 YOUNG SINGLES/COUPLES      39052.30\n",
       "Budget           MIDAGE SINGLES/COUPLES     33345.70\n",
       "                 NEW FAMILIES               20607.45\n",
       "Mainstream       NEW FAMILIES               15979.70\n",
       "Premium          NEW FAMILIES               10760.80"
      ]
     },
     "execution_count": 67,
     "metadata": {},
     "output_type": "execute_result"
    }
   ],
   "source": [
    "#Total sales by 'PREMIUM_CUSTOMER' and 'LIFESTAGE'\n",
    "\n",
    "sales = pd.DataFrame(combineData.groupby(['PREMIUM_CUSTOMER','LIFESTAGE']).TOT_SALES.sum())\n",
    "sales.rename(columns = {'TOT_SALES': 'Total Sales'}, inplace = True)\n",
    "sales.sort_values(by = 'Total Sales', ascending = False, inplace = True)\n",
    "sales"
   ]
  },
  {
   "cell_type": "code",
   "execution_count": 68,
   "metadata": {},
   "outputs": [
    {
     "data": {
      "text/plain": [
       "<matplotlib.axes._subplots.AxesSubplot at 0x259b3a14be0>"
      ]
     },
     "execution_count": 68,
     "metadata": {},
     "output_type": "execute_result"
    },
    {
     "data": {
      "image/png": "[encoded data removed]",
      "text/plain": [
       "<Figure size 720x360 with 1 Axes>"
      ]
     },
     "metadata": {
      "needs_background": "light"
     },
     "output_type": "display_data"
    }
   ],
   "source": [
    "#Visualize\n",
    "salesPlot = pd.DataFrame(combineData.groupby(['LIFESTAGE', 'PREMIUM_CUSTOMER']).TOT_SALES.sum())\n",
    "salesPlot.unstack().plot(kind = 'bar', stacked = True, figsize = (10, 5), title = 'Total Sales by Customer Segment')\n",
    "\n",
    "#Comment: Sales are coming from budget older families, mains team young singles/couples and mainstream retirees"
   ]
  },
  {
   "cell_type": "code",
   "execution_count": 69,
   "metadata": {},
   "outputs": [
    {
     "data": {
      "text/html": [
       "<div>\n",
       "<style scoped>\n",
       "    .dataframe tbody tr th:only-of-type {\n",
       "        vertical-align: middle;\n",
       "    }\n",
       "\n",
       "    .dataframe tbody tr th {\n",
       "        vertical-align: top;\n",
       "    }\n",
       "\n",
       "    .dataframe thead th {\n",
       "        text-align: right;\n",
       "    }\n",
       "</style>\n",
       "<table border=\"1\" class=\"dataframe\">\n",
       "  <thead>\n",
       "    <tr style=\"text-align: right;\">\n",
       "      <th></th>\n",
       "      <th></th>\n",
       "      <th>Number of Customers</th>\n",
       "    </tr>\n",
       "    <tr>\n",
       "      <th>PREMIUM_CUSTOMER</th>\n",
       "      <th>LIFESTAGE</th>\n",
       "      <th></th>\n",
       "    </tr>\n",
       "  </thead>\n",
       "  <tbody>\n",
       "    <tr>\n",
       "      <th rowspan=\"3\" valign=\"top\">Mainstream</th>\n",
       "      <th>YOUNG SINGLES/COUPLES</th>\n",
       "      <td>7917</td>\n",
       "    </tr>\n",
       "    <tr>\n",
       "      <th>RETIREES</th>\n",
       "      <td>6358</td>\n",
       "    </tr>\n",
       "    <tr>\n",
       "      <th>OLDER SINGLES/COUPLES</th>\n",
       "      <td>4858</td>\n",
       "    </tr>\n",
       "    <tr>\n",
       "      <th>Budget</th>\n",
       "      <th>OLDER SINGLES/COUPLES</th>\n",
       "      <td>4849</td>\n",
       "    </tr>\n",
       "    <tr>\n",
       "      <th>Premium</th>\n",
       "      <th>OLDER SINGLES/COUPLES</th>\n",
       "      <td>4682</td>\n",
       "    </tr>\n",
       "    <tr>\n",
       "      <th rowspan=\"3\" valign=\"top\">Budget</th>\n",
       "      <th>OLDER FAMILIES</th>\n",
       "      <td>4611</td>\n",
       "    </tr>\n",
       "    <tr>\n",
       "      <th>RETIREES</th>\n",
       "      <td>4385</td>\n",
       "    </tr>\n",
       "    <tr>\n",
       "      <th>YOUNG FAMILIES</th>\n",
       "      <td>3953</td>\n",
       "    </tr>\n",
       "    <tr>\n",
       "      <th>Premium</th>\n",
       "      <th>RETIREES</th>\n",
       "      <td>3812</td>\n",
       "    </tr>\n",
       "    <tr>\n",
       "      <th>Budget</th>\n",
       "      <th>YOUNG SINGLES/COUPLES</th>\n",
       "      <td>3647</td>\n",
       "    </tr>\n",
       "  </tbody>\n",
       "</table>\n",
       "</div>"
      ],
      "text/plain": [
       "                                        Number of Customers\n",
       "PREMIUM_CUSTOMER LIFESTAGE                                 \n",
       "Mainstream       YOUNG SINGLES/COUPLES                 7917\n",
       "                 RETIREES                              6358\n",
       "                 OLDER SINGLES/COUPLES                 4858\n",
       "Budget           OLDER SINGLES/COUPLES                 4849\n",
       "Premium          OLDER SINGLES/COUPLES                 4682\n",
       "Budget           OLDER FAMILIES                        4611\n",
       "                 RETIREES                              4385\n",
       "                 YOUNG FAMILIES                        3953\n",
       "Premium          RETIREES                              3812\n",
       "Budget           YOUNG SINGLES/COUPLES                 3647"
      ]
     },
     "execution_count": 69,
     "metadata": {},
     "output_type": "execute_result"
    }
   ],
   "source": [
    "#Let's see if the higher sales are due to there being more customers who buy chips\n",
    "#Number of customers by 'PREMIUM_CUSTOMER' and 'LIFESTAGE'\n",
    "#Remember to take unique 'LYLTY_CARD_NBR'\n",
    "\n",
    "customers = pd.DataFrame(combineData.groupby(['PREMIUM_CUSTOMER', 'LIFESTAGE']).LYLTY_CARD_NBR.nunique())\n",
    "customers.rename(columns = {'LYLTY_CARD_NBR': 'Number of Customers'}, inplace = True)\n",
    "customers.sort_values(by = 'Number of Customers', ascending = False).head(10)"
   ]
  },
  {
   "cell_type": "code",
   "execution_count": 70,
   "metadata": {},
   "outputs": [
    {
     "data": {
      "text/plain": [
       "<matplotlib.axes._subplots.AxesSubplot at 0x259ba561208>"
      ]
     },
     "execution_count": 70,
     "metadata": {},
     "output_type": "execute_result"
    },
    {
     "data": {
      "image/png": "[encoded data removed]",
      "text/plain": [
       "<Figure size 720x360 with 1 Axes>"
      ]
     },
     "metadata": {
      "needs_background": "light"
     },
     "output_type": "display_data"
    }
   ],
   "source": [
    "#Visualize\n",
    "customersPlot = pd.DataFrame(combineData.groupby(['LIFESTAGE','PREMIUM_CUSTOMER']).LYLTY_CARD_NBR.nunique())\n",
    "customersPlot.unstack().plot(kind = 'bar', stacked = True, figsize = (10, 5), title = 'Number of Customers by Customer Segment')\n",
    "\n",
    "#Comment: There are more mainstream young singles/couples and retirees. This contribues to more chips sales in these segments however this is not the major driver for the budget older families segment"
   ]
  },
  {
   "cell_type": "code",
   "execution_count": 71,
   "metadata": {},
   "outputs": [
    {
     "data": {
      "text/html": [
       "<div>\n",
       "<style scoped>\n",
       "    .dataframe tbody tr th:only-of-type {\n",
       "        vertical-align: middle;\n",
       "    }\n",
       "\n",
       "    .dataframe tbody tr th {\n",
       "        vertical-align: top;\n",
       "    }\n",
       "\n",
       "    .dataframe thead th {\n",
       "        text-align: right;\n",
       "    }\n",
       "</style>\n",
       "<table border=\"1\" class=\"dataframe\">\n",
       "  <thead>\n",
       "    <tr style=\"text-align: right;\">\n",
       "      <th></th>\n",
       "      <th></th>\n",
       "      <th>Average Unit per Customer</th>\n",
       "    </tr>\n",
       "    <tr>\n",
       "      <th>PREMIUM_CUSTOMER</th>\n",
       "      <th>LIFESTAGE</th>\n",
       "      <th></th>\n",
       "    </tr>\n",
       "  </thead>\n",
       "  <tbody>\n",
       "    <tr>\n",
       "      <th>Mainstream</th>\n",
       "      <th>OLDER FAMILIES</th>\n",
       "      <td>9.255380</td>\n",
       "    </tr>\n",
       "    <tr>\n",
       "      <th>Budget</th>\n",
       "      <th>OLDER FAMILIES</th>\n",
       "      <td>9.076773</td>\n",
       "    </tr>\n",
       "    <tr>\n",
       "      <th>Premium</th>\n",
       "      <th>OLDER FAMILIES</th>\n",
       "      <td>9.071717</td>\n",
       "    </tr>\n",
       "    <tr>\n",
       "      <th>Budget</th>\n",
       "      <th>YOUNG FAMILIES</th>\n",
       "      <td>8.722995</td>\n",
       "    </tr>\n",
       "    <tr>\n",
       "      <th>Premium</th>\n",
       "      <th>YOUNG FAMILIES</th>\n",
       "      <td>8.716013</td>\n",
       "    </tr>\n",
       "  </tbody>\n",
       "</table>\n",
       "</div>"
      ],
      "text/plain": [
       "                                 Average Unit per Customer\n",
       "PREMIUM_CUSTOMER LIFESTAGE                                \n",
       "Mainstream       OLDER FAMILIES                   9.255380\n",
       "Budget           OLDER FAMILIES                   9.076773\n",
       "Premium          OLDER FAMILIES                   9.071717\n",
       "Budget           YOUNG FAMILIES                   8.722995\n",
       "Premium          YOUNG FAMILIES                   8.716013"
      ]
     },
     "execution_count": 71,
     "metadata": {},
     "output_type": "execute_result"
    }
   ],
   "source": [
    "#Higher sales may also be driven by more units of chips being bought per customer\n",
    "#Let's calculate the average units per customer by 'PREMIUM_CUSTOMER' and 'LIFESTAGE\n",
    "#Total quantity sold divided by unique customers\n",
    "\n",
    "avg_units = combineData.groupby(['PREMIUM_CUSTOMER', 'LIFESTAGE']).PROD_QTY.sum() / combineData.groupby(['PREMIUM_CUSTOMER', 'LIFESTAGE']).LYLTY_CARD_NBR.nunique()\n",
    "avg_units = pd.DataFrame(avg_units, columns = {'Average Unit per Customer'})\n",
    "avg_units.sort_values(by = 'Average Unit per Customer', ascending = False).head()"
   ]
  },
  {
   "cell_type": "code",
   "execution_count": 72,
   "metadata": {},
   "outputs": [
    {
     "data": {
      "text/plain": [
       "<matplotlib.axes._subplots.AxesSubplot at 0x259ba5b7d30>"
      ]
     },
     "execution_count": 72,
     "metadata": {},
     "output_type": "execute_result"
    },
    {
     "data": {
      "image/png": "[encoded data removed]",
      "text/plain": [
       "<Figure size 720x360 with 1 Axes>"
      ]
     },
     "metadata": {
      "needs_background": "light"
     },
     "output_type": "display_data"
    }
   ],
   "source": [
    "\n",
    "# Visualise \n",
    "avgUnitsPlot = pd.DataFrame(combineData.groupby(['LIFESTAGE', 'PREMIUM_CUSTOMER']).PROD_QTY.sum() / combineData.groupby(['LIFESTAGE', 'PREMIUM_CUSTOMER']).LYLTY_CARD_NBR.nunique())\n",
    "avgUnitsPlot.unstack().plot(kind = 'bar', figsize = (10, 5), title = 'Average Unit by Customer Segment')\n",
    "\n",
    "# Comment: Older families and young families buy more chips per customer"
   ]
  },
  {
   "cell_type": "code",
   "execution_count": 73,
   "metadata": {},
   "outputs": [
    {
     "data": {
      "text/html": [
       "<div>\n",
       "<style scoped>\n",
       "    .dataframe tbody tr th:only-of-type {\n",
       "        vertical-align: middle;\n",
       "    }\n",
       "\n",
       "    .dataframe tbody tr th {\n",
       "        vertical-align: top;\n",
       "    }\n",
       "\n",
       "    .dataframe thead th {\n",
       "        text-align: right;\n",
       "    }\n",
       "</style>\n",
       "<table border=\"1\" class=\"dataframe\">\n",
       "  <thead>\n",
       "    <tr style=\"text-align: right;\">\n",
       "      <th></th>\n",
       "      <th></th>\n",
       "      <th>Price per Unit</th>\n",
       "    </tr>\n",
       "    <tr>\n",
       "      <th>PREMIUM_CUSTOMER</th>\n",
       "      <th>LIFESTAGE</th>\n",
       "      <th></th>\n",
       "    </tr>\n",
       "  </thead>\n",
       "  <tbody>\n",
       "    <tr>\n",
       "      <th rowspan=\"3\" valign=\"top\">Mainstream</th>\n",
       "      <th>YOUNG SINGLES/COUPLES</th>\n",
       "      <td>4.074043</td>\n",
       "    </tr>\n",
       "    <tr>\n",
       "      <th>MIDAGE SINGLES/COUPLES</th>\n",
       "      <td>3.994449</td>\n",
       "    </tr>\n",
       "    <tr>\n",
       "      <th>NEW FAMILIES</th>\n",
       "      <td>3.935887</td>\n",
       "    </tr>\n",
       "    <tr>\n",
       "      <th rowspan=\"2\" valign=\"top\">Budget</th>\n",
       "      <th>RETIREES</th>\n",
       "      <td>3.932731</td>\n",
       "    </tr>\n",
       "    <tr>\n",
       "      <th>NEW FAMILIES</th>\n",
       "      <td>3.931969</td>\n",
       "    </tr>\n",
       "  </tbody>\n",
       "</table>\n",
       "</div>"
      ],
      "text/plain": [
       "                                         Price per Unit\n",
       "PREMIUM_CUSTOMER LIFESTAGE                             \n",
       "Mainstream       YOUNG SINGLES/COUPLES         4.074043\n",
       "                 MIDAGE SINGLES/COUPLES        3.994449\n",
       "                 NEW FAMILIES                  3.935887\n",
       "Budget           RETIREES                      3.932731\n",
       "                 NEW FAMILIES                  3.931969"
      ]
     },
     "execution_count": 73,
     "metadata": {},
     "output_type": "execute_result"
    }
   ],
   "source": [
    "# Let's also investigate the average price per unit chips bought for each customer segment as this is also a driver of total sales\n",
    "# Total sales divided by total quantity purchased\n",
    "# Average price per unit by 'PREMIUM_CUSTOMER' and 'LIFESTAGE'\n",
    "\n",
    "avg_price = combineData.groupby(['PREMIUM_CUSTOMER', 'LIFESTAGE']).TOT_SALES.sum() / combineData.groupby(['PREMIUM_CUSTOMER', 'LIFESTAGE']).PROD_QTY.sum()\n",
    "avg_price = pd.DataFrame(avg_price, columns = {'Price per Unit'})\n",
    "avg_price.sort_values(by = 'Price per Unit', ascending = False).head()"
   ]
  },
  {
   "cell_type": "code",
   "execution_count": 74,
   "metadata": {},
   "outputs": [
    {
     "data": {
      "text/plain": [
       "<matplotlib.axes._subplots.AxesSubplot at 0x259bc2c5390>"
      ]
     },
     "execution_count": 74,
     "metadata": {},
     "output_type": "execute_result"
    },
    {
     "data": {
      "image/png": "[encoded data removed]",
      "text/plain": [
       "<Figure size 720x360 with 1 Axes>"
      ]
     },
     "metadata": {
      "needs_background": "light"
     },
     "output_type": "display_data"
    }
   ],
   "source": [
    "avgPricePlot = pd.DataFrame(combineData.groupby(['LIFESTAGE', 'PREMIUM_CUSTOMER']).TOT_SALES.sum() / combineData.groupby(['LIFESTAGE', 'PREMIUM_CUSTOMER']).PROD_QTY.sum())\n",
    "avgPricePlot.unstack().plot(kind = 'bar', figsize = (10, 5), title = 'Average Price by Customer Segment', ylim = (0, 6))\n",
    "\n",
    "# Comment: Mainstream midage and young singles and couples are more willing to pay more per packet of chips compared to their \n",
    "# budget and premium counterparts. This may be due to premium shoppers being more likely to buy healthy snacks and when\n",
    "# they do buy chips, it is mainly for entertainment purposes rather than their own consumption. This is also supported by\n",
    "# there being fewer premium midage and young singles and couples buying chips compared to their mainstream counterparts"
   ]
  },
  {
   "cell_type": "code",
   "execution_count": 75,
   "metadata": {},
   "outputs": [
    {
     "data": {
      "text/html": [
       "<div>\n",
       "<style scoped>\n",
       "    .dataframe tbody tr th:only-of-type {\n",
       "        vertical-align: middle;\n",
       "    }\n",
       "\n",
       "    .dataframe tbody tr th {\n",
       "        vertical-align: top;\n",
       "    }\n",
       "\n",
       "    .dataframe thead th {\n",
       "        text-align: right;\n",
       "    }\n",
       "</style>\n",
       "<table border=\"1\" class=\"dataframe\">\n",
       "  <thead>\n",
       "    <tr style=\"text-align: right;\">\n",
       "      <th></th>\n",
       "      <th>DATE</th>\n",
       "      <th>STORE_NBR</th>\n",
       "      <th>LYLTY_CARD_NBR</th>\n",
       "      <th>TXN_ID</th>\n",
       "      <th>PROD_NBR</th>\n",
       "      <th>PROD_NAME</th>\n",
       "      <th>PROD_QTY</th>\n",
       "      <th>TOT_SALES</th>\n",
       "      <th>PACK_SIZE</th>\n",
       "      <th>BRAND</th>\n",
       "      <th>LIFESTAGE</th>\n",
       "      <th>PREMIUM_CUSTOMER</th>\n",
       "      <th>PRICE</th>\n",
       "    </tr>\n",
       "  </thead>\n",
       "  <tbody>\n",
       "    <tr>\n",
       "      <th>0</th>\n",
       "      <td>2018-10-17</td>\n",
       "      <td>1</td>\n",
       "      <td>1000</td>\n",
       "      <td>1</td>\n",
       "      <td>5</td>\n",
       "      <td>Natural Chip        Compny Seasalt</td>\n",
       "      <td>2</td>\n",
       "      <td>6.0</td>\n",
       "      <td>175</td>\n",
       "      <td>Natural</td>\n",
       "      <td>YOUNG SINGLES/COUPLES</td>\n",
       "      <td>Premium</td>\n",
       "      <td>3.00</td>\n",
       "    </tr>\n",
       "    <tr>\n",
       "      <th>1</th>\n",
       "      <td>2019-05-14</td>\n",
       "      <td>1</td>\n",
       "      <td>1307</td>\n",
       "      <td>348</td>\n",
       "      <td>66</td>\n",
       "      <td>Ccs Nacho Cheese</td>\n",
       "      <td>3</td>\n",
       "      <td>6.3</td>\n",
       "      <td>175</td>\n",
       "      <td>CCS</td>\n",
       "      <td>MIDAGE SINGLES/COUPLES</td>\n",
       "      <td>Budget</td>\n",
       "      <td>2.10</td>\n",
       "    </tr>\n",
       "    <tr>\n",
       "      <th>2</th>\n",
       "      <td>2018-11-10</td>\n",
       "      <td>1</td>\n",
       "      <td>1307</td>\n",
       "      <td>346</td>\n",
       "      <td>96</td>\n",
       "      <td>Ww Original Stacked Chips</td>\n",
       "      <td>2</td>\n",
       "      <td>3.8</td>\n",
       "      <td>160</td>\n",
       "      <td>Woolworths</td>\n",
       "      <td>MIDAGE SINGLES/COUPLES</td>\n",
       "      <td>Budget</td>\n",
       "      <td>1.90</td>\n",
       "    </tr>\n",
       "    <tr>\n",
       "      <th>3</th>\n",
       "      <td>2019-03-09</td>\n",
       "      <td>1</td>\n",
       "      <td>1307</td>\n",
       "      <td>347</td>\n",
       "      <td>54</td>\n",
       "      <td>Ccs Original</td>\n",
       "      <td>1</td>\n",
       "      <td>2.1</td>\n",
       "      <td>175</td>\n",
       "      <td>CCS</td>\n",
       "      <td>MIDAGE SINGLES/COUPLES</td>\n",
       "      <td>Budget</td>\n",
       "      <td>2.10</td>\n",
       "    </tr>\n",
       "    <tr>\n",
       "      <th>4</th>\n",
       "      <td>2019-05-20</td>\n",
       "      <td>1</td>\n",
       "      <td>1343</td>\n",
       "      <td>383</td>\n",
       "      <td>61</td>\n",
       "      <td>Smiths Crinkle Cut  Chips Chicken</td>\n",
       "      <td>2</td>\n",
       "      <td>2.9</td>\n",
       "      <td>170</td>\n",
       "      <td>Smiths</td>\n",
       "      <td>MIDAGE SINGLES/COUPLES</td>\n",
       "      <td>Budget</td>\n",
       "      <td>1.45</td>\n",
       "    </tr>\n",
       "  </tbody>\n",
       "</table>\n",
       "</div>"
      ],
      "text/plain": [
       "        DATE  STORE_NBR  LYLTY_CARD_NBR  TXN_ID  PROD_NBR  \\\n",
       "0 2018-10-17          1            1000       1         5   \n",
       "1 2019-05-14          1            1307     348        66   \n",
       "2 2018-11-10          1            1307     346        96   \n",
       "3 2019-03-09          1            1307     347        54   \n",
       "4 2019-05-20          1            1343     383        61   \n",
       "\n",
       "                             PROD_NAME  PROD_QTY  TOT_SALES  PACK_SIZE  \\\n",
       "0  Natural Chip        Compny Seasalt          2        6.0        175   \n",
       "1                Ccs Nacho Cheese              3        6.3        175   \n",
       "2          Ww Original Stacked Chips           2        3.8        160   \n",
       "3                       Ccs Original           1        2.1        175   \n",
       "4  Smiths Crinkle Cut  Chips Chicken           2        2.9        170   \n",
       "\n",
       "        BRAND               LIFESTAGE PREMIUM_CUSTOMER  PRICE  \n",
       "0     Natural   YOUNG SINGLES/COUPLES          Premium   3.00  \n",
       "1         CCS  MIDAGE SINGLES/COUPLES           Budget   2.10  \n",
       "2  Woolworths  MIDAGE SINGLES/COUPLES           Budget   1.90  \n",
       "3         CCS  MIDAGE SINGLES/COUPLES           Budget   2.10  \n",
       "4      Smiths  MIDAGE SINGLES/COUPLES           Budget   1.45  "
      ]
     },
     "execution_count": 75,
     "metadata": {},
     "output_type": "execute_result"
    }
   ],
   "source": [
    "# As this difference in average price per unit is not too large \n",
    "# Perform an independent t-test between mainstream vs non-mainstream midage and young singles/couples\n",
    "\n",
    "# Create a new dataframe 'pricePerUnit'\n",
    "pricePerUnit = combineData\n",
    "\n",
    "# Create a new column under 'pricePerUnit' called 'PRICE'\n",
    "pricePerUnit['PRICE'] = pricePerUnit['TOT_SALES'] / pricePerUnit['PROD_QTY']\n",
    "\n",
    "# Let's have a look\n",
    "pricePerUnit.head()"
   ]
  },
  {
   "cell_type": "code",
   "execution_count": 76,
   "metadata": {},
   "outputs": [],
   "source": [
    "# Let's group our data into mainstream and non-mainstream\n",
    "\n",
    "mainstream = pricePerUnit.loc[(pricePerUnit['PREMIUM_CUSTOMER'] == 'Mainstream') & ( (pricePerUnit['LIFESTAGE'] == 'YOUNG SINGLES/COUPLES') | (pricePerUnit['LIFESTAGE'] == 'MIDAGE SINGLES/COUPLES') ), 'PRICE']\n",
    "nonMainstream = pricePerUnit.loc[(pricePerUnit['PREMIUM_CUSTOMER'] != 'Mainstream') & ( (pricePerUnit['LIFESTAGE'] == 'YOUNG SINGLES/COUPLES') | (pricePerUnit['LIFESTAGE'] == 'MIDAGE SINGLES/COUPLES') ), 'PRICE']"
   ]
  },
  {
   "cell_type": "code",
   "execution_count": 77,
   "metadata": {},
   "outputs": [
    {
     "data": {
      "text/plain": [
       "Text(0.5, 0, 'Price per Unit')"
      ]
     },
     "execution_count": 77,
     "metadata": {},
     "output_type": "execute_result"
    },
    {
     "data": {
      "image/png": "[encoded data removed]",
      "text/plain": [
       "<Figure size 720x360 with 1 Axes>"
      ]
     },
     "metadata": {
      "needs_background": "light"
     },
     "output_type": "display_data"
    }
   ],
   "source": [
    "plt.figure(figsize = (10, 5))\n",
    "plt.hist(mainstream, label = 'Mainstream')\n",
    "plt.hist(nonMainstream, label = 'Premium & Budget')\n",
    "plt.legend()\n",
    "plt.xlabel('Price per Unit')"
   ]
  },
  {
   "cell_type": "code",
   "execution_count": 78,
   "metadata": {},
   "outputs": [
    {
     "data": {
      "text/plain": [
       "[4.039785893795137, 3.706491319963857]"
      ]
     },
     "execution_count": 78,
     "metadata": {},
     "output_type": "execute_result"
    }
   ],
   "source": [
    "# Let's have a look at their means\n",
    "\n",
    "[np.mean(mainstream), np.mean(nonMainstream)]\n",
    "\n",
    "# Mainstream has a higher average price per unit"
   ]
  },
  {
   "cell_type": "code",
   "execution_count": 79,
   "metadata": {},
   "outputs": [
    {
     "data": {
      "text/plain": [
       "Ttest_indResult(statistic=37.83196107667825, pvalue=2.235645611540966e-309)"
      ]
     },
     "execution_count": 79,
     "metadata": {},
     "output_type": "execute_result"
    }
   ],
   "source": [
    "# Perform t-test \n",
    "\n",
    "ttest_ind(mainstream, nonMainstream)\n",
    "\n",
    "# Comment: Mainstream price per unit is significantly higher than non-mainstream"
   ]
  },
  {
   "cell_type": "code",
   "execution_count": 80,
   "metadata": {},
   "outputs": [
    {
     "data": {
      "text/html": [
       "<div>\n",
       "<style scoped>\n",
       "    .dataframe tbody tr th:only-of-type {\n",
       "        vertical-align: middle;\n",
       "    }\n",
       "\n",
       "    .dataframe tbody tr th {\n",
       "        vertical-align: top;\n",
       "    }\n",
       "\n",
       "    .dataframe thead th {\n",
       "        text-align: right;\n",
       "    }\n",
       "</style>\n",
       "<table border=\"1\" class=\"dataframe\">\n",
       "  <thead>\n",
       "    <tr style=\"text-align: right;\">\n",
       "      <th></th>\n",
       "      <th>DATE</th>\n",
       "      <th>STORE_NBR</th>\n",
       "      <th>LYLTY_CARD_NBR</th>\n",
       "      <th>TXN_ID</th>\n",
       "      <th>PROD_NBR</th>\n",
       "      <th>PROD_NAME</th>\n",
       "      <th>PROD_QTY</th>\n",
       "      <th>TOT_SALES</th>\n",
       "      <th>PACK_SIZE</th>\n",
       "      <th>BRAND</th>\n",
       "      <th>LIFESTAGE</th>\n",
       "      <th>PREMIUM_CUSTOMER</th>\n",
       "      <th>PRICE</th>\n",
       "    </tr>\n",
       "  </thead>\n",
       "  <tbody>\n",
       "    <tr>\n",
       "      <th>221345</th>\n",
       "      <td>2018-08-16</td>\n",
       "      <td>1</td>\n",
       "      <td>1020</td>\n",
       "      <td>26</td>\n",
       "      <td>19</td>\n",
       "      <td>Smiths Crinkle Cut  Snag Sauce</td>\n",
       "      <td>1</td>\n",
       "      <td>2.6</td>\n",
       "      <td>150</td>\n",
       "      <td>Smiths</td>\n",
       "      <td>YOUNG SINGLES/COUPLES</td>\n",
       "      <td>Mainstream</td>\n",
       "      <td>2.6</td>\n",
       "    </tr>\n",
       "    <tr>\n",
       "      <th>221346</th>\n",
       "      <td>2018-10-02</td>\n",
       "      <td>1</td>\n",
       "      <td>1020</td>\n",
       "      <td>27</td>\n",
       "      <td>7</td>\n",
       "      <td>Smiths Crinkle      Original</td>\n",
       "      <td>1</td>\n",
       "      <td>5.7</td>\n",
       "      <td>330</td>\n",
       "      <td>Smiths</td>\n",
       "      <td>YOUNG SINGLES/COUPLES</td>\n",
       "      <td>Mainstream</td>\n",
       "      <td>5.7</td>\n",
       "    </tr>\n",
       "    <tr>\n",
       "      <th>221347</th>\n",
       "      <td>2019-05-02</td>\n",
       "      <td>1</td>\n",
       "      <td>1020</td>\n",
       "      <td>28</td>\n",
       "      <td>84</td>\n",
       "      <td>Grnwves Plus Btroot   Chilli Jam</td>\n",
       "      <td>1</td>\n",
       "      <td>3.1</td>\n",
       "      <td>180</td>\n",
       "      <td>Grain waves</td>\n",
       "      <td>YOUNG SINGLES/COUPLES</td>\n",
       "      <td>Mainstream</td>\n",
       "      <td>3.1</td>\n",
       "    </tr>\n",
       "    <tr>\n",
       "      <th>221348</th>\n",
       "      <td>2018-08-17</td>\n",
       "      <td>1</td>\n",
       "      <td>1163</td>\n",
       "      <td>188</td>\n",
       "      <td>46</td>\n",
       "      <td>Kettle Original</td>\n",
       "      <td>1</td>\n",
       "      <td>5.4</td>\n",
       "      <td>175</td>\n",
       "      <td>Kettle</td>\n",
       "      <td>YOUNG SINGLES/COUPLES</td>\n",
       "      <td>Mainstream</td>\n",
       "      <td>5.4</td>\n",
       "    </tr>\n",
       "    <tr>\n",
       "      <th>221349</th>\n",
       "      <td>2019-02-07</td>\n",
       "      <td>1</td>\n",
       "      <td>1163</td>\n",
       "      <td>189</td>\n",
       "      <td>12</td>\n",
       "      <td>Natural Chip Co     Tmato Hrb Spce</td>\n",
       "      <td>1</td>\n",
       "      <td>3.0</td>\n",
       "      <td>175</td>\n",
       "      <td>Natural</td>\n",
       "      <td>YOUNG SINGLES/COUPLES</td>\n",
       "      <td>Mainstream</td>\n",
       "      <td>3.0</td>\n",
       "    </tr>\n",
       "  </tbody>\n",
       "</table>\n",
       "</div>"
      ],
      "text/plain": [
       "             DATE  STORE_NBR  LYLTY_CARD_NBR  TXN_ID  PROD_NBR  \\\n",
       "221345 2018-08-16          1            1020      26        19   \n",
       "221346 2018-10-02          1            1020      27         7   \n",
       "221347 2019-05-02          1            1020      28        84   \n",
       "221348 2018-08-17          1            1163     188        46   \n",
       "221349 2019-02-07          1            1163     189        12   \n",
       "\n",
       "                                   PROD_NAME  PROD_QTY  TOT_SALES  PACK_SIZE  \\\n",
       "221345      Smiths Crinkle Cut  Snag Sauce           1        2.6        150   \n",
       "221346        Smiths Crinkle      Original           1        5.7        330   \n",
       "221347    Grnwves Plus Btroot   Chilli Jam           1        3.1        180   \n",
       "221348                     Kettle Original           1        5.4        175   \n",
       "221349  Natural Chip Co     Tmato Hrb Spce           1        3.0        175   \n",
       "\n",
       "              BRAND              LIFESTAGE PREMIUM_CUSTOMER  PRICE  \n",
       "221345       Smiths  YOUNG SINGLES/COUPLES       Mainstream    2.6  \n",
       "221346       Smiths  YOUNG SINGLES/COUPLES       Mainstream    5.7  \n",
       "221347  Grain waves  YOUNG SINGLES/COUPLES       Mainstream    3.1  \n",
       "221348       Kettle  YOUNG SINGLES/COUPLES       Mainstream    5.4  \n",
       "221349      Natural  YOUNG SINGLES/COUPLES       Mainstream    3.0  "
      ]
     },
     "execution_count": 80,
     "metadata": {},
     "output_type": "execute_result"
    }
   ],
   "source": [
    "# Deep dive into specific customer segment for insights\n",
    "# We have found quite a few interesting insights that we can dive deeper into \n",
    "# For example, we might want to target customers segments that contribute the most to sales to retain them to further increase sales\n",
    "# Let's examine mainstream young singles/couples against the rest of the cutomer segments to see if they prefer any particular brand of chips\n",
    "\n",
    "target = combineData.loc[(combineData['LIFESTAGE'] == 'YOUNG SINGLES/COUPLES') & (combineData['PREMIUM_CUSTOMER'] == 'Mainstream'), :]\n",
    "nonTarget = combineData.loc[(combineData['LIFESTAGE'] != 'YOUNG SINGLES/COUPLES' ) & (combineData['PREMIUM_CUSTOMER'] != 'Mainstream'), :]\n",
    "target.head()"
   ]
  },
  {
   "cell_type": "code",
   "execution_count": 81,
   "metadata": {},
   "outputs": [],
   "source": [
    "# Affinity to brand\n",
    "\n",
    "# Target Segment\n",
    "targetBrand = target.loc[:, ['BRAND', 'PROD_QTY']]\n",
    "targetSum = targetBrand['PROD_QTY'].sum()\n",
    "targetBrand['Target Brand Affinity'] = targetBrand['PROD_QTY'] / targetSum\n",
    "targetBrand = pd.DataFrame(targetBrand.groupby('BRAND')['Target Brand Affinity'].sum())\n",
    "\n",
    "# Non-target segment\n",
    "nonTargetBrand = nonTarget.loc[:, ['BRAND', 'PROD_QTY']]\n",
    "nonTargetSum = nonTargetBrand['PROD_QTY'].sum()\n",
    "nonTargetBrand['Non-Target Brand Affinity'] = nonTargetBrand['PROD_QTY'] / nonTargetSum\n",
    "nonTargetBrand = pd.DataFrame(nonTargetBrand.groupby('BRAND')['Non-Target Brand Affinity'].sum())"
   ]
  },
  {
   "cell_type": "code",
   "execution_count": 82,
   "metadata": {},
   "outputs": [
    {
     "data": {
      "text/html": [
       "<div>\n",
       "<style scoped>\n",
       "    .dataframe tbody tr th:only-of-type {\n",
       "        vertical-align: middle;\n",
       "    }\n",
       "\n",
       "    .dataframe tbody tr th {\n",
       "        vertical-align: top;\n",
       "    }\n",
       "\n",
       "    .dataframe thead th {\n",
       "        text-align: right;\n",
       "    }\n",
       "</style>\n",
       "<table border=\"1\" class=\"dataframe\">\n",
       "  <thead>\n",
       "    <tr style=\"text-align: right;\">\n",
       "      <th></th>\n",
       "      <th>Target Brand Affinity</th>\n",
       "      <th>Non-Target Brand Affinity</th>\n",
       "    </tr>\n",
       "    <tr>\n",
       "      <th>BRAND</th>\n",
       "      <th></th>\n",
       "      <th></th>\n",
       "    </tr>\n",
       "  </thead>\n",
       "  <tbody>\n",
       "    <tr>\n",
       "      <th>Burger</th>\n",
       "      <td>0.002926</td>\n",
       "      <td>0.006538</td>\n",
       "    </tr>\n",
       "    <tr>\n",
       "      <th>CCS</th>\n",
       "      <td>0.011180</td>\n",
       "      <td>0.018445</td>\n",
       "    </tr>\n",
       "    <tr>\n",
       "      <th>Cheetos</th>\n",
       "      <td>0.008033</td>\n",
       "      <td>0.011759</td>\n",
       "    </tr>\n",
       "    <tr>\n",
       "      <th>Cheezels</th>\n",
       "      <td>0.017971</td>\n",
       "      <td>0.018904</td>\n",
       "    </tr>\n",
       "    <tr>\n",
       "      <th>Cobs</th>\n",
       "      <td>0.044638</td>\n",
       "      <td>0.038449</td>\n",
       "    </tr>\n",
       "  </tbody>\n",
       "</table>\n",
       "</div>"
      ],
      "text/plain": [
       "          Target Brand Affinity  Non-Target Brand Affinity\n",
       "BRAND                                                     \n",
       "Burger                 0.002926                   0.006538\n",
       "CCS                    0.011180                   0.018445\n",
       "Cheetos                0.008033                   0.011759\n",
       "Cheezels               0.017971                   0.018904\n",
       "Cobs                   0.044638                   0.038449"
      ]
     },
     "execution_count": 82,
     "metadata": {},
     "output_type": "execute_result"
    }
   ],
   "source": [
    "# Merge the two dataframes together\n",
    "\n",
    "brand_proportions = pd.merge(targetBrand, nonTargetBrand, left_index = True, right_index = True)\n",
    "brand_proportions.head()"
   ]
  },
  {
   "cell_type": "code",
   "execution_count": 83,
   "metadata": {},
   "outputs": [
    {
     "data": {
      "text/html": [
       "<div>\n",
       "<style scoped>\n",
       "    .dataframe tbody tr th:only-of-type {\n",
       "        vertical-align: middle;\n",
       "    }\n",
       "\n",
       "    .dataframe tbody tr th {\n",
       "        vertical-align: top;\n",
       "    }\n",
       "\n",
       "    .dataframe thead th {\n",
       "        text-align: right;\n",
       "    }\n",
       "</style>\n",
       "<table border=\"1\" class=\"dataframe\">\n",
       "  <thead>\n",
       "    <tr style=\"text-align: right;\">\n",
       "      <th></th>\n",
       "      <th>Target Brand Affinity</th>\n",
       "      <th>Non-Target Brand Affinity</th>\n",
       "      <th>Affinity to Brand</th>\n",
       "    </tr>\n",
       "    <tr>\n",
       "      <th>BRAND</th>\n",
       "      <th></th>\n",
       "      <th></th>\n",
       "      <th></th>\n",
       "    </tr>\n",
       "  </thead>\n",
       "  <tbody>\n",
       "    <tr>\n",
       "      <th>Tyrrells</th>\n",
       "      <td>0.031553</td>\n",
       "      <td>0.025715</td>\n",
       "      <td>1.227025</td>\n",
       "    </tr>\n",
       "    <tr>\n",
       "      <th>Twisties</th>\n",
       "      <td>0.046184</td>\n",
       "      <td>0.037933</td>\n",
       "      <td>1.217506</td>\n",
       "    </tr>\n",
       "    <tr>\n",
       "      <th>Doritos</th>\n",
       "      <td>0.122761</td>\n",
       "      <td>0.101171</td>\n",
       "      <td>1.213397</td>\n",
       "    </tr>\n",
       "    <tr>\n",
       "      <th>Kettle</th>\n",
       "      <td>0.197985</td>\n",
       "      <td>0.166560</td>\n",
       "      <td>1.188667</td>\n",
       "    </tr>\n",
       "    <tr>\n",
       "      <th>Tostitos</th>\n",
       "      <td>0.045411</td>\n",
       "      <td>0.038350</td>\n",
       "      <td>1.184100</td>\n",
       "    </tr>\n",
       "    <tr>\n",
       "      <th>Pringles</th>\n",
       "      <td>0.119420</td>\n",
       "      <td>0.101110</td>\n",
       "      <td>1.181090</td>\n",
       "    </tr>\n",
       "    <tr>\n",
       "      <th>Cobs</th>\n",
       "      <td>0.044638</td>\n",
       "      <td>0.038449</td>\n",
       "      <td>1.160959</td>\n",
       "    </tr>\n",
       "    <tr>\n",
       "      <th>Infuzions</th>\n",
       "      <td>0.064679</td>\n",
       "      <td>0.057410</td>\n",
       "      <td>1.126622</td>\n",
       "    </tr>\n",
       "    <tr>\n",
       "      <th>Thins</th>\n",
       "      <td>0.060373</td>\n",
       "      <td>0.057159</td>\n",
       "      <td>1.056217</td>\n",
       "    </tr>\n",
       "    <tr>\n",
       "      <th>Grain waves</th>\n",
       "      <td>0.032712</td>\n",
       "      <td>0.031069</td>\n",
       "      <td>1.052895</td>\n",
       "    </tr>\n",
       "    <tr>\n",
       "      <th>Cheezels</th>\n",
       "      <td>0.017971</td>\n",
       "      <td>0.018904</td>\n",
       "      <td>0.950653</td>\n",
       "    </tr>\n",
       "    <tr>\n",
       "      <th>Smiths</th>\n",
       "      <td>0.096370</td>\n",
       "      <td>0.124218</td>\n",
       "      <td>0.775811</td>\n",
       "    </tr>\n",
       "    <tr>\n",
       "      <th>French</th>\n",
       "      <td>0.003948</td>\n",
       "      <td>0.005707</td>\n",
       "      <td>0.691724</td>\n",
       "    </tr>\n",
       "    <tr>\n",
       "      <th>Cheetos</th>\n",
       "      <td>0.008033</td>\n",
       "      <td>0.011759</td>\n",
       "      <td>0.683150</td>\n",
       "    </tr>\n",
       "    <tr>\n",
       "      <th>Red Rock Deli</th>\n",
       "      <td>0.043810</td>\n",
       "      <td>0.067184</td>\n",
       "      <td>0.652080</td>\n",
       "    </tr>\n",
       "    <tr>\n",
       "      <th>Natural</th>\n",
       "      <td>0.019600</td>\n",
       "      <td>0.030959</td>\n",
       "      <td>0.633091</td>\n",
       "    </tr>\n",
       "    <tr>\n",
       "      <th>CCS</th>\n",
       "      <td>0.011180</td>\n",
       "      <td>0.018445</td>\n",
       "      <td>0.606142</td>\n",
       "    </tr>\n",
       "    <tr>\n",
       "      <th>Sunbites</th>\n",
       "      <td>0.006349</td>\n",
       "      <td>0.012613</td>\n",
       "      <td>0.503398</td>\n",
       "    </tr>\n",
       "    <tr>\n",
       "      <th>Woolworths</th>\n",
       "      <td>0.024099</td>\n",
       "      <td>0.048747</td>\n",
       "      <td>0.494376</td>\n",
       "    </tr>\n",
       "    <tr>\n",
       "      <th>Burger</th>\n",
       "      <td>0.002926</td>\n",
       "      <td>0.006538</td>\n",
       "      <td>0.447574</td>\n",
       "    </tr>\n",
       "  </tbody>\n",
       "</table>\n",
       "</div>"
      ],
      "text/plain": [
       "               Target Brand Affinity  Non-Target Brand Affinity  \\\n",
       "BRAND                                                             \n",
       "Tyrrells                    0.031553                   0.025715   \n",
       "Twisties                    0.046184                   0.037933   \n",
       "Doritos                     0.122761                   0.101171   \n",
       "Kettle                      0.197985                   0.166560   \n",
       "Tostitos                    0.045411                   0.038350   \n",
       "Pringles                    0.119420                   0.101110   \n",
       "Cobs                        0.044638                   0.038449   \n",
       "Infuzions                   0.064679                   0.057410   \n",
       "Thins                       0.060373                   0.057159   \n",
       "Grain waves                 0.032712                   0.031069   \n",
       "Cheezels                    0.017971                   0.018904   \n",
       "Smiths                      0.096370                   0.124218   \n",
       "French                      0.003948                   0.005707   \n",
       "Cheetos                     0.008033                   0.011759   \n",
       "Red Rock Deli               0.043810                   0.067184   \n",
       "Natural                     0.019600                   0.030959   \n",
       "CCS                         0.011180                   0.018445   \n",
       "Sunbites                    0.006349                   0.012613   \n",
       "Woolworths                  0.024099                   0.048747   \n",
       "Burger                      0.002926                   0.006538   \n",
       "\n",
       "               Affinity to Brand  \n",
       "BRAND                             \n",
       "Tyrrells                1.227025  \n",
       "Twisties                1.217506  \n",
       "Doritos                 1.213397  \n",
       "Kettle                  1.188667  \n",
       "Tostitos                1.184100  \n",
       "Pringles                1.181090  \n",
       "Cobs                    1.160959  \n",
       "Infuzions               1.126622  \n",
       "Thins                   1.056217  \n",
       "Grain waves             1.052895  \n",
       "Cheezels                0.950653  \n",
       "Smiths                  0.775811  \n",
       "French                  0.691724  \n",
       "Cheetos                 0.683150  \n",
       "Red Rock Deli           0.652080  \n",
       "Natural                 0.633091  \n",
       "CCS                     0.606142  \n",
       "Sunbites                0.503398  \n",
       "Woolworths              0.494376  \n",
       "Burger                  0.447574  "
      ]
     },
     "execution_count": 83,
     "metadata": {},
     "output_type": "execute_result"
    }
   ],
   "source": [
    "brand_proportions['Affinity to Brand'] = brand_proportions['Target Brand Affinity'] / brand_proportions['Non-Target Brand Affinity']\n",
    "brand_proportions.sort_values(by = 'Affinity to Brand', ascending = False)"
   ]
  },
  {
   "cell_type": "code",
   "execution_count": 84,
   "metadata": {},
   "outputs": [],
   "source": [
    "# Comment: Mainstream young singles/couples are more likely to purchase Tyrrells chips compared to other brands"
   ]
  },
  {
   "cell_type": "code",
   "execution_count": 85,
   "metadata": {},
   "outputs": [],
   "source": [
    "# Affinity to pack size\n",
    "\n",
    "# Target Segment\n",
    "targetSize = target.loc[:, ['PACK_SIZE', 'PROD_QTY']]\n",
    "targetSum = targetSize['PROD_QTY'].sum()\n",
    "targetSize['Target Pack Affinity'] = targetSize['PROD_QTY'] / targetSum\n",
    "targetSize = pd.DataFrame(targetSize.groupby('PACK_SIZE')['Target Pack Affinity'].sum())\n",
    "\n",
    "# Non-target segment\n",
    "nonTargetSize = nonTarget.loc[:, ['PACK_SIZE', 'PROD_QTY']]\n",
    "nonTargetSum = nonTargetSize['PROD_QTY'].sum()\n",
    "nonTargetSize['Non-Target Pack Affinity'] = nonTargetSize['PROD_QTY'] / nonTargetSum\n",
    "nonTargetSize = pd.DataFrame(nonTargetSize.groupby('PACK_SIZE')['Non-Target Pack Affinity'].sum())"
   ]
  },
  {
   "cell_type": "code",
   "execution_count": 86,
   "metadata": {},
   "outputs": [
    {
     "data": {
      "text/html": [
       "<div>\n",
       "<style scoped>\n",
       "    .dataframe tbody tr th:only-of-type {\n",
       "        vertical-align: middle;\n",
       "    }\n",
       "\n",
       "    .dataframe tbody tr th {\n",
       "        vertical-align: top;\n",
       "    }\n",
       "\n",
       "    .dataframe thead th {\n",
       "        text-align: right;\n",
       "    }\n",
       "</style>\n",
       "<table border=\"1\" class=\"dataframe\">\n",
       "  <thead>\n",
       "    <tr style=\"text-align: right;\">\n",
       "      <th></th>\n",
       "      <th>Target Pack Affinity</th>\n",
       "      <th>Non-Target Pack Affinity</th>\n",
       "    </tr>\n",
       "    <tr>\n",
       "      <th>PACK_SIZE</th>\n",
       "      <th></th>\n",
       "      <th></th>\n",
       "    </tr>\n",
       "  </thead>\n",
       "  <tbody>\n",
       "    <tr>\n",
       "      <th>70</th>\n",
       "      <td>0.003037</td>\n",
       "      <td>0.006284</td>\n",
       "    </tr>\n",
       "    <tr>\n",
       "      <th>90</th>\n",
       "      <td>0.006349</td>\n",
       "      <td>0.012613</td>\n",
       "    </tr>\n",
       "    <tr>\n",
       "      <th>110</th>\n",
       "      <td>0.106280</td>\n",
       "      <td>0.089575</td>\n",
       "    </tr>\n",
       "    <tr>\n",
       "      <th>125</th>\n",
       "      <td>0.003009</td>\n",
       "      <td>0.005976</td>\n",
       "    </tr>\n",
       "    <tr>\n",
       "      <th>134</th>\n",
       "      <td>0.119420</td>\n",
       "      <td>0.101110</td>\n",
       "    </tr>\n",
       "  </tbody>\n",
       "</table>\n",
       "</div>"
      ],
      "text/plain": [
       "           Target Pack Affinity  Non-Target Pack Affinity\n",
       "PACK_SIZE                                                \n",
       "70                     0.003037                  0.006284\n",
       "90                     0.006349                  0.012613\n",
       "110                    0.106280                  0.089575\n",
       "125                    0.003009                  0.005976\n",
       "134                    0.119420                  0.101110"
      ]
     },
     "execution_count": 86,
     "metadata": {},
     "output_type": "execute_result"
    }
   ],
   "source": [
    "# Merge the two dataframes together\n",
    "\n",
    "pack_proportions = pd.merge(targetSize, nonTargetSize, left_index = True, right_index = True)\n",
    "pack_proportions.head()"
   ]
  },
  {
   "cell_type": "code",
   "execution_count": 87,
   "metadata": {},
   "outputs": [
    {
     "data": {
      "text/html": [
       "<div>\n",
       "<style scoped>\n",
       "    .dataframe tbody tr th:only-of-type {\n",
       "        vertical-align: middle;\n",
       "    }\n",
       "\n",
       "    .dataframe tbody tr th {\n",
       "        vertical-align: top;\n",
       "    }\n",
       "\n",
       "    .dataframe thead th {\n",
       "        text-align: right;\n",
       "    }\n",
       "</style>\n",
       "<table border=\"1\" class=\"dataframe\">\n",
       "  <thead>\n",
       "    <tr style=\"text-align: right;\">\n",
       "      <th></th>\n",
       "      <th>Target Brand Affinity</th>\n",
       "      <th>Non-Target Brand Affinity</th>\n",
       "      <th>Affinity to Brand</th>\n",
       "    </tr>\n",
       "    <tr>\n",
       "      <th>BRAND</th>\n",
       "      <th></th>\n",
       "      <th></th>\n",
       "      <th></th>\n",
       "    </tr>\n",
       "  </thead>\n",
       "  <tbody>\n",
       "    <tr>\n",
       "      <th>Tyrrells</th>\n",
       "      <td>0.031553</td>\n",
       "      <td>0.025715</td>\n",
       "      <td>1.227025</td>\n",
       "    </tr>\n",
       "    <tr>\n",
       "      <th>Twisties</th>\n",
       "      <td>0.046184</td>\n",
       "      <td>0.037933</td>\n",
       "      <td>1.217506</td>\n",
       "    </tr>\n",
       "    <tr>\n",
       "      <th>Doritos</th>\n",
       "      <td>0.122761</td>\n",
       "      <td>0.101171</td>\n",
       "      <td>1.213397</td>\n",
       "    </tr>\n",
       "    <tr>\n",
       "      <th>Kettle</th>\n",
       "      <td>0.197985</td>\n",
       "      <td>0.166560</td>\n",
       "      <td>1.188667</td>\n",
       "    </tr>\n",
       "    <tr>\n",
       "      <th>Tostitos</th>\n",
       "      <td>0.045411</td>\n",
       "      <td>0.038350</td>\n",
       "      <td>1.184100</td>\n",
       "    </tr>\n",
       "    <tr>\n",
       "      <th>Pringles</th>\n",
       "      <td>0.119420</td>\n",
       "      <td>0.101110</td>\n",
       "      <td>1.181090</td>\n",
       "    </tr>\n",
       "    <tr>\n",
       "      <th>Cobs</th>\n",
       "      <td>0.044638</td>\n",
       "      <td>0.038449</td>\n",
       "      <td>1.160959</td>\n",
       "    </tr>\n",
       "    <tr>\n",
       "      <th>Infuzions</th>\n",
       "      <td>0.064679</td>\n",
       "      <td>0.057410</td>\n",
       "      <td>1.126622</td>\n",
       "    </tr>\n",
       "    <tr>\n",
       "      <th>Thins</th>\n",
       "      <td>0.060373</td>\n",
       "      <td>0.057159</td>\n",
       "      <td>1.056217</td>\n",
       "    </tr>\n",
       "    <tr>\n",
       "      <th>Grain waves</th>\n",
       "      <td>0.032712</td>\n",
       "      <td>0.031069</td>\n",
       "      <td>1.052895</td>\n",
       "    </tr>\n",
       "    <tr>\n",
       "      <th>Cheezels</th>\n",
       "      <td>0.017971</td>\n",
       "      <td>0.018904</td>\n",
       "      <td>0.950653</td>\n",
       "    </tr>\n",
       "    <tr>\n",
       "      <th>Smiths</th>\n",
       "      <td>0.096370</td>\n",
       "      <td>0.124218</td>\n",
       "      <td>0.775811</td>\n",
       "    </tr>\n",
       "    <tr>\n",
       "      <th>French</th>\n",
       "      <td>0.003948</td>\n",
       "      <td>0.005707</td>\n",
       "      <td>0.691724</td>\n",
       "    </tr>\n",
       "    <tr>\n",
       "      <th>Cheetos</th>\n",
       "      <td>0.008033</td>\n",
       "      <td>0.011759</td>\n",
       "      <td>0.683150</td>\n",
       "    </tr>\n",
       "    <tr>\n",
       "      <th>Red Rock Deli</th>\n",
       "      <td>0.043810</td>\n",
       "      <td>0.067184</td>\n",
       "      <td>0.652080</td>\n",
       "    </tr>\n",
       "    <tr>\n",
       "      <th>Natural</th>\n",
       "      <td>0.019600</td>\n",
       "      <td>0.030959</td>\n",
       "      <td>0.633091</td>\n",
       "    </tr>\n",
       "    <tr>\n",
       "      <th>CCS</th>\n",
       "      <td>0.011180</td>\n",
       "      <td>0.018445</td>\n",
       "      <td>0.606142</td>\n",
       "    </tr>\n",
       "    <tr>\n",
       "      <th>Sunbites</th>\n",
       "      <td>0.006349</td>\n",
       "      <td>0.012613</td>\n",
       "      <td>0.503398</td>\n",
       "    </tr>\n",
       "    <tr>\n",
       "      <th>Woolworths</th>\n",
       "      <td>0.024099</td>\n",
       "      <td>0.048747</td>\n",
       "      <td>0.494376</td>\n",
       "    </tr>\n",
       "    <tr>\n",
       "      <th>Burger</th>\n",
       "      <td>0.002926</td>\n",
       "      <td>0.006538</td>\n",
       "      <td>0.447574</td>\n",
       "    </tr>\n",
       "  </tbody>\n",
       "</table>\n",
       "</div>"
      ],
      "text/plain": [
       "               Target Brand Affinity  Non-Target Brand Affinity  \\\n",
       "BRAND                                                             \n",
       "Tyrrells                    0.031553                   0.025715   \n",
       "Twisties                    0.046184                   0.037933   \n",
       "Doritos                     0.122761                   0.101171   \n",
       "Kettle                      0.197985                   0.166560   \n",
       "Tostitos                    0.045411                   0.038350   \n",
       "Pringles                    0.119420                   0.101110   \n",
       "Cobs                        0.044638                   0.038449   \n",
       "Infuzions                   0.064679                   0.057410   \n",
       "Thins                       0.060373                   0.057159   \n",
       "Grain waves                 0.032712                   0.031069   \n",
       "Cheezels                    0.017971                   0.018904   \n",
       "Smiths                      0.096370                   0.124218   \n",
       "French                      0.003948                   0.005707   \n",
       "Cheetos                     0.008033                   0.011759   \n",
       "Red Rock Deli               0.043810                   0.067184   \n",
       "Natural                     0.019600                   0.030959   \n",
       "CCS                         0.011180                   0.018445   \n",
       "Sunbites                    0.006349                   0.012613   \n",
       "Woolworths                  0.024099                   0.048747   \n",
       "Burger                      0.002926                   0.006538   \n",
       "\n",
       "               Affinity to Brand  \n",
       "BRAND                             \n",
       "Tyrrells                1.227025  \n",
       "Twisties                1.217506  \n",
       "Doritos                 1.213397  \n",
       "Kettle                  1.188667  \n",
       "Tostitos                1.184100  \n",
       "Pringles                1.181090  \n",
       "Cobs                    1.160959  \n",
       "Infuzions               1.126622  \n",
       "Thins                   1.056217  \n",
       "Grain waves             1.052895  \n",
       "Cheezels                0.950653  \n",
       "Smiths                  0.775811  \n",
       "French                  0.691724  \n",
       "Cheetos                 0.683150  \n",
       "Red Rock Deli           0.652080  \n",
       "Natural                 0.633091  \n",
       "CCS                     0.606142  \n",
       "Sunbites                0.503398  \n",
       "Woolworths              0.494376  \n",
       "Burger                  0.447574  "
      ]
     },
     "execution_count": 87,
     "metadata": {},
     "output_type": "execute_result"
    }
   ],
   "source": [
    "brand_proportions['Affinity to Brand'] = brand_proportions['Target Brand Affinity'] / brand_proportions['Non-Target Brand Affinity']\n",
    "brand_proportions.sort_values(by = 'Affinity to Brand', ascending = False)"
   ]
  },
  {
   "cell_type": "code",
   "execution_count": 88,
   "metadata": {},
   "outputs": [],
   "source": [
    "# Comment: Mainstream young singles/couples are more likely to purchase Tyrrells chips compared to other brands"
   ]
  },
  {
   "cell_type": "code",
   "execution_count": 89,
   "metadata": {},
   "outputs": [],
   "source": [
    "# Affinity to pack size\n",
    "\n",
    "# Target Segment\n",
    "targetSize = target.loc[:, ['PACK_SIZE', 'PROD_QTY']]\n",
    "targetSum = targetSize['PROD_QTY'].sum()\n",
    "targetSize['Target Pack Affinity'] = targetSize['PROD_QTY'] / targetSum\n",
    "targetSize = pd.DataFrame(targetSize.groupby('PACK_SIZE')['Target Pack Affinity'].sum())\n",
    "\n",
    "# Non-target segment\n",
    "nonTargetSize = nonTarget.loc[:, ['PACK_SIZE', 'PROD_QTY']]\n",
    "nonTargetSum = nonTargetSize['PROD_QTY'].sum()\n",
    "nonTargetSize['Non-Target Pack Affinity'] = nonTargetSize['PROD_QTY'] / nonTargetSum\n",
    "nonTargetSize = pd.DataFrame(nonTargetSize.groupby('PACK_SIZE')['Non-Target Pack Affinity'].sum())"
   ]
  },
  {
   "cell_type": "code",
   "execution_count": 90,
   "metadata": {},
   "outputs": [
    {
     "data": {
      "text/html": [
       "<div>\n",
       "<style scoped>\n",
       "    .dataframe tbody tr th:only-of-type {\n",
       "        vertical-align: middle;\n",
       "    }\n",
       "\n",
       "    .dataframe tbody tr th {\n",
       "        vertical-align: top;\n",
       "    }\n",
       "\n",
       "    .dataframe thead th {\n",
       "        text-align: right;\n",
       "    }\n",
       "</style>\n",
       "<table border=\"1\" class=\"dataframe\">\n",
       "  <thead>\n",
       "    <tr style=\"text-align: right;\">\n",
       "      <th></th>\n",
       "      <th>Target Pack Affinity</th>\n",
       "      <th>Non-Target Pack Affinity</th>\n",
       "    </tr>\n",
       "    <tr>\n",
       "      <th>PACK_SIZE</th>\n",
       "      <th></th>\n",
       "      <th></th>\n",
       "    </tr>\n",
       "  </thead>\n",
       "  <tbody>\n",
       "    <tr>\n",
       "      <th>70</th>\n",
       "      <td>0.003037</td>\n",
       "      <td>0.006284</td>\n",
       "    </tr>\n",
       "    <tr>\n",
       "      <th>90</th>\n",
       "      <td>0.006349</td>\n",
       "      <td>0.012613</td>\n",
       "    </tr>\n",
       "    <tr>\n",
       "      <th>110</th>\n",
       "      <td>0.106280</td>\n",
       "      <td>0.089575</td>\n",
       "    </tr>\n",
       "    <tr>\n",
       "      <th>125</th>\n",
       "      <td>0.003009</td>\n",
       "      <td>0.005976</td>\n",
       "    </tr>\n",
       "    <tr>\n",
       "      <th>134</th>\n",
       "      <td>0.119420</td>\n",
       "      <td>0.101110</td>\n",
       "    </tr>\n",
       "  </tbody>\n",
       "</table>\n",
       "</div>"
      ],
      "text/plain": [
       "           Target Pack Affinity  Non-Target Pack Affinity\n",
       "PACK_SIZE                                                \n",
       "70                     0.003037                  0.006284\n",
       "90                     0.006349                  0.012613\n",
       "110                    0.106280                  0.089575\n",
       "125                    0.003009                  0.005976\n",
       "134                    0.119420                  0.101110"
      ]
     },
     "execution_count": 90,
     "metadata": {},
     "output_type": "execute_result"
    }
   ],
   "source": [
    "# Merge the two dataframes together\n",
    "\n",
    "pack_proportions = pd.merge(targetSize, nonTargetSize, left_index = True, right_index = True)\n",
    "pack_proportions.head()"
   ]
  },
  {
   "cell_type": "code",
   "execution_count": 91,
   "metadata": {},
   "outputs": [
    {
     "data": {
      "text/html": [
       "<div>\n",
       "<style scoped>\n",
       "    .dataframe tbody tr th:only-of-type {\n",
       "        vertical-align: middle;\n",
       "    }\n",
       "\n",
       "    .dataframe tbody tr th {\n",
       "        vertical-align: top;\n",
       "    }\n",
       "\n",
       "    .dataframe thead th {\n",
       "        text-align: right;\n",
       "    }\n",
       "</style>\n",
       "<table border=\"1\" class=\"dataframe\">\n",
       "  <thead>\n",
       "    <tr style=\"text-align: right;\">\n",
       "      <th></th>\n",
       "      <th>Target Pack Affinity</th>\n",
       "      <th>Non-Target Pack Affinity</th>\n",
       "      <th>Affinity to Pack</th>\n",
       "    </tr>\n",
       "    <tr>\n",
       "      <th>PACK_SIZE</th>\n",
       "      <th></th>\n",
       "      <th></th>\n",
       "      <th></th>\n",
       "    </tr>\n",
       "  </thead>\n",
       "  <tbody>\n",
       "    <tr>\n",
       "      <th>270</th>\n",
       "      <td>0.031829</td>\n",
       "      <td>0.025070</td>\n",
       "      <td>1.269608</td>\n",
       "    </tr>\n",
       "    <tr>\n",
       "      <th>380</th>\n",
       "      <td>0.032160</td>\n",
       "      <td>0.025711</td>\n",
       "      <td>1.250827</td>\n",
       "    </tr>\n",
       "    <tr>\n",
       "      <th>330</th>\n",
       "      <td>0.061284</td>\n",
       "      <td>0.050974</td>\n",
       "      <td>1.202243</td>\n",
       "    </tr>\n",
       "    <tr>\n",
       "      <th>110</th>\n",
       "      <td>0.106280</td>\n",
       "      <td>0.089575</td>\n",
       "      <td>1.186492</td>\n",
       "    </tr>\n",
       "    <tr>\n",
       "      <th>134</th>\n",
       "      <td>0.119420</td>\n",
       "      <td>0.101110</td>\n",
       "      <td>1.181090</td>\n",
       "    </tr>\n",
       "    <tr>\n",
       "      <th>210</th>\n",
       "      <td>0.029124</td>\n",
       "      <td>0.024891</td>\n",
       "      <td>1.170020</td>\n",
       "    </tr>\n",
       "    <tr>\n",
       "      <th>135</th>\n",
       "      <td>0.014769</td>\n",
       "      <td>0.012931</td>\n",
       "      <td>1.142086</td>\n",
       "    </tr>\n",
       "    <tr>\n",
       "      <th>250</th>\n",
       "      <td>0.014355</td>\n",
       "      <td>0.012863</td>\n",
       "      <td>1.115959</td>\n",
       "    </tr>\n",
       "    <tr>\n",
       "      <th>170</th>\n",
       "      <td>0.080773</td>\n",
       "      <td>0.080347</td>\n",
       "      <td>1.005300</td>\n",
       "    </tr>\n",
       "    <tr>\n",
       "      <th>150</th>\n",
       "      <td>0.157598</td>\n",
       "      <td>0.163070</td>\n",
       "      <td>0.966449</td>\n",
       "    </tr>\n",
       "    <tr>\n",
       "      <th>175</th>\n",
       "      <td>0.254990</td>\n",
       "      <td>0.271458</td>\n",
       "      <td>0.939335</td>\n",
       "    </tr>\n",
       "    <tr>\n",
       "      <th>165</th>\n",
       "      <td>0.055652</td>\n",
       "      <td>0.061587</td>\n",
       "      <td>0.903629</td>\n",
       "    </tr>\n",
       "    <tr>\n",
       "      <th>190</th>\n",
       "      <td>0.007481</td>\n",
       "      <td>0.012131</td>\n",
       "      <td>0.616696</td>\n",
       "    </tr>\n",
       "    <tr>\n",
       "      <th>180</th>\n",
       "      <td>0.003589</td>\n",
       "      <td>0.006177</td>\n",
       "      <td>0.580943</td>\n",
       "    </tr>\n",
       "    <tr>\n",
       "      <th>160</th>\n",
       "      <td>0.006404</td>\n",
       "      <td>0.012222</td>\n",
       "      <td>0.524013</td>\n",
       "    </tr>\n",
       "    <tr>\n",
       "      <th>125</th>\n",
       "      <td>0.003009</td>\n",
       "      <td>0.005976</td>\n",
       "      <td>0.503490</td>\n",
       "    </tr>\n",
       "    <tr>\n",
       "      <th>90</th>\n",
       "      <td>0.006349</td>\n",
       "      <td>0.012613</td>\n",
       "      <td>0.503398</td>\n",
       "    </tr>\n",
       "    <tr>\n",
       "      <th>200</th>\n",
       "      <td>0.008972</td>\n",
       "      <td>0.018471</td>\n",
       "      <td>0.485711</td>\n",
       "    </tr>\n",
       "    <tr>\n",
       "      <th>70</th>\n",
       "      <td>0.003037</td>\n",
       "      <td>0.006284</td>\n",
       "      <td>0.483256</td>\n",
       "    </tr>\n",
       "    <tr>\n",
       "      <th>220</th>\n",
       "      <td>0.002926</td>\n",
       "      <td>0.006538</td>\n",
       "      <td>0.447574</td>\n",
       "    </tr>\n",
       "  </tbody>\n",
       "</table>\n",
       "</div>"
      ],
      "text/plain": [
       "           Target Pack Affinity  Non-Target Pack Affinity  Affinity to Pack\n",
       "PACK_SIZE                                                                  \n",
       "270                    0.031829                  0.025070          1.269608\n",
       "380                    0.032160                  0.025711          1.250827\n",
       "330                    0.061284                  0.050974          1.202243\n",
       "110                    0.106280                  0.089575          1.186492\n",
       "134                    0.119420                  0.101110          1.181090\n",
       "210                    0.029124                  0.024891          1.170020\n",
       "135                    0.014769                  0.012931          1.142086\n",
       "250                    0.014355                  0.012863          1.115959\n",
       "170                    0.080773                  0.080347          1.005300\n",
       "150                    0.157598                  0.163070          0.966449\n",
       "175                    0.254990                  0.271458          0.939335\n",
       "165                    0.055652                  0.061587          0.903629\n",
       "190                    0.007481                  0.012131          0.616696\n",
       "180                    0.003589                  0.006177          0.580943\n",
       "160                    0.006404                  0.012222          0.524013\n",
       "125                    0.003009                  0.005976          0.503490\n",
       "90                     0.006349                  0.012613          0.503398\n",
       "200                    0.008972                  0.018471          0.485711\n",
       "70                     0.003037                  0.006284          0.483256\n",
       "220                    0.002926                  0.006538          0.447574"
      ]
     },
     "execution_count": 91,
     "metadata": {},
     "output_type": "execute_result"
    }
   ],
   "source": [
    "pack_proportions['Affinity to Pack'] = pack_proportions['Target Pack Affinity'] / pack_proportions['Non-Target Pack Affinity']\n",
    "pack_proportions.sort_values(by = 'Affinity to Pack', ascending = False)"
   ]
  },
  {
   "cell_type": "code",
   "execution_count": 92,
   "metadata": {},
   "outputs": [],
   "source": [
    "# Comment: It looks like mainstream singles/couples are more likely to purchase a 270g pack size compared to other pack sizes"
   ]
  },
  {
   "cell_type": "code",
   "execution_count": 93,
   "metadata": {},
   "outputs": [
    {
     "data": {
      "text/html": [
       "<div>\n",
       "<style scoped>\n",
       "    .dataframe tbody tr th:only-of-type {\n",
       "        vertical-align: middle;\n",
       "    }\n",
       "\n",
       "    .dataframe tbody tr th {\n",
       "        vertical-align: top;\n",
       "    }\n",
       "\n",
       "    .dataframe thead th {\n",
       "        text-align: right;\n",
       "    }\n",
       "</style>\n",
       "<table border=\"1\" class=\"dataframe\">\n",
       "  <thead>\n",
       "    <tr style=\"text-align: right;\">\n",
       "      <th></th>\n",
       "      <th>DATE</th>\n",
       "      <th>STORE_NBR</th>\n",
       "      <th>LYLTY_CARD_NBR</th>\n",
       "      <th>TXN_ID</th>\n",
       "      <th>PROD_NBR</th>\n",
       "      <th>PROD_NAME</th>\n",
       "      <th>PROD_QTY</th>\n",
       "      <th>TOT_SALES</th>\n",
       "      <th>PACK_SIZE</th>\n",
       "      <th>BRAND</th>\n",
       "      <th>LIFESTAGE</th>\n",
       "      <th>PREMIUM_CUSTOMER</th>\n",
       "      <th>PRICE</th>\n",
       "    </tr>\n",
       "  </thead>\n",
       "  <tbody>\n",
       "    <tr>\n",
       "      <th>34</th>\n",
       "      <td>2019-05-18</td>\n",
       "      <td>9</td>\n",
       "      <td>9208</td>\n",
       "      <td>8634</td>\n",
       "      <td>15</td>\n",
       "      <td>Twisties Cheese</td>\n",
       "      <td>2</td>\n",
       "      <td>9.2</td>\n",
       "      <td>270</td>\n",
       "      <td>Twisties</td>\n",
       "      <td>MIDAGE SINGLES/COUPLES</td>\n",
       "      <td>Budget</td>\n",
       "      <td>4.6</td>\n",
       "    </tr>\n",
       "    <tr>\n",
       "      <th>79</th>\n",
       "      <td>2018-08-24</td>\n",
       "      <td>39</td>\n",
       "      <td>39167</td>\n",
       "      <td>35639</td>\n",
       "      <td>113</td>\n",
       "      <td>Twisties Chicken</td>\n",
       "      <td>2</td>\n",
       "      <td>9.2</td>\n",
       "      <td>270</td>\n",
       "      <td>Twisties</td>\n",
       "      <td>MIDAGE SINGLES/COUPLES</td>\n",
       "      <td>Budget</td>\n",
       "      <td>4.6</td>\n",
       "    </tr>\n",
       "    <tr>\n",
       "      <th>125</th>\n",
       "      <td>2019-05-06</td>\n",
       "      <td>54</td>\n",
       "      <td>54305</td>\n",
       "      <td>48304</td>\n",
       "      <td>15</td>\n",
       "      <td>Twisties Cheese</td>\n",
       "      <td>2</td>\n",
       "      <td>9.2</td>\n",
       "      <td>270</td>\n",
       "      <td>Twisties</td>\n",
       "      <td>MIDAGE SINGLES/COUPLES</td>\n",
       "      <td>Budget</td>\n",
       "      <td>4.6</td>\n",
       "    </tr>\n",
       "    <tr>\n",
       "      <th>132</th>\n",
       "      <td>2019-05-20</td>\n",
       "      <td>55</td>\n",
       "      <td>55073</td>\n",
       "      <td>48887</td>\n",
       "      <td>113</td>\n",
       "      <td>Twisties Chicken</td>\n",
       "      <td>1</td>\n",
       "      <td>4.6</td>\n",
       "      <td>270</td>\n",
       "      <td>Twisties</td>\n",
       "      <td>MIDAGE SINGLES/COUPLES</td>\n",
       "      <td>Budget</td>\n",
       "      <td>4.6</td>\n",
       "    </tr>\n",
       "    <tr>\n",
       "      <th>209</th>\n",
       "      <td>2019-01-01</td>\n",
       "      <td>80</td>\n",
       "      <td>80182</td>\n",
       "      <td>78980</td>\n",
       "      <td>15</td>\n",
       "      <td>Twisties Cheese</td>\n",
       "      <td>2</td>\n",
       "      <td>9.2</td>\n",
       "      <td>270</td>\n",
       "      <td>Twisties</td>\n",
       "      <td>MIDAGE SINGLES/COUPLES</td>\n",
       "      <td>Budget</td>\n",
       "      <td>4.6</td>\n",
       "    </tr>\n",
       "    <tr>\n",
       "      <th>252</th>\n",
       "      <td>2018-11-18</td>\n",
       "      <td>84</td>\n",
       "      <td>84096</td>\n",
       "      <td>83672</td>\n",
       "      <td>113</td>\n",
       "      <td>Twisties Chicken</td>\n",
       "      <td>2</td>\n",
       "      <td>9.2</td>\n",
       "      <td>270</td>\n",
       "      <td>Twisties</td>\n",
       "      <td>MIDAGE SINGLES/COUPLES</td>\n",
       "      <td>Budget</td>\n",
       "      <td>4.6</td>\n",
       "    </tr>\n",
       "    <tr>\n",
       "      <th>253</th>\n",
       "      <td>2019-05-20</td>\n",
       "      <td>88</td>\n",
       "      <td>88320</td>\n",
       "      <td>87811</td>\n",
       "      <td>113</td>\n",
       "      <td>Twisties Chicken</td>\n",
       "      <td>2</td>\n",
       "      <td>9.2</td>\n",
       "      <td>270</td>\n",
       "      <td>Twisties</td>\n",
       "      <td>MIDAGE SINGLES/COUPLES</td>\n",
       "      <td>Budget</td>\n",
       "      <td>4.6</td>\n",
       "    </tr>\n",
       "    <tr>\n",
       "      <th>278</th>\n",
       "      <td>2018-07-11</td>\n",
       "      <td>102</td>\n",
       "      <td>102115</td>\n",
       "      <td>102207</td>\n",
       "      <td>15</td>\n",
       "      <td>Twisties Cheese</td>\n",
       "      <td>2</td>\n",
       "      <td>9.2</td>\n",
       "      <td>270</td>\n",
       "      <td>Twisties</td>\n",
       "      <td>MIDAGE SINGLES/COUPLES</td>\n",
       "      <td>Budget</td>\n",
       "      <td>4.6</td>\n",
       "    </tr>\n",
       "    <tr>\n",
       "      <th>347</th>\n",
       "      <td>2019-04-05</td>\n",
       "      <td>118</td>\n",
       "      <td>118007</td>\n",
       "      <td>120735</td>\n",
       "      <td>113</td>\n",
       "      <td>Twisties Chicken</td>\n",
       "      <td>2</td>\n",
       "      <td>9.2</td>\n",
       "      <td>270</td>\n",
       "      <td>Twisties</td>\n",
       "      <td>MIDAGE SINGLES/COUPLES</td>\n",
       "      <td>Budget</td>\n",
       "      <td>4.6</td>\n",
       "    </tr>\n",
       "    <tr>\n",
       "      <th>350</th>\n",
       "      <td>2018-07-01</td>\n",
       "      <td>119</td>\n",
       "      <td>119051</td>\n",
       "      <td>122360</td>\n",
       "      <td>113</td>\n",
       "      <td>Twisties Chicken</td>\n",
       "      <td>2</td>\n",
       "      <td>9.2</td>\n",
       "      <td>270</td>\n",
       "      <td>Twisties</td>\n",
       "      <td>MIDAGE SINGLES/COUPLES</td>\n",
       "      <td>Budget</td>\n",
       "      <td>4.6</td>\n",
       "    </tr>\n",
       "  </tbody>\n",
       "</table>\n",
       "</div>"
      ],
      "text/plain": [
       "          DATE  STORE_NBR  LYLTY_CARD_NBR  TXN_ID  PROD_NBR  \\\n",
       "34  2019-05-18          9            9208    8634        15   \n",
       "79  2018-08-24         39           39167   35639       113   \n",
       "125 2019-05-06         54           54305   48304        15   \n",
       "132 2019-05-20         55           55073   48887       113   \n",
       "209 2019-01-01         80           80182   78980        15   \n",
       "252 2018-11-18         84           84096   83672       113   \n",
       "253 2019-05-20         88           88320   87811       113   \n",
       "278 2018-07-11        102          102115  102207        15   \n",
       "347 2019-04-05        118          118007  120735       113   \n",
       "350 2018-07-01        119          119051  122360       113   \n",
       "\n",
       "                 PROD_NAME  PROD_QTY  TOT_SALES  PACK_SIZE     BRAND  \\\n",
       "34   Twisties Cheese               2        9.2        270  Twisties   \n",
       "79       Twisties Chicken          2        9.2        270  Twisties   \n",
       "125  Twisties Cheese               2        9.2        270  Twisties   \n",
       "132      Twisties Chicken          1        4.6        270  Twisties   \n",
       "209  Twisties Cheese               2        9.2        270  Twisties   \n",
       "252      Twisties Chicken          2        9.2        270  Twisties   \n",
       "253      Twisties Chicken          2        9.2        270  Twisties   \n",
       "278  Twisties Cheese               2        9.2        270  Twisties   \n",
       "347      Twisties Chicken          2        9.2        270  Twisties   \n",
       "350      Twisties Chicken          2        9.2        270  Twisties   \n",
       "\n",
       "                  LIFESTAGE PREMIUM_CUSTOMER  PRICE  \n",
       "34   MIDAGE SINGLES/COUPLES           Budget    4.6  \n",
       "79   MIDAGE SINGLES/COUPLES           Budget    4.6  \n",
       "125  MIDAGE SINGLES/COUPLES           Budget    4.6  \n",
       "132  MIDAGE SINGLES/COUPLES           Budget    4.6  \n",
       "209  MIDAGE SINGLES/COUPLES           Budget    4.6  \n",
       "252  MIDAGE SINGLES/COUPLES           Budget    4.6  \n",
       "253  MIDAGE SINGLES/COUPLES           Budget    4.6  \n",
       "278  MIDAGE SINGLES/COUPLES           Budget    4.6  \n",
       "347  MIDAGE SINGLES/COUPLES           Budget    4.6  \n",
       "350  MIDAGE SINGLES/COUPLES           Budget    4.6  "
      ]
     },
     "execution_count": 93,
     "metadata": {},
     "output_type": "execute_result"
    }
   ],
   "source": [
    "# Which brand offers 270g pack size\n",
    "\n",
    "combineData.loc[combineData['PACK_SIZE'] == 270, :].head(10)"
   ]
  },
  {
   "cell_type": "code",
   "execution_count": 94,
   "metadata": {},
   "outputs": [
    {
     "data": {
      "text/plain": [
       "array(['Twisties'], dtype=object)"
      ]
     },
     "execution_count": 94,
     "metadata": {},
     "output_type": "execute_result"
    }
   ],
   "source": [
    "# Is Twisties the only brand who sells 270g pack size\n",
    "\n",
    "combineData.loc[combineData['PACK_SIZE'] == 270, 'BRAND'].unique()\n",
    "\n",
    "# Twisties is the only brand that offers 270g pack size"
   ]
  },
  {
   "cell_type": "markdown",
   "metadata": {},
   "source": [
    "### Conclusion\n",
    "\n",
    "* Sales are highest for (Budget, OLDER FAMILIES), (Mainstream, YOUNG SINGLES/COUPLES) and (Mainstream, RETIREES)\n",
    "* We found that (Mainstream, YOUNG SINGLES/COUPLES) and (Mainstream, RETIREES) are mainly due to the fact that there are more customers in these segments\n",
    "* (Mainstream, YOUNG SINGLES/COUPLES) are more likely to pay more per packet of chips than their premium and budget counterparts\n",
    "* They are also more likely to purchase 'Tyrrells' and '270g' pack sizes than the rest of the population"
   ]
  },
  {
   "cell_type": "markdown",
   "metadata": {},
   "source": [
    "### Recommendation\n",
    "\n",
    "The category manager may consider off-locating 'Tyrrells' chips in discretionary space near segments where young singles and couples frequent to increase the visibility and impulse behaviour"
   ]
  },
  {
   "cell_type": "code",
   "execution_count": null,
   "metadata": {},
   "outputs": [],
   "source": []
  }
 ],
 "metadata": {
  "kernelspec": {
   "display_name": "Python 3",
   "language": "python",
   "name": "python3"
  },
  "language_info": {
   "codemirror_mode": {
    "name": "ipython",
    "version": 3
   },
   "file_extension": ".py",
   "mimetype": "text/x-python",
   "name": "python",
   "nbconvert_exporter": "python",
   "pygments_lexer": "ipython3",
   "version": "3.7.3"
  }
 },
 "nbformat": 4,
 "nbformat_minor": 2
}
