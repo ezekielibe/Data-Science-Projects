{
 "cells": [
  {
   "cell_type": "markdown",
   "metadata": {},
   "source": [
    "### Machine Learning in Banking \n",
    "\n",
    "### Steps employed are as follows:\n",
    "* Data Preparation\n",
    "* Data Summarization\n",
    "* Data Visualization\n",
    "* Feature Engineering \n",
    "* Model Building and Validation"
   ]
  },
  {
   "cell_type": "markdown",
   "metadata": {},
   "source": [
    "### Data Preparation"
   ]
  },
  {
   "cell_type": "code",
   "execution_count": 1,
   "metadata": {},
   "outputs": [],
   "source": [
    "#importing necessary library\n",
    "import numpy as np #linear algebra\n",
    "import pandas as pd # data processing, CSV file I/O (e.g. pd.read_csv)\n",
    "pd.set_option('display.max_rows', 500)\n",
    "pd.set_option('display.max_columns', 500)\n",
    "pd.set_option('display.width', 1000)\n",
    "from matplotlib import pyplot as plt\n",
    "import seaborn as sns\n",
    "import sklearn\n",
    "from sklearn.preprocessing import LabelEncoder, OneHotEncoder\n",
    "from sklearn.model_selection import StratifiedKFold, train_test_split,KFold\n",
    "import re\n",
    "from catboost import CatBoostClassifier\n",
    "from sklearn.metrics import accuracy_score, f1_score\n",
    "from imblearn.over_sampling import SMOTE"
   ]
  },
  {
   "cell_type": "code",
   "execution_count": 2,
   "metadata": {},
   "outputs": [],
   "source": [
    "#Loading the Data\n",
    "df_train = pd.read_csv(\"C:/Users/ezeki/OneDrive/Desktop/ML inBanking Dataset_Analytic Vidhya/train_fNxu4vz.csv\")\n",
    "df_test = pd.read_csv(\"C:/Users/ezeki/OneDrive/Desktop/ML inBanking Dataset_Analytic Vidhya/test_fjtUOL8.csv\")\n",
    "df_submission = pd.read_csv(\"C:/Users/ezeki/OneDrive/Desktop/ML inBanking Dataset_Analytic Vidhya/sample_submission_HSqiq1Q.csv\")"
   ]
  },
  {
   "cell_type": "code",
   "execution_count": 3,
   "metadata": {},
   "outputs": [
    {
     "data": {
      "text/html": [
       "<div>\n",
       "<style scoped>\n",
       "    .dataframe tbody tr th:only-of-type {\n",
       "        vertical-align: middle;\n",
       "    }\n",
       "\n",
       "    .dataframe tbody tr th {\n",
       "        vertical-align: top;\n",
       "    }\n",
       "\n",
       "    .dataframe thead th {\n",
       "        text-align: right;\n",
       "    }\n",
       "</style>\n",
       "<table border=\"1\" class=\"dataframe\">\n",
       "  <thead>\n",
       "    <tr style=\"text-align: right;\">\n",
       "      <th></th>\n",
       "      <th>Loan_ID</th>\n",
       "      <th>Loan_Amount_Requested</th>\n",
       "      <th>Length_Employed</th>\n",
       "      <th>Home_Owner</th>\n",
       "      <th>Annual_Income</th>\n",
       "      <th>Income_Verified</th>\n",
       "      <th>Purpose_Of_Loan</th>\n",
       "      <th>Debt_To_Income</th>\n",
       "      <th>Inquiries_Last_6Mo</th>\n",
       "      <th>Months_Since_Deliquency</th>\n",
       "      <th>Number_Open_Accounts</th>\n",
       "      <th>Total_Accounts</th>\n",
       "      <th>Gender</th>\n",
       "      <th>Interest_Rate</th>\n",
       "    </tr>\n",
       "  </thead>\n",
       "  <tbody>\n",
       "    <tr>\n",
       "      <th>0</th>\n",
       "      <td>10000001</td>\n",
       "      <td>7,000</td>\n",
       "      <td>&lt; 1 year</td>\n",
       "      <td>Rent</td>\n",
       "      <td>68000.0</td>\n",
       "      <td>not verified</td>\n",
       "      <td>car</td>\n",
       "      <td>18.37</td>\n",
       "      <td>0</td>\n",
       "      <td>NaN</td>\n",
       "      <td>9</td>\n",
       "      <td>14</td>\n",
       "      <td>Female</td>\n",
       "      <td>1</td>\n",
       "    </tr>\n",
       "    <tr>\n",
       "      <th>1</th>\n",
       "      <td>10000002</td>\n",
       "      <td>30,000</td>\n",
       "      <td>4 years</td>\n",
       "      <td>Mortgage</td>\n",
       "      <td>NaN</td>\n",
       "      <td>VERIFIED - income</td>\n",
       "      <td>debt_consolidation</td>\n",
       "      <td>14.93</td>\n",
       "      <td>0</td>\n",
       "      <td>17.0</td>\n",
       "      <td>12</td>\n",
       "      <td>24</td>\n",
       "      <td>Female</td>\n",
       "      <td>3</td>\n",
       "    </tr>\n",
       "    <tr>\n",
       "      <th>2</th>\n",
       "      <td>10000003</td>\n",
       "      <td>24,725</td>\n",
       "      <td>7 years</td>\n",
       "      <td>Mortgage</td>\n",
       "      <td>75566.4</td>\n",
       "      <td>VERIFIED - income source</td>\n",
       "      <td>debt_consolidation</td>\n",
       "      <td>15.88</td>\n",
       "      <td>0</td>\n",
       "      <td>NaN</td>\n",
       "      <td>12</td>\n",
       "      <td>16</td>\n",
       "      <td>Male</td>\n",
       "      <td>3</td>\n",
       "    </tr>\n",
       "    <tr>\n",
       "      <th>3</th>\n",
       "      <td>10000004</td>\n",
       "      <td>16,000</td>\n",
       "      <td>&lt; 1 year</td>\n",
       "      <td>NaN</td>\n",
       "      <td>56160.0</td>\n",
       "      <td>VERIFIED - income source</td>\n",
       "      <td>debt_consolidation</td>\n",
       "      <td>14.34</td>\n",
       "      <td>3</td>\n",
       "      <td>NaN</td>\n",
       "      <td>16</td>\n",
       "      <td>22</td>\n",
       "      <td>Male</td>\n",
       "      <td>3</td>\n",
       "    </tr>\n",
       "    <tr>\n",
       "      <th>4</th>\n",
       "      <td>10000005</td>\n",
       "      <td>17,000</td>\n",
       "      <td>8 years</td>\n",
       "      <td>Own</td>\n",
       "      <td>96000.0</td>\n",
       "      <td>VERIFIED - income source</td>\n",
       "      <td>debt_consolidation</td>\n",
       "      <td>22.17</td>\n",
       "      <td>1</td>\n",
       "      <td>NaN</td>\n",
       "      <td>19</td>\n",
       "      <td>30</td>\n",
       "      <td>Female</td>\n",
       "      <td>1</td>\n",
       "    </tr>\n",
       "  </tbody>\n",
       "</table>\n",
       "</div>"
      ],
      "text/plain": [
       "    Loan_ID Loan_Amount_Requested Length_Employed Home_Owner  Annual_Income           Income_Verified     Purpose_Of_Loan  Debt_To_Income  Inquiries_Last_6Mo  Months_Since_Deliquency  Number_Open_Accounts  Total_Accounts  Gender  Interest_Rate\n",
       "0  10000001                 7,000        < 1 year       Rent        68000.0              not verified                 car           18.37                   0                      NaN                     9              14  Female              1\n",
       "1  10000002                30,000         4 years   Mortgage            NaN         VERIFIED - income  debt_consolidation           14.93                   0                     17.0                    12              24  Female              3\n",
       "2  10000003                24,725         7 years   Mortgage        75566.4  VERIFIED - income source  debt_consolidation           15.88                   0                      NaN                    12              16    Male              3\n",
       "3  10000004                16,000        < 1 year        NaN        56160.0  VERIFIED - income source  debt_consolidation           14.34                   3                      NaN                    16              22    Male              3\n",
       "4  10000005                17,000         8 years        Own        96000.0  VERIFIED - income source  debt_consolidation           22.17                   1                      NaN                    19              30  Female              1"
      ]
     },
     "execution_count": 3,
     "metadata": {},
     "output_type": "execute_result"
    }
   ],
   "source": [
    "#Understanding the data\n",
    "df_train.head(5)"
   ]
  },
  {
   "cell_type": "code",
   "execution_count": 4,
   "metadata": {},
   "outputs": [
    {
     "data": {
      "text/html": [
       "<div>\n",
       "<style scoped>\n",
       "    .dataframe tbody tr th:only-of-type {\n",
       "        vertical-align: middle;\n",
       "    }\n",
       "\n",
       "    .dataframe tbody tr th {\n",
       "        vertical-align: top;\n",
       "    }\n",
       "\n",
       "    .dataframe thead th {\n",
       "        text-align: right;\n",
       "    }\n",
       "</style>\n",
       "<table border=\"1\" class=\"dataframe\">\n",
       "  <thead>\n",
       "    <tr style=\"text-align: right;\">\n",
       "      <th></th>\n",
       "      <th>Loan_ID</th>\n",
       "      <th>Loan_Amount_Requested</th>\n",
       "      <th>Length_Employed</th>\n",
       "      <th>Home_Owner</th>\n",
       "      <th>Annual_Income</th>\n",
       "      <th>Income_Verified</th>\n",
       "      <th>Purpose_Of_Loan</th>\n",
       "      <th>Debt_To_Income</th>\n",
       "      <th>Inquiries_Last_6Mo</th>\n",
       "      <th>Months_Since_Deliquency</th>\n",
       "      <th>Number_Open_Accounts</th>\n",
       "      <th>Total_Accounts</th>\n",
       "      <th>Gender</th>\n",
       "    </tr>\n",
       "  </thead>\n",
       "  <tbody>\n",
       "    <tr>\n",
       "      <th>0</th>\n",
       "      <td>10164310</td>\n",
       "      <td>27,500</td>\n",
       "      <td>10+ years</td>\n",
       "      <td>Mortgage</td>\n",
       "      <td>129000.0</td>\n",
       "      <td>VERIFIED - income</td>\n",
       "      <td>debt_consolidation</td>\n",
       "      <td>12.87</td>\n",
       "      <td>0</td>\n",
       "      <td>68.0</td>\n",
       "      <td>10</td>\n",
       "      <td>37</td>\n",
       "      <td>Male</td>\n",
       "    </tr>\n",
       "    <tr>\n",
       "      <th>1</th>\n",
       "      <td>10164311</td>\n",
       "      <td>26,000</td>\n",
       "      <td>10+ years</td>\n",
       "      <td>NaN</td>\n",
       "      <td>110000.0</td>\n",
       "      <td>not verified</td>\n",
       "      <td>credit_card</td>\n",
       "      <td>11.37</td>\n",
       "      <td>0</td>\n",
       "      <td>NaN</td>\n",
       "      <td>6</td>\n",
       "      <td>23</td>\n",
       "      <td>Male</td>\n",
       "    </tr>\n",
       "    <tr>\n",
       "      <th>2</th>\n",
       "      <td>10164312</td>\n",
       "      <td>6,075</td>\n",
       "      <td>&lt; 1 year</td>\n",
       "      <td>Rent</td>\n",
       "      <td>75000.0</td>\n",
       "      <td>VERIFIED - income</td>\n",
       "      <td>debt_consolidation</td>\n",
       "      <td>6.83</td>\n",
       "      <td>2</td>\n",
       "      <td>NaN</td>\n",
       "      <td>5</td>\n",
       "      <td>20</td>\n",
       "      <td>Male</td>\n",
       "    </tr>\n",
       "  </tbody>\n",
       "</table>\n",
       "</div>"
      ],
      "text/plain": [
       "    Loan_ID Loan_Amount_Requested Length_Employed Home_Owner  Annual_Income    Income_Verified     Purpose_Of_Loan  Debt_To_Income  Inquiries_Last_6Mo  Months_Since_Deliquency  Number_Open_Accounts  Total_Accounts Gender\n",
       "0  10164310                27,500       10+ years   Mortgage       129000.0  VERIFIED - income  debt_consolidation           12.87                   0                     68.0                    10              37   Male\n",
       "1  10164311                26,000       10+ years        NaN       110000.0       not verified         credit_card           11.37                   0                      NaN                     6              23   Male\n",
       "2  10164312                 6,075        < 1 year       Rent        75000.0  VERIFIED - income  debt_consolidation            6.83                   2                      NaN                     5              20   Male"
      ]
     },
     "execution_count": 4,
     "metadata": {},
     "output_type": "execute_result"
    }
   ],
   "source": [
    "df_test.head(3)"
   ]
  },
  {
   "cell_type": "code",
   "execution_count": 5,
   "metadata": {},
   "outputs": [
    {
     "data": {
      "text/plain": [
       "(164309, 14)"
      ]
     },
     "execution_count": 5,
     "metadata": {},
     "output_type": "execute_result"
    }
   ],
   "source": [
    "df_train.shape"
   ]
  },
  {
   "cell_type": "code",
   "execution_count": 6,
   "metadata": {},
   "outputs": [
    {
     "data": {
      "text/plain": [
       "(109541, 13)"
      ]
     },
     "execution_count": 6,
     "metadata": {},
     "output_type": "execute_result"
    }
   ],
   "source": [
    "df_test.shape"
   ]
  },
  {
   "cell_type": "code",
   "execution_count": 8,
   "metadata": {},
   "outputs": [],
   "source": [
    "# create data frame\n",
    "df = pd.DataFrame(df_train)"
   ]
  },
  {
   "cell_type": "code",
   "execution_count": 429,
   "metadata": {},
   "outputs": [],
   "source": [
    "def describe_dataframe(df=pd.DataFrame()):\n",
    "    \"\"\"This function generates descriptive stats of a dataframe\n",
    "    Args:\n",
    "        df (dataframe): the dataframe to be analyzed\n",
    "    Returns:\n",
    "        None\n",
    "\n",
    "    \"\"\"\n",
    "    print(\"\\n\\n\")\n",
    "    print(\"*\"*30)\n",
    "    print(\"About the Data\")\n",
    "    print(\"*\"*30)\n",
    "    \n",
    "    print(\"Number of rows::\",df.shape[0])\n",
    "    print(\"Number of columns::\",df.shape[1])\n",
    "    print(\"\\n\")\n",
    "    \n",
    "    print(\"Column Names::\",df.columns.values.tolist())\n",
    "    print(\"\\n\")\n",
    "    \n",
    "    print(\"Column Data Types::\\n\",df.dtypes)\n",
    "    print(\"\\n\")\n",
    "    \n",
    "    print(\"Columns with Missing Values::\",df.columns[df.isnull().any()].tolist())\n",
    "    print(\"\\n\")\n",
    "    \n",
    "    print(\"Number of rows with Missing Values::\",len(pd.isnull(df).any(1).nonzero()[0].tolist()))\n",
    "    print(\"\\n\")\n",
    "    \n",
    "    print(\"Sample Indices with missing data::\",pd.isnull(df).any(1).nonzero()[0].tolist()[0:5])\n",
    "    print(\"\\n\")\n",
    "    \n",
    "    print(\"General Stats::\")\n",
    "    print(df.info())\n",
    "    print(\"\\n\")\n",
    "    \n",
    "    print(\"Summary Stats::\")\n",
    "    print(df.describe())\n",
    "    print(\"\\n\")\n",
    "    \n",
    "    print(\"Dataframe Sample Rows::\")\n",
    "    display(df.head(5))"
   ]
  },
  {
   "cell_type": "code",
   "execution_count": 430,
   "metadata": {},
   "outputs": [
    {
     "name": "stdout",
     "output_type": "stream",
     "text": [
      "\n",
      "\n",
      "\n",
      "******************************\n",
      "About the Data\n",
      "******************************\n",
      "Number of rows:: 164309\n",
      "Number of columns:: 14\n",
      "\n",
      "\n",
      "Column Names:: ['Loan_ID', 'Loan_Amount_Requested', 'Length_Employed', 'Home_Owner', 'Annual_Income', 'Income_Verified', 'Purpose_Of_Loan', 'Debt_To_Income', 'Inquiries_Last_6Mo', 'Months_Since_Deliquency', 'Number_Open_Accounts', 'Total_Accounts', 'Gender', 'Interest_Rate']\n",
      "\n",
      "\n",
      "Column Data Types::\n",
      " Loan_ID                      int64\n",
      "Loan_Amount_Requested       object\n",
      "Length_Employed             object\n",
      "Home_Owner                  object\n",
      "Annual_Income              float64\n",
      "Income_Verified             object\n",
      "Purpose_Of_Loan             object\n",
      "Debt_To_Income             float64\n",
      "Inquiries_Last_6Mo           int64\n",
      "Months_Since_Deliquency    float64\n",
      "Number_Open_Accounts         int64\n",
      "Total_Accounts               int64\n",
      "Gender                      object\n",
      "Interest_Rate                int64\n",
      "dtype: object\n",
      "\n",
      "\n",
      "Columns with Missing Values:: ['Length_Employed', 'Home_Owner', 'Annual_Income', 'Months_Since_Deliquency']\n",
      "\n",
      "\n"
     ]
    },
    {
     "name": "stderr",
     "output_type": "stream",
     "text": [
      "C:\\Users\\ezeki\\Anaconda3\\lib\\site-packages\\ipykernel_launcher.py:27: FutureWarning: Series.nonzero() is deprecated and will be removed in a future version.Use Series.to_numpy().nonzero() instead\n",
      "C:\\Users\\ezeki\\Anaconda3\\lib\\site-packages\\ipykernel_launcher.py:30: FutureWarning: Series.nonzero() is deprecated and will be removed in a future version.Use Series.to_numpy().nonzero() instead\n"
     ]
    },
    {
     "name": "stdout",
     "output_type": "stream",
     "text": [
      "Number of rows with Missing Values:: 112343\n",
      "\n",
      "\n",
      "Sample Indices with missing data:: [0, 1, 2, 3, 4]\n",
      "\n",
      "\n",
      "General Stats::\n",
      "<class 'pandas.core.frame.DataFrame'>\n",
      "RangeIndex: 164309 entries, 0 to 164308\n",
      "Data columns (total 14 columns):\n",
      "Loan_ID                    164309 non-null int64\n",
      "Loan_Amount_Requested      164309 non-null object\n",
      "Length_Employed            156938 non-null object\n",
      "Home_Owner                 138960 non-null object\n",
      "Annual_Income              139207 non-null float64\n",
      "Income_Verified            164309 non-null object\n",
      "Purpose_Of_Loan            164309 non-null object\n",
      "Debt_To_Income             164309 non-null float64\n",
      "Inquiries_Last_6Mo         164309 non-null int64\n",
      "Months_Since_Deliquency    75930 non-null float64\n",
      "Number_Open_Accounts       164309 non-null int64\n",
      "Total_Accounts             164309 non-null int64\n",
      "Gender                     164309 non-null object\n",
      "Interest_Rate              164309 non-null int64\n",
      "dtypes: float64(3), int64(5), object(6)\n",
      "memory usage: 17.6+ MB\n",
      "None\n",
      "\n",
      "\n",
      "Summary Stats::\n",
      "            Loan_ID  Annual_Income  Debt_To_Income  Inquiries_Last_6Mo  Months_Since_Deliquency  Number_Open_Accounts  Total_Accounts  Interest_Rate\n",
      "count  1.643090e+05   1.392070e+05   164309.000000       164309.000000             75930.000000         164309.000000   164309.000000  164309.000000\n",
      "mean   1.008216e+07   7.333116e+04       17.207189            0.781698                34.229356             11.193818       25.067665       2.158951\n",
      "std    4.743207e+04   6.037750e+04        7.845083            1.034747                21.761180              4.991813       11.583067       0.738364\n",
      "min    1.000000e+07   4.000000e+03        0.000000            0.000000                 0.000000              0.000000        2.000000       1.000000\n",
      "25%    1.004108e+07   4.500000e+04       11.370000            0.000000                16.000000              8.000000       17.000000       2.000000\n",
      "50%    1.008216e+07   6.300000e+04       16.840000            0.000000                31.000000             10.000000       23.000000       2.000000\n",
      "75%    1.012323e+07   8.869750e+04       22.780000            1.000000                50.000000             14.000000       32.000000       3.000000\n",
      "max    1.016431e+07   7.500000e+06       39.990000            8.000000               180.000000             76.000000      156.000000       3.000000\n",
      "\n",
      "\n",
      "Dataframe Sample Rows::\n"
     ]
    },
    {
     "data": {
      "text/html": [
       "<div>\n",
       "<style scoped>\n",
       "    .dataframe tbody tr th:only-of-type {\n",
       "        vertical-align: middle;\n",
       "    }\n",
       "\n",
       "    .dataframe tbody tr th {\n",
       "        vertical-align: top;\n",
       "    }\n",
       "\n",
       "    .dataframe thead th {\n",
       "        text-align: right;\n",
       "    }\n",
       "</style>\n",
       "<table border=\"1\" class=\"dataframe\">\n",
       "  <thead>\n",
       "    <tr style=\"text-align: right;\">\n",
       "      <th></th>\n",
       "      <th>Loan_ID</th>\n",
       "      <th>Loan_Amount_Requested</th>\n",
       "      <th>Length_Employed</th>\n",
       "      <th>Home_Owner</th>\n",
       "      <th>Annual_Income</th>\n",
       "      <th>Income_Verified</th>\n",
       "      <th>Purpose_Of_Loan</th>\n",
       "      <th>Debt_To_Income</th>\n",
       "      <th>Inquiries_Last_6Mo</th>\n",
       "      <th>Months_Since_Deliquency</th>\n",
       "      <th>Number_Open_Accounts</th>\n",
       "      <th>Total_Accounts</th>\n",
       "      <th>Gender</th>\n",
       "      <th>Interest_Rate</th>\n",
       "    </tr>\n",
       "  </thead>\n",
       "  <tbody>\n",
       "    <tr>\n",
       "      <th>0</th>\n",
       "      <td>10000001</td>\n",
       "      <td>7,000</td>\n",
       "      <td>&lt; 1 year</td>\n",
       "      <td>Rent</td>\n",
       "      <td>68000.0</td>\n",
       "      <td>not verified</td>\n",
       "      <td>car</td>\n",
       "      <td>18.37</td>\n",
       "      <td>0</td>\n",
       "      <td>NaN</td>\n",
       "      <td>9</td>\n",
       "      <td>14</td>\n",
       "      <td>Female</td>\n",
       "      <td>1</td>\n",
       "    </tr>\n",
       "    <tr>\n",
       "      <th>1</th>\n",
       "      <td>10000002</td>\n",
       "      <td>30,000</td>\n",
       "      <td>4 years</td>\n",
       "      <td>Mortgage</td>\n",
       "      <td>NaN</td>\n",
       "      <td>VERIFIED - income</td>\n",
       "      <td>debt_consolidation</td>\n",
       "      <td>14.93</td>\n",
       "      <td>0</td>\n",
       "      <td>17.0</td>\n",
       "      <td>12</td>\n",
       "      <td>24</td>\n",
       "      <td>Female</td>\n",
       "      <td>3</td>\n",
       "    </tr>\n",
       "    <tr>\n",
       "      <th>2</th>\n",
       "      <td>10000003</td>\n",
       "      <td>24,725</td>\n",
       "      <td>7 years</td>\n",
       "      <td>Mortgage</td>\n",
       "      <td>75566.4</td>\n",
       "      <td>VERIFIED - income source</td>\n",
       "      <td>debt_consolidation</td>\n",
       "      <td>15.88</td>\n",
       "      <td>0</td>\n",
       "      <td>NaN</td>\n",
       "      <td>12</td>\n",
       "      <td>16</td>\n",
       "      <td>Male</td>\n",
       "      <td>3</td>\n",
       "    </tr>\n",
       "    <tr>\n",
       "      <th>3</th>\n",
       "      <td>10000004</td>\n",
       "      <td>16,000</td>\n",
       "      <td>&lt; 1 year</td>\n",
       "      <td>NaN</td>\n",
       "      <td>56160.0</td>\n",
       "      <td>VERIFIED - income source</td>\n",
       "      <td>debt_consolidation</td>\n",
       "      <td>14.34</td>\n",
       "      <td>3</td>\n",
       "      <td>NaN</td>\n",
       "      <td>16</td>\n",
       "      <td>22</td>\n",
       "      <td>Male</td>\n",
       "      <td>3</td>\n",
       "    </tr>\n",
       "    <tr>\n",
       "      <th>4</th>\n",
       "      <td>10000005</td>\n",
       "      <td>17,000</td>\n",
       "      <td>8 years</td>\n",
       "      <td>Own</td>\n",
       "      <td>96000.0</td>\n",
       "      <td>VERIFIED - income source</td>\n",
       "      <td>debt_consolidation</td>\n",
       "      <td>22.17</td>\n",
       "      <td>1</td>\n",
       "      <td>NaN</td>\n",
       "      <td>19</td>\n",
       "      <td>30</td>\n",
       "      <td>Female</td>\n",
       "      <td>1</td>\n",
       "    </tr>\n",
       "  </tbody>\n",
       "</table>\n",
       "</div>"
      ],
      "text/plain": [
       "    Loan_ID Loan_Amount_Requested Length_Employed Home_Owner  Annual_Income           Income_Verified     Purpose_Of_Loan  Debt_To_Income  Inquiries_Last_6Mo  Months_Since_Deliquency  Number_Open_Accounts  Total_Accounts  Gender  Interest_Rate\n",
       "0  10000001                 7,000        < 1 year       Rent        68000.0              not verified                 car           18.37                   0                      NaN                     9              14  Female              1\n",
       "1  10000002                30,000         4 years   Mortgage            NaN         VERIFIED - income  debt_consolidation           14.93                   0                     17.0                    12              24  Female              3\n",
       "2  10000003                24,725         7 years   Mortgage        75566.4  VERIFIED - income source  debt_consolidation           15.88                   0                      NaN                    12              16    Male              3\n",
       "3  10000004                16,000        < 1 year        NaN        56160.0  VERIFIED - income source  debt_consolidation           14.34                   3                      NaN                    16              22    Male              3\n",
       "4  10000005                17,000         8 years        Own        96000.0  VERIFIED - income source  debt_consolidation           22.17                   1                      NaN                    19              30  Female              1"
      ]
     },
     "metadata": {},
     "output_type": "display_data"
    }
   ],
   "source": [
    "describe_dataframe(df)"
   ]
  },
  {
   "cell_type": "code",
   "execution_count": 431,
   "metadata": {},
   "outputs": [
    {
     "name": "stderr",
     "output_type": "stream",
     "text": [
      "C:\\Users\\ezeki\\Anaconda3\\lib\\site-packages\\ipykernel_launcher.py:5: FutureWarning: Sorting because non-concatenation axis is not aligned. A future version\n",
      "of pandas will change to not sort by default.\n",
      "\n",
      "To accept the future behavior, pass 'sort=False'.\n",
      "\n",
      "To retain the current behavior and silence the warning, pass 'sort=True'.\n",
      "\n",
      "  \"\"\"\n"
     ]
    },
    {
     "data": {
      "text/html": [
       "<div>\n",
       "<style scoped>\n",
       "    .dataframe tbody tr th:only-of-type {\n",
       "        vertical-align: middle;\n",
       "    }\n",
       "\n",
       "    .dataframe tbody tr th {\n",
       "        vertical-align: top;\n",
       "    }\n",
       "\n",
       "    .dataframe thead th {\n",
       "        text-align: right;\n",
       "    }\n",
       "</style>\n",
       "<table border=\"1\" class=\"dataframe\">\n",
       "  <thead>\n",
       "    <tr style=\"text-align: right;\">\n",
       "      <th></th>\n",
       "      <th>Train_Null_Values</th>\n",
       "      <th>Test_Null_Values</th>\n",
       "      <th>Data_Type</th>\n",
       "    </tr>\n",
       "  </thead>\n",
       "  <tbody>\n",
       "    <tr>\n",
       "      <th>Annual_Income</th>\n",
       "      <td>25102</td>\n",
       "      <td>16898.0</td>\n",
       "      <td>float64</td>\n",
       "    </tr>\n",
       "    <tr>\n",
       "      <th>Debt_To_Income</th>\n",
       "      <td>0</td>\n",
       "      <td>0.0</td>\n",
       "      <td>float64</td>\n",
       "    </tr>\n",
       "    <tr>\n",
       "      <th>Gender</th>\n",
       "      <td>0</td>\n",
       "      <td>0.0</td>\n",
       "      <td>object</td>\n",
       "    </tr>\n",
       "    <tr>\n",
       "      <th>Home_Owner</th>\n",
       "      <td>25349</td>\n",
       "      <td>16711.0</td>\n",
       "      <td>object</td>\n",
       "    </tr>\n",
       "    <tr>\n",
       "      <th>Income_Verified</th>\n",
       "      <td>0</td>\n",
       "      <td>0.0</td>\n",
       "      <td>object</td>\n",
       "    </tr>\n",
       "    <tr>\n",
       "      <th>Inquiries_Last_6Mo</th>\n",
       "      <td>0</td>\n",
       "      <td>0.0</td>\n",
       "      <td>int64</td>\n",
       "    </tr>\n",
       "    <tr>\n",
       "      <th>Interest_Rate</th>\n",
       "      <td>0</td>\n",
       "      <td>NaN</td>\n",
       "      <td>int64</td>\n",
       "    </tr>\n",
       "    <tr>\n",
       "      <th>Length_Employed</th>\n",
       "      <td>7371</td>\n",
       "      <td>4936.0</td>\n",
       "      <td>object</td>\n",
       "    </tr>\n",
       "    <tr>\n",
       "      <th>Loan_Amount_Requested</th>\n",
       "      <td>0</td>\n",
       "      <td>0.0</td>\n",
       "      <td>object</td>\n",
       "    </tr>\n",
       "    <tr>\n",
       "      <th>Loan_ID</th>\n",
       "      <td>0</td>\n",
       "      <td>0.0</td>\n",
       "      <td>int64</td>\n",
       "    </tr>\n",
       "    <tr>\n",
       "      <th>Months_Since_Deliquency</th>\n",
       "      <td>88379</td>\n",
       "      <td>58859.0</td>\n",
       "      <td>float64</td>\n",
       "    </tr>\n",
       "    <tr>\n",
       "      <th>Number_Open_Accounts</th>\n",
       "      <td>0</td>\n",
       "      <td>0.0</td>\n",
       "      <td>int64</td>\n",
       "    </tr>\n",
       "    <tr>\n",
       "      <th>Purpose_Of_Loan</th>\n",
       "      <td>0</td>\n",
       "      <td>0.0</td>\n",
       "      <td>object</td>\n",
       "    </tr>\n",
       "    <tr>\n",
       "      <th>Total_Accounts</th>\n",
       "      <td>0</td>\n",
       "      <td>0.0</td>\n",
       "      <td>int64</td>\n",
       "    </tr>\n",
       "  </tbody>\n",
       "</table>\n",
       "</div>"
      ],
      "text/plain": [
       "                         Train_Null_Values  Test_Null_Values Data_Type\n",
       "Annual_Income                        25102           16898.0   float64\n",
       "Debt_To_Income                           0               0.0   float64\n",
       "Gender                                   0               0.0    object\n",
       "Home_Owner                           25349           16711.0    object\n",
       "Income_Verified                          0               0.0    object\n",
       "Inquiries_Last_6Mo                       0               0.0     int64\n",
       "Interest_Rate                            0               NaN     int64\n",
       "Length_Employed                       7371            4936.0    object\n",
       "Loan_Amount_Requested                    0               0.0    object\n",
       "Loan_ID                                  0               0.0     int64\n",
       "Months_Since_Deliquency              88379           58859.0   float64\n",
       "Number_Open_Accounts                     0               0.0     int64\n",
       "Purpose_Of_Loan                          0               0.0    object\n",
       "Total_Accounts                           0               0.0     int64"
      ]
     },
     "execution_count": 431,
     "metadata": {},
     "output_type": "execute_result"
    }
   ],
   "source": [
    "#Missing Values and Data Types\n",
    "d1 = df_train.isnull().sum().to_frame().rename(columns={0: \"Train_Null_Values\"})\n",
    "d2 = df_test.isnull().sum().to_frame().rename(columns={0: \"Test_Null_Values\"})\n",
    "d3 = df_train.dtypes.to_frame().rename(columns={0:\"Data_Type\"})\n",
    "pd.concat([d1, d2, d3], axis=1)"
   ]
  },
  {
   "cell_type": "markdown",
   "metadata": {},
   "source": [
    "### Exploatory Data Analysis"
   ]
  },
  {
   "cell_type": "code",
   "execution_count": 432,
   "metadata": {},
   "outputs": [
    {
     "data": {
      "text/plain": [
       "2    0.429557\n",
       "3    0.364697\n",
       "1    0.205746\n",
       "Name: Interest_Rate, dtype: float64"
      ]
     },
     "execution_count": 432,
     "metadata": {},
     "output_type": "execute_result"
    }
   ],
   "source": [
    "### Target Exploration\n",
    "df_train['Interest_Rate'].value_counts(normalize=True)"
   ]
  },
  {
   "cell_type": "code",
   "execution_count": 433,
   "metadata": {},
   "outputs": [
    {
     "data": {
      "text/plain": [
       "<matplotlib.axes._subplots.AxesSubplot at 0x25b2de62908>"
      ]
     },
     "execution_count": 433,
     "metadata": {},
     "output_type": "execute_result"
    },
    {
     "data": {
      "image/png": "[encoded data removed]",
      "text/plain": [
       "<Figure size 432x288 with 1 Axes>"
      ]
     },
     "metadata": {
      "needs_background": "light"
     },
     "output_type": "display_data"
    }
   ],
   "source": [
    "sns.countplot(df_train[\"Interest_Rate\"])"
   ]
  },
  {
   "cell_type": "markdown",
   "metadata": {},
   "source": [
    "### Data Summarization"
   ]
  },
  {
   "cell_type": "markdown",
   "metadata": {},
   "source": [
    "### Univariate Analysis & Missing Value_Treatment"
   ]
  },
  {
   "cell_type": "code",
   "execution_count": 434,
   "metadata": {},
   "outputs": [],
   "source": [
    "train=df_train.append(df_test, sort=False)"
   ]
  },
  {
   "cell_type": "code",
   "execution_count": 435,
   "metadata": {},
   "outputs": [
    {
     "data": {
      "text/plain": [
       "Index(['Loan_ID', 'Loan_Amount_Requested', 'Length_Employed', 'Home_Owner', 'Annual_Income', 'Income_Verified', 'Purpose_Of_Loan', 'Debt_To_Income', 'Inquiries_Last_6Mo', 'Months_Since_Deliquency', 'Number_Open_Accounts', 'Total_Accounts', 'Gender', 'Interest_Rate'], dtype='object')"
      ]
     },
     "execution_count": 435,
     "metadata": {},
     "output_type": "execute_result"
    }
   ],
   "source": [
    "train.columns"
   ]
  },
  {
   "cell_type": "code",
   "execution_count": 436,
   "metadata": {},
   "outputs": [
    {
     "name": "stdout",
     "output_type": "stream",
     "text": [
      "Index(['Loan_Amount_Requested', 'Length_Employed', 'Home_Owner', 'Income_Verified', 'Purpose_Of_Loan', 'Gender'], dtype='object')\n"
     ]
    }
   ],
   "source": [
    "#Getting a list of categorical variable\n",
    "categorical_variables = train.dtypes.loc[train.dtypes=='object'].index\n",
    "print (categorical_variables)"
   ]
  },
  {
   "cell_type": "code",
   "execution_count": 437,
   "metadata": {},
   "outputs": [
    {
     "data": {
      "text/plain": [
       "Loan_Amount_Requested    1320\n",
       "Length_Employed            12\n",
       "Home_Owner                  6\n",
       "Income_Verified             3\n",
       "Purpose_Of_Loan            14\n",
       "Gender                      2\n",
       "dtype: int64"
      ]
     },
     "execution_count": 437,
     "metadata": {},
     "output_type": "execute_result"
    }
   ],
   "source": [
    "#Determining the number of unique values in each column\n",
    "train[categorical_variables].apply(lambda x: len(x.unique()))"
   ]
  },
  {
   "cell_type": "markdown",
   "metadata": {},
   "source": [
    "Observation: Something is not adding up as Loan_Amount_Requested is showing as categorical variable"
   ]
  },
  {
   "cell_type": "markdown",
   "metadata": {},
   "source": [
    "### Feature Engineering "
   ]
  },
  {
   "cell_type": "code",
   "execution_count": 7,
   "metadata": {},
   "outputs": [],
   "source": [
    "# Converting Loan_Amount_Requested to numeric\n",
    "df_train[\"Loan_Amount_Requested\"] = df_train[\"Loan_Amount_Requested\"].str.replace(\",\", \"\")\n",
    "df_train[\"Loan_Amount_Requested\"] = pd.to_numeric(df_train[\"Loan_Amount_Requested\"])\n",
    "df_test[\"Loan_Amount_Requested\"] = df_test[\"Loan_Amount_Requested\"].str.replace(\",\", \"\")\n",
    "df_test[\"Loan_Amount_Requested\"] = pd.to_numeric(df_test[\"Loan_Amount_Requested\"])"
   ]
  },
  {
   "cell_type": "code",
   "execution_count": 8,
   "metadata": {},
   "outputs": [],
   "source": [
    "# Replacing attributes for years\n",
    "df_train.Length_Employed.fillna(-1, inplace=True)\n",
    "df_test.Length_Employed.fillna(-1, inplace=True)\n",
    "df_train.Length_Employed.replace({'10+ years':'10 years','< 1 year' : '0 year'}, inplace=True)\n",
    "df_test.Length_Employed.replace({'10+ years':'10 years','< 1 year' : '0 year'}, inplace=True)\n",
    "df_train.Length_Employed=df_train.Length_Employed.apply(lambda x: '' .join(re.findall('\\d+',str(x))))\n",
    "df_test.Length_Employed=df_test.Length_Employed.apply(lambda x: '' .join(re.findall('\\d+',str(x))))"
   ]
  },
  {
   "cell_type": "code",
   "execution_count": 9,
   "metadata": {},
   "outputs": [],
   "source": [
    "# Converting Length_Employed to integer\n",
    "df_train.Length_Employed=df_train.Length_Employed.astype(int)\n",
    "df_test.Length_Employed=df_test.Length_Employed.astype(int)"
   ]
  },
  {
   "cell_type": "code",
   "execution_count": 10,
   "metadata": {},
   "outputs": [],
   "source": [
    "# Converting Annual_Income to numeric\n",
    "df_train.Annual_Income.fillna(-1, inplace=True)\n",
    "df_test.Annual_Income.fillna(-1, inplace=True)\n",
    "df_train[\"Annual_Income\"] = pd.to_numeric(df_train[\"Annual_Income\"]).astype(int)\n",
    "df_test[\"Annual_Income\"] = pd.to_numeric(df_test[\"Annual_Income\"]).astype(int)"
   ]
  },
  {
   "cell_type": "code",
   "execution_count": 11,
   "metadata": {},
   "outputs": [],
   "source": [
    "# Converting Debt_To_Income to numeric\n",
    "df_train.Debt_To_Income.fillna(-1, inplace=True)\n",
    "df_test.Debt_To_Income.fillna(-1, inplace=True)\n",
    "df_train[\"Debt_To_Income\"] = pd.to_numeric(df_train[\"Debt_To_Income\"]).astype(int)\n",
    "df_test[\"Debt_To_Income\"] = pd.to_numeric(df_test[\"Debt_To_Income\"]).astype(int)"
   ]
  },
  {
   "cell_type": "code",
   "execution_count": 12,
   "metadata": {},
   "outputs": [],
   "source": [
    "# Converting Month_Since_Delinquency to Integer\n",
    "df_train.Months_Since_Deliquency.fillna(-1, inplace=True)\n",
    "df_test.Months_Since_Deliquency.fillna(-1, inplace=True)\n",
    "df_train[\"Months_Since_Deliquency\"] = pd.to_numeric(df_train[\"Months_Since_Deliquency\"]).astype(int)\n",
    "df_test[\"Months_Since_Deliquency\"] = pd.to_numeric(df_test[\"Months_Since_Deliquency\"]).astype(int)"
   ]
  },
  {
   "cell_type": "code",
   "execution_count": 13,
   "metadata": {},
   "outputs": [
    {
     "name": "stdout",
     "output_type": "stream",
     "text": [
      "<class 'pandas.core.frame.DataFrame'>\n",
      "RangeIndex: 109541 entries, 0 to 109540\n",
      "Data columns (total 13 columns):\n",
      "Loan_ID                    109541 non-null int64\n",
      "Loan_Amount_Requested      109541 non-null int64\n",
      "Length_Employed            109541 non-null int32\n",
      "Home_Owner                 92830 non-null object\n",
      "Annual_Income              109541 non-null int32\n",
      "Income_Verified            109541 non-null object\n",
      "Purpose_Of_Loan            109541 non-null object\n",
      "Debt_To_Income             109541 non-null int32\n",
      "Inquiries_Last_6Mo         109541 non-null int64\n",
      "Months_Since_Deliquency    109541 non-null int32\n",
      "Number_Open_Accounts       109541 non-null int64\n",
      "Total_Accounts             109541 non-null int64\n",
      "Gender                     109541 non-null object\n",
      "dtypes: int32(4), int64(5), object(4)\n",
      "memory usage: 9.2+ MB\n"
     ]
    }
   ],
   "source": [
    "# Getting the information for the data\n",
    "df_test.info()"
   ]
  },
  {
   "cell_type": "markdown",
   "metadata": {},
   "source": [
    "We can confirm that Loan_Amount_Requested is converted to numeric column"
   ]
  },
  {
   "cell_type": "markdown",
   "metadata": {},
   "source": [
    "### Analyzing the Categorical Variables to determine the percentage of their observations"
   ]
  },
  {
   "cell_type": "code",
   "execution_count": 14,
   "metadata": {},
   "outputs": [
    {
     "data": {
      "text/plain": [
       "10    52915\n",
       "1     17793\n",
       "2     14620\n",
       "3     12974\n",
       "0     12805\n",
       "5     10814\n",
       "4      9784\n",
       "7      9308\n",
       "6      9094\n",
       "8      7917\n",
       "9      6285\n",
       "Name: Length_Employed, dtype: int64"
      ]
     },
     "execution_count": 14,
     "metadata": {},
     "output_type": "execute_result"
    }
   ],
   "source": [
    "#Printing counts of Lenth_Employed\n",
    "df_train['Length_Employed'].value_counts()"
   ]
  },
  {
   "cell_type": "code",
   "execution_count": 15,
   "metadata": {},
   "outputs": [
    {
     "data": {
      "text/plain": [
       "10    0.322046\n",
       "1     0.108290\n",
       "2     0.088979\n",
       "3     0.078961\n",
       "0     0.077932\n",
       "5     0.065815\n",
       "4     0.059546\n",
       "7     0.056649\n",
       "6     0.055347\n",
       "8     0.048184\n",
       "9     0.038251\n",
       "Name: Length_Employed, dtype: float64"
      ]
     },
     "execution_count": 15,
     "metadata": {},
     "output_type": "execute_result"
    }
   ],
   "source": [
    "#Printing the percentage of observations in each Length_Employed category\n",
    "df_train['Length_Employed'].value_counts()/df_train.shape[0]"
   ]
  },
  {
   "cell_type": "markdown",
   "metadata": {},
   "source": [
    "Here we observe that the top variable itself accounts for ~32% of observations and the top 2 combined have ~40+% of observation, taking into consideration this observation."
   ]
  },
  {
   "cell_type": "code",
   "execution_count": 16,
   "metadata": {},
   "outputs": [
    {
     "data": {
      "text/plain": [
       "Mortgage    70345\n",
       "Rent        56031\n",
       "Own         12525\n",
       "Other          49\n",
       "None           10\n",
       "Name: Home_Owner, dtype: int64"
      ]
     },
     "execution_count": 16,
     "metadata": {},
     "output_type": "execute_result"
    }
   ],
   "source": [
    "#Print the counts of each Home_Owner category\n",
    "df_train['Home_Owner'].value_counts()"
   ]
  },
  {
   "cell_type": "code",
   "execution_count": 17,
   "metadata": {},
   "outputs": [
    {
     "data": {
      "text/plain": [
       "Mortgage    0.428126\n",
       "Rent        0.341010\n",
       "Own         0.076228\n",
       "Other       0.000298\n",
       "None        0.000061\n",
       "Name: Home_Owner, dtype: float64"
      ]
     },
     "execution_count": 17,
     "metadata": {},
     "output_type": "execute_result"
    }
   ],
   "source": [
    "#Printing the percentage of observations in each Home_Owner category\n",
    "df_train['Home_Owner'].value_counts()/df_train.shape[0]"
   ]
  },
  {
   "cell_type": "markdown",
   "metadata": {},
   "source": [
    "We can see that Mortgage and Rent accounts for ~77% of the observations and only 8% observed for Owners"
   ]
  },
  {
   "cell_type": "code",
   "execution_count": 18,
   "metadata": {},
   "outputs": [
    {
     "data": {
      "text/plain": [
       "VERIFIED - income           59421\n",
       "VERIFIED - income source    53015\n",
       "not verified                51873\n",
       "Name: Income_Verified, dtype: int64"
      ]
     },
     "execution_count": 18,
     "metadata": {},
     "output_type": "execute_result"
    }
   ],
   "source": [
    "#Printing the counts of each Income_verified category\n",
    "df_train['Income_Verified'].value_counts()"
   ]
  },
  {
   "cell_type": "code",
   "execution_count": 19,
   "metadata": {},
   "outputs": [
    {
     "data": {
      "text/plain": [
       "VERIFIED - income           0.361642\n",
       "VERIFIED - income source    0.322654\n",
       "not verified                0.315704\n",
       "Name: Income_Verified, dtype: float64"
      ]
     },
     "execution_count": 19,
     "metadata": {},
     "output_type": "execute_result"
    }
   ],
   "source": [
    "#Printing the percentage of observation of each Income_verified category\n",
    "df_train['Income_Verified'].value_counts()/df_train.shape[0]"
   ]
  },
  {
   "cell_type": "markdown",
   "metadata": {},
   "source": [
    "Verified income and income source accounts for ~69% of the observation and 32% for not verified."
   ]
  },
  {
   "cell_type": "code",
   "execution_count": 20,
   "metadata": {},
   "outputs": [
    {
     "data": {
      "text/plain": [
       "debt_consolidation    97101\n",
       "credit_card           36684\n",
       "home_improvement       9269\n",
       "other                  8346\n",
       "major_purchase         3435\n",
       "small_business         2392\n",
       "car                    1885\n",
       "medical                1541\n",
       "moving                  974\n",
       "vacation                837\n",
       "wedding                 828\n",
       "house                   773\n",
       "renewable_energy        123\n",
       "educational             121\n",
       "Name: Purpose_Of_Loan, dtype: int64"
      ]
     },
     "execution_count": 20,
     "metadata": {},
     "output_type": "execute_result"
    }
   ],
   "source": [
    "#Printing the counts of each Income_verified category\n",
    "df_train['Purpose_Of_Loan'].value_counts()"
   ]
  },
  {
   "cell_type": "code",
   "execution_count": 21,
   "metadata": {},
   "outputs": [
    {
     "data": {
      "text/plain": [
       "debt_consolidation    0.590966\n",
       "credit_card           0.223262\n",
       "home_improvement      0.056412\n",
       "other                 0.050795\n",
       "major_purchase        0.020906\n",
       "small_business        0.014558\n",
       "car                   0.011472\n",
       "medical               0.009379\n",
       "moving                0.005928\n",
       "vacation              0.005094\n",
       "wedding               0.005039\n",
       "house                 0.004705\n",
       "renewable_energy      0.000749\n",
       "educational           0.000736\n",
       "Name: Purpose_Of_Loan, dtype: float64"
      ]
     },
     "execution_count": 21,
     "metadata": {},
     "output_type": "execute_result"
    }
   ],
   "source": [
    "#Printing the percentage of each Income_verified category\n",
    "df_train['Purpose_Of_Loan'].value_counts()/df_train.shape[0]"
   ]
  },
  {
   "cell_type": "markdown",
   "metadata": {},
   "source": [
    "59% of the observation on the Purpose of loan is identified for the debt_consolidation, and credit card is at 22% "
   ]
  },
  {
   "cell_type": "code",
   "execution_count": 22,
   "metadata": {},
   "outputs": [
    {
     "data": {
      "text/plain": [
       "Male      117176\n",
       "Female     47133\n",
       "Name: Gender, dtype: int64"
      ]
     },
     "execution_count": 22,
     "metadata": {},
     "output_type": "execute_result"
    }
   ],
   "source": [
    "#Printing the counts for each gender\n",
    "df_train['Gender'].value_counts()"
   ]
  },
  {
   "cell_type": "code",
   "execution_count": 23,
   "metadata": {},
   "outputs": [
    {
     "data": {
      "text/plain": [
       "Male      0.713144\n",
       "Female    0.286856\n",
       "Name: Gender, dtype: float64"
      ]
     },
     "execution_count": 23,
     "metadata": {},
     "output_type": "execute_result"
    }
   ],
   "source": [
    "#Printing the observations for each gender category\n",
    "df_train['Gender'].value_counts()/df_train.shape[0]"
   ]
  },
  {
   "cell_type": "markdown",
   "metadata": {},
   "source": [
    "Based on the Gender category it is observed that 71% of the Male is identified, while ~29% is for the Female, mostly likely to depict that the male are more prone to loan"
   ]
  },
  {
   "cell_type": "markdown",
   "metadata": {},
   "source": [
    "### Missing Value Treatment"
   ]
  },
  {
   "cell_type": "code",
   "execution_count": 244,
   "metadata": {},
   "outputs": [
    {
     "data": {
      "text/plain": [
       "Loan_ID                         0\n",
       "Loan_Amount_Requested           0\n",
       "Length_Employed             12307\n",
       "Home_Owner                  42060\n",
       "Annual_Income               42000\n",
       "Income_Verified                 0\n",
       "Purpose_Of_Loan                 0\n",
       "Debt_To_Income                  0\n",
       "Inquiries_Last_6Mo              0\n",
       "Months_Since_Deliquency    147238\n",
       "Number_Open_Accounts            0\n",
       "Total_Accounts                  0\n",
       "Gender                          0\n",
       "Interest_Rate              109541\n",
       "dtype: int64"
      ]
     },
     "execution_count": 244,
     "metadata": {},
     "output_type": "execute_result"
    }
   ],
   "source": [
    "#Identifying the Missing values for both train and test dataset\n",
    "train.apply(lambda x: sum(x.isnull()))"
   ]
  },
  {
   "cell_type": "markdown",
   "metadata": {},
   "source": [
    "We have two categorical values we can simply impute them with the mode values"
   ]
  },
  {
   "cell_type": "code",
   "execution_count": 25,
   "metadata": {},
   "outputs": [],
   "source": [
    "#Imputation_Using the scipy library function mode to sort the missing values for the categorical data\n",
    "from scipy.stats import mode\n",
    "\n",
    "#mode(train['Length_Employed']).mode[0]"
   ]
  },
  {
   "cell_type": "code",
   "execution_count": 26,
   "metadata": {},
   "outputs": [],
   "source": [
    "var_to_impute = ['Home_Owner',]\n",
    "for var in var_to_impute:\n",
    "    df_train[var].fillna(mode(df_train[var]).mode[0], inplace=True)\n",
    "    df_test[var].fillna(mode(df_test[var]).mode[0], inplace=True)"
   ]
  },
  {
   "cell_type": "code",
   "execution_count": 27,
   "metadata": {},
   "outputs": [
    {
     "data": {
      "text/plain": [
       "Loan_ID                    0\n",
       "Loan_Amount_Requested      0\n",
       "Length_Employed            0\n",
       "Home_Owner                 0\n",
       "Annual_Income              0\n",
       "Income_Verified            0\n",
       "Purpose_Of_Loan            0\n",
       "Debt_To_Income             0\n",
       "Inquiries_Last_6Mo         0\n",
       "Months_Since_Deliquency    0\n",
       "Number_Open_Accounts       0\n",
       "Total_Accounts             0\n",
       "Gender                     0\n",
       "Interest_Rate              0\n",
       "dtype: int64"
      ]
     },
     "execution_count": 27,
     "metadata": {},
     "output_type": "execute_result"
    }
   ],
   "source": [
    "df_train.apply(lambda x: sum(x.isnull()))"
   ]
  },
  {
   "cell_type": "markdown",
   "metadata": {},
   "source": [
    "We can see that the categorical variable has been treated, moving on to treat the two(2) numerical variable observed ('Annual_Income & Months_Since_Deliquency')"
   ]
  },
  {
   "cell_type": "code",
   "execution_count": 248,
   "metadata": {},
   "outputs": [],
   "source": [
    "#For Annual_Income fill NaN with mean\n",
    "train[\"Annual_Income\"].fillna(train[\"Annual_Income\"].mean(), inplace=True)"
   ]
  },
  {
   "cell_type": "code",
   "execution_count": 28,
   "metadata": {},
   "outputs": [],
   "source": [
    "#Fill NaN with mean for missing value inputation\n",
    "df_train[\"Annual_Income\"].fillna(df_train[\"Annual_Income\"].mean(), inplace=True)\n",
    "df_test[\"Annual_Income\"].fillna(df_test[\"Annual_Income\"].mean(), inplace=True)"
   ]
  },
  {
   "cell_type": "code",
   "execution_count": 31,
   "metadata": {},
   "outputs": [],
   "source": [
    "#Fill NaN \n",
    "df_train[\"Length_Employed\"].fillna('NaN', inplace=True)\n",
    "df_test[\"Length_Employed\"].fillna('NaN', inplace=True)\n",
    "\n",
    "df_train[\"Home_Owner\"].fillna('NaN', inplace=True)\n",
    "df_test[\"Home_Owner\"].fillna('NaN', inplace=True)\n",
    "\n",
    "df_train[\"Income_Verified\"].fillna('NaN', inplace=True)\n",
    "df_test[\"Income_Verified\"].fillna('NaN', inplace=True)\n",
    "\n",
    "df_train[\"Purpose_Of_Loan\"].fillna('NaN', inplace=True)\n",
    "df_test[\"Purpose_Of_Loan\"].fillna('NaN', inplace=True)\n",
    "\n",
    "df_train[\"Gender\"].fillna('NaN', inplace=True)\n",
    "df_test[\"Gender\"].fillna('NaN', inplace=True)"
   ]
  },
  {
   "cell_type": "code",
   "execution_count": 249,
   "metadata": {},
   "outputs": [],
   "source": [
    "#Assumption: If it is NaN, then user has no deliquency, so set with 0\n",
    "train[\"Months_Since_Deliquency\"].fillna(0, inplace=True)"
   ]
  },
  {
   "cell_type": "code",
   "execution_count": 384,
   "metadata": {},
   "outputs": [],
   "source": [
    "#Assumption: If it is NaN, then user has no deliquency, so set with 0\n",
    "df_train[\"Months_Since_Deliquency\"].fillna(0, inplace=True)\n",
    "df_test[\"Months_Since_Deliquency\"].fillna(0, inplace=True)"
   ]
  },
  {
   "cell_type": "code",
   "execution_count": 29,
   "metadata": {},
   "outputs": [
    {
     "data": {
      "text/plain": [
       "Loan_ID                    0\n",
       "Loan_Amount_Requested      0\n",
       "Length_Employed            0\n",
       "Home_Owner                 0\n",
       "Annual_Income              0\n",
       "Income_Verified            0\n",
       "Purpose_Of_Loan            0\n",
       "Debt_To_Income             0\n",
       "Inquiries_Last_6Mo         0\n",
       "Months_Since_Deliquency    0\n",
       "Number_Open_Accounts       0\n",
       "Total_Accounts             0\n",
       "Gender                     0\n",
       "Interest_Rate              0\n",
       "dtype: int64"
      ]
     },
     "execution_count": 29,
     "metadata": {},
     "output_type": "execute_result"
    }
   ],
   "source": [
    "df_train.apply(lambda x: sum(x.isnull()))"
   ]
  },
  {
   "cell_type": "code",
   "execution_count": 30,
   "metadata": {},
   "outputs": [
    {
     "data": {
      "text/plain": [
       "Loan_ID                    0\n",
       "Loan_Amount_Requested      0\n",
       "Length_Employed            0\n",
       "Home_Owner                 0\n",
       "Annual_Income              0\n",
       "Income_Verified            0\n",
       "Purpose_Of_Loan            0\n",
       "Debt_To_Income             0\n",
       "Inquiries_Last_6Mo         0\n",
       "Months_Since_Deliquency    0\n",
       "Number_Open_Accounts       0\n",
       "Total_Accounts             0\n",
       "Gender                     0\n",
       "dtype: int64"
      ]
     },
     "execution_count": 30,
     "metadata": {},
     "output_type": "execute_result"
    }
   ],
   "source": [
    "df_test.apply(lambda x: sum(x.isnull()))"
   ]
  },
  {
   "cell_type": "code",
   "execution_count": 31,
   "metadata": {},
   "outputs": [],
   "source": [
    "#Drop Loan ids\n",
    "df_train = df_train.drop([\"Loan_ID\"], axis=1)\n",
    "loan_ids = df_test[\"Loan_ID\"].values\n",
    "df_test = df_test.drop([\"Loan_ID\"], axis=1)"
   ]
  },
  {
   "cell_type": "code",
   "execution_count": 32,
   "metadata": {},
   "outputs": [],
   "source": [
    "#New Feature\n",
    "df_train[\"Number_Invalid_Acc\"] = df_train[\"Total_Accounts\"] - df_train[\"Number_Open_Accounts\"]\n",
    "df_test[\"Number_Invalid_Acc\"] = df_test[\"Total_Accounts\"] - df_test[\"Number_Open_Accounts\"]"
   ]
  },
  {
   "cell_type": "code",
   "execution_count": 33,
   "metadata": {},
   "outputs": [],
   "source": [
    "#New Feature\n",
    "df_train[\"Number_Years_To_Repay_Debt\"] = df_train[\"Loan_Amount_Requested\"]/df_train[\"Annual_Income\"]\n",
    "df_test[\"Number_Years_To_Repay_Debt\"] = df_test[\"Loan_Amount_Requested\"]/df_test[\"Annual_Income\"]"
   ]
  },
  {
   "cell_type": "code",
   "execution_count": 34,
   "metadata": {},
   "outputs": [
    {
     "data": {
      "text/html": [
       "<div>\n",
       "<style scoped>\n",
       "    .dataframe tbody tr th:only-of-type {\n",
       "        vertical-align: middle;\n",
       "    }\n",
       "\n",
       "    .dataframe tbody tr th {\n",
       "        vertical-align: top;\n",
       "    }\n",
       "\n",
       "    .dataframe thead th {\n",
       "        text-align: right;\n",
       "    }\n",
       "</style>\n",
       "<table border=\"1\" class=\"dataframe\">\n",
       "  <thead>\n",
       "    <tr style=\"text-align: right;\">\n",
       "      <th></th>\n",
       "      <th>Loan_Amount_Requested</th>\n",
       "      <th>Length_Employed</th>\n",
       "      <th>Home_Owner</th>\n",
       "      <th>Annual_Income</th>\n",
       "      <th>Income_Verified</th>\n",
       "      <th>Purpose_Of_Loan</th>\n",
       "      <th>Debt_To_Income</th>\n",
       "      <th>Inquiries_Last_6Mo</th>\n",
       "      <th>Months_Since_Deliquency</th>\n",
       "      <th>Number_Open_Accounts</th>\n",
       "      <th>Total_Accounts</th>\n",
       "      <th>Gender</th>\n",
       "      <th>Interest_Rate</th>\n",
       "      <th>Number_Invalid_Acc</th>\n",
       "      <th>Number_Years_To_Repay_Debt</th>\n",
       "    </tr>\n",
       "  </thead>\n",
       "  <tbody>\n",
       "    <tr>\n",
       "      <th>0</th>\n",
       "      <td>7000</td>\n",
       "      <td>0</td>\n",
       "      <td>Rent</td>\n",
       "      <td>68000</td>\n",
       "      <td>not verified</td>\n",
       "      <td>car</td>\n",
       "      <td>18</td>\n",
       "      <td>0</td>\n",
       "      <td>-1</td>\n",
       "      <td>9</td>\n",
       "      <td>14</td>\n",
       "      <td>Female</td>\n",
       "      <td>1</td>\n",
       "      <td>5</td>\n",
       "      <td>0.102941</td>\n",
       "    </tr>\n",
       "    <tr>\n",
       "      <th>1</th>\n",
       "      <td>30000</td>\n",
       "      <td>4</td>\n",
       "      <td>Mortgage</td>\n",
       "      <td>-1</td>\n",
       "      <td>VERIFIED - income</td>\n",
       "      <td>debt_consolidation</td>\n",
       "      <td>14</td>\n",
       "      <td>0</td>\n",
       "      <td>17</td>\n",
       "      <td>12</td>\n",
       "      <td>24</td>\n",
       "      <td>Female</td>\n",
       "      <td>3</td>\n",
       "      <td>12</td>\n",
       "      <td>-30000.000000</td>\n",
       "    </tr>\n",
       "    <tr>\n",
       "      <th>2</th>\n",
       "      <td>24725</td>\n",
       "      <td>7</td>\n",
       "      <td>Mortgage</td>\n",
       "      <td>75566</td>\n",
       "      <td>VERIFIED - income source</td>\n",
       "      <td>debt_consolidation</td>\n",
       "      <td>15</td>\n",
       "      <td>0</td>\n",
       "      <td>-1</td>\n",
       "      <td>12</td>\n",
       "      <td>16</td>\n",
       "      <td>Male</td>\n",
       "      <td>3</td>\n",
       "      <td>4</td>\n",
       "      <td>0.327197</td>\n",
       "    </tr>\n",
       "    <tr>\n",
       "      <th>3</th>\n",
       "      <td>16000</td>\n",
       "      <td>0</td>\n",
       "      <td>Mortgage</td>\n",
       "      <td>56160</td>\n",
       "      <td>VERIFIED - income source</td>\n",
       "      <td>debt_consolidation</td>\n",
       "      <td>14</td>\n",
       "      <td>3</td>\n",
       "      <td>-1</td>\n",
       "      <td>16</td>\n",
       "      <td>22</td>\n",
       "      <td>Male</td>\n",
       "      <td>3</td>\n",
       "      <td>6</td>\n",
       "      <td>0.284900</td>\n",
       "    </tr>\n",
       "    <tr>\n",
       "      <th>4</th>\n",
       "      <td>17000</td>\n",
       "      <td>8</td>\n",
       "      <td>Own</td>\n",
       "      <td>96000</td>\n",
       "      <td>VERIFIED - income source</td>\n",
       "      <td>debt_consolidation</td>\n",
       "      <td>22</td>\n",
       "      <td>1</td>\n",
       "      <td>-1</td>\n",
       "      <td>19</td>\n",
       "      <td>30</td>\n",
       "      <td>Female</td>\n",
       "      <td>1</td>\n",
       "      <td>11</td>\n",
       "      <td>0.177083</td>\n",
       "    </tr>\n",
       "  </tbody>\n",
       "</table>\n",
       "</div>"
      ],
      "text/plain": [
       "   Loan_Amount_Requested  Length_Employed Home_Owner  Annual_Income           Income_Verified     Purpose_Of_Loan  Debt_To_Income  Inquiries_Last_6Mo  Months_Since_Deliquency  Number_Open_Accounts  Total_Accounts  Gender  Interest_Rate  Number_Invalid_Acc  Number_Years_To_Repay_Debt\n",
       "0                   7000                0       Rent          68000              not verified                 car              18                   0                       -1                     9              14  Female              1                   5                    0.102941\n",
       "1                  30000                4   Mortgage             -1         VERIFIED - income  debt_consolidation              14                   0                       17                    12              24  Female              3                  12               -30000.000000\n",
       "2                  24725                7   Mortgage          75566  VERIFIED - income source  debt_consolidation              15                   0                       -1                    12              16    Male              3                   4                    0.327197\n",
       "3                  16000                0   Mortgage          56160  VERIFIED - income source  debt_consolidation              14                   3                       -1                    16              22    Male              3                   6                    0.284900\n",
       "4                  17000                8        Own          96000  VERIFIED - income source  debt_consolidation              22                   1                       -1                    19              30  Female              1                  11                    0.177083"
      ]
     },
     "execution_count": 34,
     "metadata": {},
     "output_type": "execute_result"
    }
   ],
   "source": [
    "df_train.head()"
   ]
  },
  {
   "cell_type": "code",
   "execution_count": 35,
   "metadata": {},
   "outputs": [
    {
     "data": {
      "text/html": [
       "<div>\n",
       "<style scoped>\n",
       "    .dataframe tbody tr th:only-of-type {\n",
       "        vertical-align: middle;\n",
       "    }\n",
       "\n",
       "    .dataframe tbody tr th {\n",
       "        vertical-align: top;\n",
       "    }\n",
       "\n",
       "    .dataframe thead th {\n",
       "        text-align: right;\n",
       "    }\n",
       "</style>\n",
       "<table border=\"1\" class=\"dataframe\">\n",
       "  <thead>\n",
       "    <tr style=\"text-align: right;\">\n",
       "      <th></th>\n",
       "      <th>Loan_Amount_Requested</th>\n",
       "      <th>Length_Employed</th>\n",
       "      <th>Home_Owner</th>\n",
       "      <th>Annual_Income</th>\n",
       "      <th>Income_Verified</th>\n",
       "      <th>Purpose_Of_Loan</th>\n",
       "      <th>Debt_To_Income</th>\n",
       "      <th>Inquiries_Last_6Mo</th>\n",
       "      <th>Months_Since_Deliquency</th>\n",
       "      <th>Number_Open_Accounts</th>\n",
       "      <th>Total_Accounts</th>\n",
       "      <th>Gender</th>\n",
       "      <th>Number_Invalid_Acc</th>\n",
       "      <th>Number_Years_To_Repay_Debt</th>\n",
       "    </tr>\n",
       "  </thead>\n",
       "  <tbody>\n",
       "    <tr>\n",
       "      <th>0</th>\n",
       "      <td>27500</td>\n",
       "      <td>10</td>\n",
       "      <td>Mortgage</td>\n",
       "      <td>129000</td>\n",
       "      <td>VERIFIED - income</td>\n",
       "      <td>debt_consolidation</td>\n",
       "      <td>12</td>\n",
       "      <td>0</td>\n",
       "      <td>68</td>\n",
       "      <td>10</td>\n",
       "      <td>37</td>\n",
       "      <td>Male</td>\n",
       "      <td>27</td>\n",
       "      <td>0.213178</td>\n",
       "    </tr>\n",
       "    <tr>\n",
       "      <th>1</th>\n",
       "      <td>26000</td>\n",
       "      <td>10</td>\n",
       "      <td>Mortgage</td>\n",
       "      <td>110000</td>\n",
       "      <td>not verified</td>\n",
       "      <td>credit_card</td>\n",
       "      <td>11</td>\n",
       "      <td>0</td>\n",
       "      <td>-1</td>\n",
       "      <td>6</td>\n",
       "      <td>23</td>\n",
       "      <td>Male</td>\n",
       "      <td>17</td>\n",
       "      <td>0.236364</td>\n",
       "    </tr>\n",
       "    <tr>\n",
       "      <th>2</th>\n",
       "      <td>6075</td>\n",
       "      <td>0</td>\n",
       "      <td>Rent</td>\n",
       "      <td>75000</td>\n",
       "      <td>VERIFIED - income</td>\n",
       "      <td>debt_consolidation</td>\n",
       "      <td>6</td>\n",
       "      <td>2</td>\n",
       "      <td>-1</td>\n",
       "      <td>5</td>\n",
       "      <td>20</td>\n",
       "      <td>Male</td>\n",
       "      <td>15</td>\n",
       "      <td>0.081000</td>\n",
       "    </tr>\n",
       "    <tr>\n",
       "      <th>3</th>\n",
       "      <td>12000</td>\n",
       "      <td>10</td>\n",
       "      <td>Mortgage</td>\n",
       "      <td>73000</td>\n",
       "      <td>VERIFIED - income source</td>\n",
       "      <td>debt_consolidation</td>\n",
       "      <td>7</td>\n",
       "      <td>0</td>\n",
       "      <td>-1</td>\n",
       "      <td>6</td>\n",
       "      <td>8</td>\n",
       "      <td>Male</td>\n",
       "      <td>2</td>\n",
       "      <td>0.164384</td>\n",
       "    </tr>\n",
       "    <tr>\n",
       "      <th>4</th>\n",
       "      <td>35000</td>\n",
       "      <td>0</td>\n",
       "      <td>Mortgage</td>\n",
       "      <td>156000</td>\n",
       "      <td>not verified</td>\n",
       "      <td>debt_consolidation</td>\n",
       "      <td>9</td>\n",
       "      <td>0</td>\n",
       "      <td>26</td>\n",
       "      <td>9</td>\n",
       "      <td>21</td>\n",
       "      <td>Male</td>\n",
       "      <td>12</td>\n",
       "      <td>0.224359</td>\n",
       "    </tr>\n",
       "  </tbody>\n",
       "</table>\n",
       "</div>"
      ],
      "text/plain": [
       "   Loan_Amount_Requested  Length_Employed Home_Owner  Annual_Income           Income_Verified     Purpose_Of_Loan  Debt_To_Income  Inquiries_Last_6Mo  Months_Since_Deliquency  Number_Open_Accounts  Total_Accounts Gender  Number_Invalid_Acc  Number_Years_To_Repay_Debt\n",
       "0                  27500               10   Mortgage         129000         VERIFIED - income  debt_consolidation              12                   0                       68                    10              37   Male                  27                    0.213178\n",
       "1                  26000               10   Mortgage         110000              not verified         credit_card              11                   0                       -1                     6              23   Male                  17                    0.236364\n",
       "2                   6075                0       Rent          75000         VERIFIED - income  debt_consolidation               6                   2                       -1                     5              20   Male                  15                    0.081000\n",
       "3                  12000               10   Mortgage          73000  VERIFIED - income source  debt_consolidation               7                   0                       -1                     6               8   Male                   2                    0.164384\n",
       "4                  35000                0   Mortgage         156000              not verified  debt_consolidation               9                   0                       26                     9              21   Male                  12                    0.224359"
      ]
     },
     "execution_count": 35,
     "metadata": {},
     "output_type": "execute_result"
    }
   ],
   "source": [
    "df_test.head()"
   ]
  },
  {
   "cell_type": "code",
   "execution_count": 36,
   "metadata": {},
   "outputs": [
    {
     "data": {
      "text/plain": [
       "10    0.322046\n",
       "1     0.108290\n",
       "2     0.088979\n",
       "3     0.078961\n",
       "0     0.077932\n",
       "5     0.065815\n",
       "4     0.059546\n",
       "7     0.056649\n",
       "6     0.055347\n",
       "8     0.048184\n",
       "9     0.038251\n",
       "Name: Length_Employed, dtype: float64"
      ]
     },
     "execution_count": 36,
     "metadata": {},
     "output_type": "execute_result"
    }
   ],
   "source": [
    "df_train.Length_Employed.value_counts(dropna=False, normalize=True)"
   ]
  },
  {
   "cell_type": "markdown",
   "metadata": {},
   "source": [
    "Length_Employed contributes to the observations by 30%, and it is equally distributed among the working years. Adding a seperated variable to distinguish 10+ and <1 year attribute."
   ]
  },
  {
   "cell_type": "markdown",
   "metadata": {},
   "source": [
    "### Model Building and Validation"
   ]
  },
  {
   "cell_type": "markdown",
   "metadata": {},
   "source": [
    "Cross-validation is a statistical technique which involves partitioning the data into subsets, training the data on a subset and use the other subset to evaluate the model's performance. To reduce variability we perform multiple rounds of cross-validation with different subsets from the same data."
   ]
  },
  {
   "cell_type": "markdown",
   "metadata": {},
   "source": [
    "### Convert to X and Y"
   ]
  },
  {
   "cell_type": "code",
   "execution_count": 37,
   "metadata": {},
   "outputs": [
    {
     "data": {
      "text/plain": [
       "((164309, 14), (164309,), (109541, 14))"
      ]
     },
     "execution_count": 37,
     "metadata": {},
     "output_type": "execute_result"
    }
   ],
   "source": [
    "X_train, Y = df_train.drop([\"Interest_Rate\"], axis=1).values, df_train[\"Interest_Rate\"].values\n",
    "X_test = df_test.values\n",
    "\n",
    "X_train.shape, Y.shape, X_test.shape"
   ]
  },
  {
   "cell_type": "markdown",
   "metadata": {},
   "source": [
    "### Perform Validation"
   ]
  },
  {
   "cell_type": "code",
   "execution_count": 38,
   "metadata": {},
   "outputs": [
    {
     "name": "stdout",
     "output_type": "stream",
     "text": [
      "<class 'pandas.core.frame.DataFrame'>\n",
      "RangeIndex: 164309 entries, 0 to 164308\n",
      "Data columns (total 15 columns):\n",
      "Loan_Amount_Requested         164309 non-null int64\n",
      "Length_Employed               164309 non-null int32\n",
      "Home_Owner                    164309 non-null object\n",
      "Annual_Income                 164309 non-null int32\n",
      "Income_Verified               164309 non-null object\n",
      "Purpose_Of_Loan               164309 non-null object\n",
      "Debt_To_Income                164309 non-null int32\n",
      "Inquiries_Last_6Mo            164309 non-null int64\n",
      "Months_Since_Deliquency       164309 non-null int32\n",
      "Number_Open_Accounts          164309 non-null int64\n",
      "Total_Accounts                164309 non-null int64\n",
      "Gender                        164309 non-null object\n",
      "Interest_Rate                 164309 non-null int64\n",
      "Number_Invalid_Acc            164309 non-null int64\n",
      "Number_Years_To_Repay_Debt    164309 non-null float64\n",
      "dtypes: float64(1), int32(4), int64(6), object(4)\n",
      "memory usage: 16.3+ MB\n"
     ]
    }
   ],
   "source": [
    "# Rechceking the data information\n",
    "df_train.info()"
   ]
  },
  {
   "cell_type": "code",
   "execution_count": 41,
   "metadata": {},
   "outputs": [],
   "source": [
    "df_train['Length_Employed'] = df_train['Length_Employed'].fillna(-1)\n",
    "df_test['Length_Employed'] = df_test['Length_Employed'].fillna(-1)"
   ]
  },
  {
   "cell_type": "code",
   "execution_count": 39,
   "metadata": {},
   "outputs": [],
   "source": [
    "K = 5\n",
    "skf = StratifiedKFold(n_splits = K, random_state = 7, shuffle = True)"
   ]
  },
  {
   "cell_type": "code",
   "execution_count": 40,
   "metadata": {},
   "outputs": [
    {
     "data": {
      "text/plain": [
       "['Home_Owner',\n",
       " 'Income_Verified',\n",
       " 'Purpose_Of_Loan',\n",
       " 'Gender',\n",
       " 'Length_Employed']"
      ]
     },
     "execution_count": 40,
     "metadata": {},
     "output_type": "execute_result"
    }
   ],
   "source": [
    "cat_columns=df_train.select_dtypes(include='object').columns.tolist()\n",
    "cat_columns.extend(['Length_Employed']) #Considering the Length_Employed as Category increased the Accuracy\n",
    "# To specify categorical variables indexes\n",
    "cat_columns"
   ]
  },
  {
   "cell_type": "code",
   "execution_count": 41,
   "metadata": {},
   "outputs": [
    {
     "name": "stdout",
     "output_type": "stream",
     "text": [
      "\n",
      "Fold  1\n",
      "  N trees =  809\n",
      "0.5429675613170227\n",
      "\n",
      "Fold  2\n",
      "  N trees =  684\n",
      "0.5444282149595278\n",
      "\n",
      "Fold  3\n",
      "  N trees =  917\n",
      "0.542693688759053\n",
      "\n",
      "Fold  4\n",
      "  N trees =  835\n",
      "0.5427241190432719\n",
      "\n",
      "Fold  5\n",
      "  N trees =  833\n",
      "0.5429840844770396\n",
      "0.5431595337111831\n"
     ]
    }
   ],
   "source": [
    "X = df_train.drop(columns=['Interest_Rate'],axis=1)\n",
    "y = df_train['Interest_Rate']\n",
    "X_test = df_test\n",
    "y_valid_pred = 0*y\n",
    "y_test_pred = 0\n",
    "accuracy = 0\n",
    "result={}\n",
    "#fitting catboost classifier model\n",
    "j=1\n",
    "model = CatBoostClassifier(n_estimators=1000,verbose=False,learning_rate=0.1)\n",
    "for train_index, test_index in skf.split(X, y):  \n",
    "    # Create data for this fold\n",
    "    y_train, y_valid = y.iloc[train_index], y.iloc[test_index]\n",
    "    X_train, X_valid = X.iloc[train_index,:], X.iloc[test_index,:]\n",
    "    print( \"\\nFold \", j)\n",
    "    \n",
    "    # Run model for this fold\n",
    "    fit_model = model.fit( X_train, y_train, eval_set=(X_valid, y_valid),cat_features=cat_columns, use_best_model=True)\n",
    "    print( \"  N trees = \", model.tree_count_ )\n",
    "        \n",
    "    # Generate validation predictions for this fold\n",
    "    pred = fit_model.predict(X_valid)\n",
    "    y_valid_pred.iloc[test_index] = pred.reshape(-1)\n",
    "    print(accuracy_score(y_valid,pred))\n",
    "    accuracy+=accuracy_score(y_valid,pred)\n",
    "    # Accumulate test set predictions\n",
    "    y_test_pred += fit_model.predict(X_test)\n",
    "    result[j]=fit_model.predict(X_test)\n",
    "    j+=1\n",
    "results = y_test_pred / K  # Average test set predictions\n",
    "print(accuracy/5)"
   ]
  },
  {
   "cell_type": "code",
   "execution_count": 46,
   "metadata": {},
   "outputs": [],
   "source": [
    "prediction = pd.DataFrame()\n",
    "for i in range(1, 6):\n",
    "    prediction = pd.concat([prediction, pd.DataFrame(result[i])],axis=1)\n",
    "prediction.columns=['Split1', 'Split2','Split3','Split4','Split5']"
   ]
  },
  {
   "cell_type": "code",
   "execution_count": 49,
   "metadata": {},
   "outputs": [],
   "source": [
    "df_submission.Interest_Rate = prediction.mode(axis=1)[0]\n",
    "df_submission.to_csv('CatBoost.csv', index = False)"
   ]
  },
  {
   "cell_type": "code",
   "execution_count": null,
   "metadata": {},
   "outputs": [],
   "source": []
  }
 ],
 "metadata": {
  "kernelspec": {
   "display_name": "Python 3",
   "language": "python",
   "name": "python3"
  },
  "language_info": {
   "codemirror_mode": {
    "name": "ipython",
    "version": 3
   },
   "file_extension": ".py",
   "mimetype": "text/x-python",
   "name": "python",
   "nbconvert_exporter": "python",
   "pygments_lexer": "ipython3",
   "version": "3.7.3"
  }
 },
 "nbformat": 4,
 "nbformat_minor": 2
}
