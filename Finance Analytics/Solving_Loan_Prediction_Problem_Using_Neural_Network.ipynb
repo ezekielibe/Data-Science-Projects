{
  "nbformat": 4,
  "nbformat_minor": 0,
  "metadata": {
    "colab": {
      "name": "Solving Loan Prediction Problem Using Neural Network.ipynb",
      "provenance": [],
      "collapsed_sections": []
    },
    "kernelspec": {
      "name": "python3",
      "display_name": "Python 3"
    }
  },
  "cells": [
    {
      "cell_type": "code",
      "metadata": {
        "id": "aNnfHBf9FP3w"
      },
      "source": [
        ""
      ],
      "execution_count": null,
      "outputs": []
    },
    {
      "cell_type": "markdown",
      "metadata": {
        "id": "MqmHVEeEFcEl"
      },
      "source": [
        "### Steps to build a Neural Network using Keras for Loan Prediction\n",
        "1. Loading the dataset\n",
        "2. Creating training and validation set\n",
        "3. Defining the architecture of the model\n",
        "4. Compiling the model(defining loss function, optimizer)\n",
        "5. Training the model\n",
        "6. Evaluating model performance on training and validation set"
      ]
    },
    {
      "cell_type": "markdown",
      "metadata": {
        "id": "EgyiV-tjF5hl"
      },
      "source": [
        "### 1. Loading the dataset"
      ]
    },
    {
      "cell_type": "code",
      "metadata": {
        "id": "GglmBp3_F338"
      },
      "source": [
        "# importing the required libraries\n",
        "import pandas as pd\n",
        "import numpy as np\n",
        "import sklearn\n",
        "from sklearn.model_selection import train_test_split\n",
        "from sklearn.metrics import accuracy_score\n",
        "import matplotlib.pyplot as plt\n",
        "%matplotlib inline"
      ],
      "execution_count": null,
      "outputs": []
    },
    {
      "cell_type": "code",
      "metadata": {
        "id": "JAjAQ-spGQ8O",
        "outputId": "37c85c35-5981-4afb-88c1-69a11f767053",
        "colab": {
          "base_uri": "https://localhost:8080/",
          "height": 34
        }
      },
      "source": [
        "# check version on sklearn\n",
        "print('Version of sklearn:', sklearn.__version__)"
      ],
      "execution_count": null,
      "outputs": [
        {
          "output_type": "stream",
          "text": [
            "Version of sklearn: 0.22.2.post1\n"
          ],
          "name": "stdout"
        }
      ]
    },
    {
      "cell_type": "code",
      "metadata": {
        "id": "JruoSg_iGlMB"
      },
      "source": [
        "# loading the pre-processed dataset\n",
        "data = pd.read_csv('loan_prediction_data.csv')"
      ],
      "execution_count": null,
      "outputs": []
    },
    {
      "cell_type": "code",
      "metadata": {
        "id": "PMlJpXyHGs6E",
        "outputId": "798c99f3-7501-4938-d315-cd686e3132d0",
        "colab": {
          "base_uri": "https://localhost:8080/",
          "height": 224
        }
      },
      "source": [
        "# looking at the first five rows of the dataset\n",
        "data.head()"
      ],
      "execution_count": null,
      "outputs": [
        {
          "output_type": "execute_result",
          "data": {
            "text/html": [
              "<div>\n",
              "<style scoped>\n",
              "    .dataframe tbody tr th:only-of-type {\n",
              "        vertical-align: middle;\n",
              "    }\n",
              "\n",
              "    .dataframe tbody tr th {\n",
              "        vertical-align: top;\n",
              "    }\n",
              "\n",
              "    .dataframe thead th {\n",
              "        text-align: right;\n",
              "    }\n",
              "</style>\n",
              "<table border=\"1\" class=\"dataframe\">\n",
              "  <thead>\n",
              "    <tr style=\"text-align: right;\">\n",
              "      <th></th>\n",
              "      <th>Loan_ID</th>\n",
              "      <th>Gender</th>\n",
              "      <th>Married</th>\n",
              "      <th>Dependents</th>\n",
              "      <th>Education</th>\n",
              "      <th>Self_Employed</th>\n",
              "      <th>ApplicantIncome</th>\n",
              "      <th>CoapplicantIncome</th>\n",
              "      <th>LoanAmount</th>\n",
              "      <th>Loan_Amount_Term</th>\n",
              "      <th>Credit_History</th>\n",
              "      <th>Property_Area</th>\n",
              "      <th>Loan_Status</th>\n",
              "    </tr>\n",
              "  </thead>\n",
              "  <tbody>\n",
              "    <tr>\n",
              "      <th>0</th>\n",
              "      <td>LP001002</td>\n",
              "      <td>0.0</td>\n",
              "      <td>0.0</td>\n",
              "      <td>0.000000</td>\n",
              "      <td>1.0</td>\n",
              "      <td>0.0</td>\n",
              "      <td>0.070489</td>\n",
              "      <td>0.000000</td>\n",
              "      <td>0.198860</td>\n",
              "      <td>0.74359</td>\n",
              "      <td>1.0</td>\n",
              "      <td>1.0</td>\n",
              "      <td>1.0</td>\n",
              "    </tr>\n",
              "    <tr>\n",
              "      <th>1</th>\n",
              "      <td>LP001003</td>\n",
              "      <td>0.0</td>\n",
              "      <td>1.0</td>\n",
              "      <td>0.333333</td>\n",
              "      <td>1.0</td>\n",
              "      <td>0.0</td>\n",
              "      <td>0.054830</td>\n",
              "      <td>0.036192</td>\n",
              "      <td>0.172214</td>\n",
              "      <td>0.74359</td>\n",
              "      <td>1.0</td>\n",
              "      <td>0.0</td>\n",
              "      <td>0.0</td>\n",
              "    </tr>\n",
              "    <tr>\n",
              "      <th>2</th>\n",
              "      <td>LP001005</td>\n",
              "      <td>0.0</td>\n",
              "      <td>1.0</td>\n",
              "      <td>0.000000</td>\n",
              "      <td>1.0</td>\n",
              "      <td>1.0</td>\n",
              "      <td>0.035250</td>\n",
              "      <td>0.000000</td>\n",
              "      <td>0.082489</td>\n",
              "      <td>0.74359</td>\n",
              "      <td>1.0</td>\n",
              "      <td>1.0</td>\n",
              "      <td>1.0</td>\n",
              "    </tr>\n",
              "    <tr>\n",
              "      <th>3</th>\n",
              "      <td>LP001006</td>\n",
              "      <td>0.0</td>\n",
              "      <td>1.0</td>\n",
              "      <td>0.000000</td>\n",
              "      <td>0.0</td>\n",
              "      <td>0.0</td>\n",
              "      <td>0.030093</td>\n",
              "      <td>0.056592</td>\n",
              "      <td>0.160637</td>\n",
              "      <td>0.74359</td>\n",
              "      <td>1.0</td>\n",
              "      <td>1.0</td>\n",
              "      <td>1.0</td>\n",
              "    </tr>\n",
              "    <tr>\n",
              "      <th>4</th>\n",
              "      <td>LP001008</td>\n",
              "      <td>0.0</td>\n",
              "      <td>0.0</td>\n",
              "      <td>0.000000</td>\n",
              "      <td>1.0</td>\n",
              "      <td>0.0</td>\n",
              "      <td>0.072356</td>\n",
              "      <td>0.000000</td>\n",
              "      <td>0.191027</td>\n",
              "      <td>0.74359</td>\n",
              "      <td>1.0</td>\n",
              "      <td>1.0</td>\n",
              "      <td>1.0</td>\n",
              "    </tr>\n",
              "  </tbody>\n",
              "</table>\n",
              "</div>"
            ],
            "text/plain": [
              "    Loan_ID  Gender  Married  ...  Credit_History  Property_Area  Loan_Status\n",
              "0  LP001002     0.0      0.0  ...             1.0            1.0          1.0\n",
              "1  LP001003     0.0      1.0  ...             1.0            0.0          0.0\n",
              "2  LP001005     0.0      1.0  ...             1.0            1.0          1.0\n",
              "3  LP001006     0.0      1.0  ...             1.0            1.0          1.0\n",
              "4  LP001008     0.0      0.0  ...             1.0            1.0          1.0\n",
              "\n",
              "[5 rows x 13 columns]"
            ]
          },
          "metadata": {
            "tags": []
          },
          "execution_count": 49
        }
      ]
    },
    {
      "cell_type": "code",
      "metadata": {
        "id": "URGXZkqPHDDH",
        "outputId": "977e20f1-c0d7-43b8-b43f-53b5a90e93d4",
        "colab": {
          "base_uri": "https://localhost:8080/",
          "height": 255
        }
      },
      "source": [
        "# checking missing values\n",
        "data.isnull().sum()"
      ],
      "execution_count": null,
      "outputs": [
        {
          "output_type": "execute_result",
          "data": {
            "text/plain": [
              "Loan_ID              0\n",
              "Gender               0\n",
              "Married              0\n",
              "Dependents           0\n",
              "Education            0\n",
              "Self_Employed        0\n",
              "ApplicantIncome      0\n",
              "CoapplicantIncome    0\n",
              "LoanAmount           0\n",
              "Loan_Amount_Term     0\n",
              "Credit_History       0\n",
              "Property_Area        0\n",
              "Loan_Status          0\n",
              "dtype: int64"
            ]
          },
          "metadata": {
            "tags": []
          },
          "execution_count": 50
        }
      ]
    },
    {
      "cell_type": "code",
      "metadata": {
        "id": "DsPvsEpOHI5e",
        "outputId": "a2d9b773-4c5a-4317-aac2-8c7f67731680",
        "colab": {
          "base_uri": "https://localhost:8080/",
          "height": 255
        }
      },
      "source": [
        "# checking the data type\n",
        "data.dtypes"
      ],
      "execution_count": null,
      "outputs": [
        {
          "output_type": "execute_result",
          "data": {
            "text/plain": [
              "Loan_ID               object\n",
              "Gender               float64\n",
              "Married              float64\n",
              "Dependents           float64\n",
              "Education            float64\n",
              "Self_Employed        float64\n",
              "ApplicantIncome      float64\n",
              "CoapplicantIncome    float64\n",
              "LoanAmount           float64\n",
              "Loan_Amount_Term     float64\n",
              "Credit_History       float64\n",
              "Property_Area        float64\n",
              "Loan_Status          float64\n",
              "dtype: object"
            ]
          },
          "metadata": {
            "tags": []
          },
          "execution_count": 51
        }
      ]
    },
    {
      "cell_type": "code",
      "metadata": {
        "id": "nUL-FooMJP1I"
      },
      "source": [
        "# removing the loan_ID since these are just the unique values\n",
        "data = data.drop('Loan_ID', axis=1)"
      ],
      "execution_count": null,
      "outputs": []
    },
    {
      "cell_type": "code",
      "metadata": {
        "id": "k4eHqJajJaJk",
        "outputId": "3e2e3b2c-0366-4645-9102-53c20b23f01a",
        "colab": {
          "base_uri": "https://localhost:8080/",
          "height": 34
        }
      },
      "source": [
        "# looking at the shape of the data\n",
        "data.shape"
      ],
      "execution_count": null,
      "outputs": [
        {
          "output_type": "execute_result",
          "data": {
            "text/plain": [
              "(614, 12)"
            ]
          },
          "metadata": {
            "tags": []
          },
          "execution_count": 53
        }
      ]
    },
    {
      "cell_type": "code",
      "metadata": {
        "id": "jDnvSL0YJqLN"
      },
      "source": [
        "# seperating the independent and dependent variables\n",
        "\n",
        "# storing all the independent variables as x\n",
        "X = data.drop('Loan_Status', axis=1)\n",
        "\n",
        "# storing the dependent variable as y\n",
        "y = data['Loan_Status']"
      ],
      "execution_count": null,
      "outputs": []
    },
    {
      "cell_type": "code",
      "metadata": {
        "id": "CgqET36YJ_R_",
        "outputId": "f9118485-f5bb-4b9c-9814-cc65026fbbe7",
        "colab": {
          "base_uri": "https://localhost:8080/",
          "height": 34
        }
      },
      "source": [
        "# shape of independent and dependent variables\n",
        "X.shape, y.shape"
      ],
      "execution_count": null,
      "outputs": [
        {
          "output_type": "execute_result",
          "data": {
            "text/plain": [
              "((614, 11), (614,))"
            ]
          },
          "metadata": {
            "tags": []
          },
          "execution_count": 55
        }
      ]
    },
    {
      "cell_type": "markdown",
      "metadata": {
        "id": "QAV54dDYKRh7"
      },
      "source": [
        "###2. Creating training and validation set"
      ]
    },
    {
      "cell_type": "code",
      "metadata": {
        "id": "qewK_mQIKJ1-"
      },
      "source": [
        "# Creating training and validation set\n",
        "\n",
        "# stratify will make sure that the distribution of classes in train and validation set it similar\n",
        "# random state to regenerate the same train and validation set\n",
        "# test size 0.2 will keep 20% data in validation and remaining 80% in train set\n",
        "\n",
        "X_train, X_test, y_train, y_test = train_test_split(X,y,stratify=data['Loan_Status'],random_state=10, test_size=0.2)"
      ],
      "execution_count": null,
      "outputs": []
    },
    {
      "cell_type": "code",
      "metadata": {
        "id": "g05vEKPTLoTv",
        "outputId": "b2bbd12d-9793-4109-c5ba-411ae2fd0351",
        "colab": {
          "base_uri": "https://localhost:8080/",
          "height": 34
        }
      },
      "source": [
        "# shape of training and validation set\n",
        "(X_train.shape, y_train.shape), (X_test.shape, y_test.shape)"
      ],
      "execution_count": null,
      "outputs": [
        {
          "output_type": "execute_result",
          "data": {
            "text/plain": [
              "(((491, 11), (491,)), ((123, 11), (123,)))"
            ]
          },
          "metadata": {
            "tags": []
          },
          "execution_count": 57
        }
      ]
    },
    {
      "cell_type": "markdown",
      "metadata": {
        "id": "qrUt7M97MA8p"
      },
      "source": [
        "###3. Defining the architecture of the model"
      ]
    },
    {
      "cell_type": "code",
      "metadata": {
        "id": "oLtygSJOL_C3",
        "outputId": "bb57033c-11d7-4acf-9a90-4e30733537ce",
        "colab": {
          "base_uri": "https://localhost:8080/",
          "height": 34
        }
      },
      "source": [
        "# checking the version of keras\n",
        "import keras\n",
        "print(keras.__version__)"
      ],
      "execution_count": null,
      "outputs": [
        {
          "output_type": "stream",
          "text": [
            "2.4.3\n"
          ],
          "name": "stdout"
        }
      ]
    },
    {
      "cell_type": "code",
      "metadata": {
        "id": "p4UcG5AHMz6O",
        "outputId": "820de0d9-b8a1-46b3-e4e5-5810d646cdac",
        "colab": {
          "base_uri": "https://localhost:8080/",
          "height": 34
        }
      },
      "source": [
        "# checking the version of tensorflow\n",
        "import tensorflow as tf\n",
        "print(tf.__version__)"
      ],
      "execution_count": null,
      "outputs": [
        {
          "output_type": "stream",
          "text": [
            "2.3.0\n"
          ],
          "name": "stdout"
        }
      ]
    },
    {
      "cell_type": "markdown",
      "metadata": {
        "id": "ZJ2Yox-ROGrF"
      },
      "source": [
        "###a. Creating a model\n"
      ]
    },
    {
      "cell_type": "code",
      "metadata": {
        "id": "hIy7qcObM93X"
      },
      "source": [
        "# importing the sequential model\n",
        "from keras.models import Sequential "
      ],
      "execution_count": null,
      "outputs": []
    },
    {
      "cell_type": "markdown",
      "metadata": {
        "id": "1WUJAfKwOXiq"
      },
      "source": [
        "###b. Defining different layers"
      ]
    },
    {
      "cell_type": "code",
      "metadata": {
        "id": "Ck-AHJATOVUA"
      },
      "source": [
        "# importing different layers from keras\n",
        "from keras.layers import InputLayer, Dense"
      ],
      "execution_count": null,
      "outputs": []
    },
    {
      "cell_type": "code",
      "metadata": {
        "id": "4-QvtTZIPGbk",
        "outputId": "779bd6f9-f197-4c33-b0dd-f42b1afa25e1",
        "colab": {
          "base_uri": "https://localhost:8080/",
          "height": 34
        }
      },
      "source": [
        "# number of input neurons\n",
        "X_train.shape"
      ],
      "execution_count": null,
      "outputs": [
        {
          "output_type": "execute_result",
          "data": {
            "text/plain": [
              "(491, 11)"
            ]
          },
          "metadata": {
            "tags": []
          },
          "execution_count": 62
        }
      ]
    },
    {
      "cell_type": "code",
      "metadata": {
        "id": "tUs2c5yIPPx3",
        "outputId": "36983ced-3bf4-462f-c09c-f30bf6ee633b",
        "colab": {
          "base_uri": "https://localhost:8080/",
          "height": 34
        }
      },
      "source": [
        "#number of features in the data\n",
        "X_train.shape[1]"
      ],
      "execution_count": null,
      "outputs": [
        {
          "output_type": "execute_result",
          "data": {
            "text/plain": [
              "11"
            ]
          },
          "metadata": {
            "tags": []
          },
          "execution_count": 63
        }
      ]
    },
    {
      "cell_type": "code",
      "metadata": {
        "id": "x8NVU8rIPWMH"
      },
      "source": [
        "# defining input neurons\n",
        "input_neurons = X_train.shape[1]"
      ],
      "execution_count": null,
      "outputs": []
    },
    {
      "cell_type": "code",
      "metadata": {
        "id": "EsZhsOw_Peiw"
      },
      "source": [
        "# number of output neurons\n",
        "# since loan prediction is a binary classification problem, we will have single neuron in the output layer\n",
        "# define number of output neurons\n",
        "output_neurons = 1"
      ],
      "execution_count": null,
      "outputs": []
    },
    {
      "cell_type": "code",
      "metadata": {
        "id": "S_SrCjYEP4J8"
      },
      "source": [
        "# number of hidden layers and hidden neurons\n",
        "# It is a hyperparameter and we can pick the hidden layers and hidden neurons on our own\n"
      ],
      "execution_count": null,
      "outputs": []
    },
    {
      "cell_type": "code",
      "metadata": {
        "id": "p0o3kITqQG6-"
      },
      "source": [
        "# define hidden layers and neuron in each layer\n",
        "number_of_hidden_layers = 2\n",
        "neuron_hidden_layer_1 = 10\n",
        "neuron_hidden_layer_2 = 5"
      ],
      "execution_count": null,
      "outputs": []
    },
    {
      "cell_type": "code",
      "metadata": {
        "id": "yaMVQcYAQUZL"
      },
      "source": [
        "# activation function of different layers\n",
        "\n",
        "# for now i have picked relu as an activation function for hidden layers, you can change it as well\n",
        "# since it is a binary classification problem, i have used sigmoid activation function in the final layer"
      ],
      "execution_count": null,
      "outputs": []
    },
    {
      "cell_type": "code",
      "metadata": {
        "id": "r79CTQ7wRBaG"
      },
      "source": [
        "# defining the architecture of the model\n",
        "model = Sequential()\n",
        "model.add(InputLayer(input_shape=(input_neurons,)))\n",
        "model.add(Dense(units=neuron_hidden_layer_1, activation='relu'))\n",
        "model.add(Dense(units=neuron_hidden_layer_2, activation='relu'))\n",
        "model.add(Dense(units=output_neurons, activation='sigmoid'))"
      ],
      "execution_count": null,
      "outputs": []
    },
    {
      "cell_type": "code",
      "metadata": {
        "id": "sXyr-NehRveh",
        "outputId": "4b4c8b91-930f-46aa-817b-21a9aef2e710",
        "colab": {
          "base_uri": "https://localhost:8080/",
          "height": 255
        }
      },
      "source": [
        "# summary of the model\n",
        "model.summary()"
      ],
      "execution_count": null,
      "outputs": [
        {
          "output_type": "stream",
          "text": [
            "Model: \"sequential_1\"\n",
            "_________________________________________________________________\n",
            "Layer (type)                 Output Shape              Param #   \n",
            "=================================================================\n",
            "dense_3 (Dense)              (None, 10)                120       \n",
            "_________________________________________________________________\n",
            "dense_4 (Dense)              (None, 5)                 55        \n",
            "_________________________________________________________________\n",
            "dense_5 (Dense)              (None, 1)                 6         \n",
            "=================================================================\n",
            "Total params: 181\n",
            "Trainable params: 181\n",
            "Non-trainable params: 0\n",
            "_________________________________________________________________\n"
          ],
          "name": "stdout"
        }
      ]
    },
    {
      "cell_type": "code",
      "metadata": {
        "id": "EiaVtpHcSGwX",
        "outputId": "eb29bc3e-d192-47de-8ea0-848c0f707489",
        "colab": {
          "base_uri": "https://localhost:8080/",
          "height": 34
        }
      },
      "source": [
        " # number of parameters between input and first hidden layer\n",
        " input_neurons*neuron_hidden_layer_1"
      ],
      "execution_count": null,
      "outputs": [
        {
          "output_type": "execute_result",
          "data": {
            "text/plain": [
              "110"
            ]
          },
          "metadata": {
            "tags": []
          },
          "execution_count": 71
        }
      ]
    },
    {
      "cell_type": "code",
      "metadata": {
        "id": "K3T0btyx5lAk",
        "outputId": "81717b5f-8032-4444-9ec4-a83b35298919",
        "colab": {
          "base_uri": "https://localhost:8080/",
          "height": 34
        }
      },
      "source": [
        "# number of parameters between input and first hidden layer\n",
        "# adding the bias for each neuron of first hidden layer\n",
        "\n",
        "input_neurons*neuron_hidden_layer_1+10"
      ],
      "execution_count": null,
      "outputs": [
        {
          "output_type": "execute_result",
          "data": {
            "text/plain": [
              "120"
            ]
          },
          "metadata": {
            "tags": []
          },
          "execution_count": 72
        }
      ]
    },
    {
      "cell_type": "code",
      "metadata": {
        "id": "8b6LodDM6ZBV",
        "outputId": "75d78b9f-c5e9-47c9-a3d2-dda6afb9e848",
        "colab": {
          "base_uri": "https://localhost:8080/",
          "height": 34
        }
      },
      "source": [
        "# number of parameters between first and second hidden layer\n",
        "neuron_hidden_layer_1*neuron_hidden_layer_2+5"
      ],
      "execution_count": null,
      "outputs": [
        {
          "output_type": "execute_result",
          "data": {
            "text/plain": [
              "55"
            ]
          },
          "metadata": {
            "tags": []
          },
          "execution_count": 73
        }
      ]
    },
    {
      "cell_type": "code",
      "metadata": {
        "id": "bytKqh9b65oI",
        "outputId": "7cfcb103-ca41-4c95-9243-d27eada396b1",
        "colab": {
          "base_uri": "https://localhost:8080/",
          "height": 34
        }
      },
      "source": [
        "# number of parameters between second hidden and output layer\n",
        "neuron_hidden_layer_2*output_neurons + 1"
      ],
      "execution_count": null,
      "outputs": [
        {
          "output_type": "execute_result",
          "data": {
            "text/plain": [
              "6"
            ]
          },
          "metadata": {
            "tags": []
          },
          "execution_count": 74
        }
      ]
    },
    {
      "cell_type": "markdown",
      "metadata": {
        "id": "GL43fnrh7GLt"
      },
      "source": [
        "###4. Compiling the model(defining loss function, optimizer)"
      ]
    },
    {
      "cell_type": "code",
      "metadata": {
        "id": "mAWa6Bvp7EZ_"
      },
      "source": [
        "# compiling the model\n",
        "\n",
        "# loss as binary crossentropy, since we have binary classification problem\n",
        "# defining the optimizer as adam\n",
        "# Evaluation metric accuracy\n",
        "\n",
        "model.compile(loss='binary_crossentropy', optimizer='Adam', metrics=['accuracy'])"
      ],
      "execution_count": null,
      "outputs": []
    },
    {
      "cell_type": "markdown",
      "metadata": {
        "id": "elL5dCkM7wEq"
      },
      "source": [
        "###5. Training the model"
      ]
    },
    {
      "cell_type": "code",
      "metadata": {
        "id": "0I1UemjC7uUf",
        "outputId": "7d00dc29-69f6-46c1-cb74-cfb89f68ffda",
        "colab": {
          "base_uri": "https://localhost:8080/",
          "height": 1000
        }
      },
      "source": [
        "# training the model\n",
        "# passing the independent and dependent features for training set for training the model\n",
        "# validation data will be evaluated at the end of each epoch\n",
        "# setting the epochs as 50\n",
        "# storing the trained model in model_history variable which will be used to visualize the training process\n",
        "model_history = model.fit(X_train, y_train, validation_data=(X_test, y_test), epochs=50)"
      ],
      "execution_count": null,
      "outputs": [
        {
          "output_type": "stream",
          "text": [
            "Epoch 1/50\n",
            "16/16 [==============================] - 0s 11ms/step - loss: 0.6352 - accuracy: 0.7047 - val_loss: 0.6272 - val_accuracy: 0.6992\n",
            "Epoch 2/50\n",
            "16/16 [==============================] - 0s 2ms/step - loss: 0.6115 - accuracy: 0.7088 - val_loss: 0.6070 - val_accuracy: 0.6992\n",
            "Epoch 3/50\n",
            "16/16 [==============================] - 0s 3ms/step - loss: 0.5954 - accuracy: 0.7108 - val_loss: 0.5943 - val_accuracy: 0.6992\n",
            "Epoch 4/50\n",
            "16/16 [==============================] - 0s 2ms/step - loss: 0.5840 - accuracy: 0.7088 - val_loss: 0.5855 - val_accuracy: 0.6992\n",
            "Epoch 5/50\n",
            "16/16 [==============================] - 0s 2ms/step - loss: 0.5760 - accuracy: 0.7088 - val_loss: 0.5781 - val_accuracy: 0.6992\n",
            "Epoch 6/50\n",
            "16/16 [==============================] - 0s 2ms/step - loss: 0.5683 - accuracy: 0.7088 - val_loss: 0.5735 - val_accuracy: 0.6992\n",
            "Epoch 7/50\n",
            "16/16 [==============================] - 0s 3ms/step - loss: 0.5627 - accuracy: 0.7128 - val_loss: 0.5689 - val_accuracy: 0.6992\n",
            "Epoch 8/50\n",
            "16/16 [==============================] - 0s 2ms/step - loss: 0.5566 - accuracy: 0.7128 - val_loss: 0.5650 - val_accuracy: 0.6992\n",
            "Epoch 9/50\n",
            "16/16 [==============================] - 0s 2ms/step - loss: 0.5513 - accuracy: 0.7189 - val_loss: 0.5607 - val_accuracy: 0.6992\n",
            "Epoch 10/50\n",
            "16/16 [==============================] - 0s 2ms/step - loss: 0.5457 - accuracy: 0.7352 - val_loss: 0.5569 - val_accuracy: 0.7236\n",
            "Epoch 11/50\n",
            "16/16 [==============================] - 0s 2ms/step - loss: 0.5401 - accuracy: 0.7597 - val_loss: 0.5520 - val_accuracy: 0.7398\n",
            "Epoch 12/50\n",
            "16/16 [==============================] - 0s 2ms/step - loss: 0.5331 - accuracy: 0.7678 - val_loss: 0.5455 - val_accuracy: 0.7642\n",
            "Epoch 13/50\n",
            "16/16 [==============================] - 0s 2ms/step - loss: 0.5253 - accuracy: 0.7841 - val_loss: 0.5390 - val_accuracy: 0.7886\n",
            "Epoch 14/50\n",
            "16/16 [==============================] - 0s 2ms/step - loss: 0.5189 - accuracy: 0.7882 - val_loss: 0.5331 - val_accuracy: 0.7886\n",
            "Epoch 15/50\n",
            "16/16 [==============================] - 0s 2ms/step - loss: 0.5117 - accuracy: 0.7963 - val_loss: 0.5284 - val_accuracy: 0.7886\n",
            "Epoch 16/50\n",
            "16/16 [==============================] - 0s 2ms/step - loss: 0.5060 - accuracy: 0.8004 - val_loss: 0.5234 - val_accuracy: 0.7886\n",
            "Epoch 17/50\n",
            "16/16 [==============================] - 0s 2ms/step - loss: 0.5004 - accuracy: 0.8004 - val_loss: 0.5189 - val_accuracy: 0.7967\n",
            "Epoch 18/50\n",
            "16/16 [==============================] - 0s 2ms/step - loss: 0.4957 - accuracy: 0.8024 - val_loss: 0.5133 - val_accuracy: 0.8130\n",
            "Epoch 19/50\n",
            "16/16 [==============================] - 0s 2ms/step - loss: 0.4921 - accuracy: 0.8065 - val_loss: 0.5083 - val_accuracy: 0.8130\n",
            "Epoch 20/50\n",
            "16/16 [==============================] - 0s 3ms/step - loss: 0.4877 - accuracy: 0.8086 - val_loss: 0.5050 - val_accuracy: 0.8130\n",
            "Epoch 21/50\n",
            "16/16 [==============================] - 0s 2ms/step - loss: 0.4830 - accuracy: 0.8106 - val_loss: 0.4996 - val_accuracy: 0.8130\n",
            "Epoch 22/50\n",
            "16/16 [==============================] - 0s 2ms/step - loss: 0.4819 - accuracy: 0.8086 - val_loss: 0.4965 - val_accuracy: 0.8130\n",
            "Epoch 23/50\n",
            "16/16 [==============================] - 0s 2ms/step - loss: 0.4781 - accuracy: 0.8106 - val_loss: 0.4932 - val_accuracy: 0.8130\n",
            "Epoch 24/50\n",
            "16/16 [==============================] - 0s 2ms/step - loss: 0.4757 - accuracy: 0.8106 - val_loss: 0.4904 - val_accuracy: 0.8130\n",
            "Epoch 25/50\n",
            "16/16 [==============================] - 0s 2ms/step - loss: 0.4745 - accuracy: 0.8126 - val_loss: 0.4891 - val_accuracy: 0.8130\n",
            "Epoch 26/50\n",
            "16/16 [==============================] - 0s 2ms/step - loss: 0.4722 - accuracy: 0.8126 - val_loss: 0.4875 - val_accuracy: 0.8130\n",
            "Epoch 27/50\n",
            "16/16 [==============================] - 0s 2ms/step - loss: 0.4714 - accuracy: 0.8126 - val_loss: 0.4863 - val_accuracy: 0.8130\n",
            "Epoch 28/50\n",
            "16/16 [==============================] - 0s 2ms/step - loss: 0.4690 - accuracy: 0.8126 - val_loss: 0.4839 - val_accuracy: 0.8130\n",
            "Epoch 29/50\n",
            "16/16 [==============================] - 0s 2ms/step - loss: 0.4687 - accuracy: 0.8126 - val_loss: 0.4828 - val_accuracy: 0.8130\n",
            "Epoch 30/50\n",
            "16/16 [==============================] - 0s 2ms/step - loss: 0.4688 - accuracy: 0.8126 - val_loss: 0.4809 - val_accuracy: 0.8130\n",
            "Epoch 31/50\n",
            "16/16 [==============================] - 0s 2ms/step - loss: 0.4663 - accuracy: 0.8126 - val_loss: 0.4815 - val_accuracy: 0.8130\n",
            "Epoch 32/50\n",
            "16/16 [==============================] - 0s 2ms/step - loss: 0.4664 - accuracy: 0.8126 - val_loss: 0.4790 - val_accuracy: 0.8130\n",
            "Epoch 33/50\n",
            "16/16 [==============================] - 0s 2ms/step - loss: 0.4650 - accuracy: 0.8126 - val_loss: 0.4794 - val_accuracy: 0.8130\n",
            "Epoch 34/50\n",
            "16/16 [==============================] - 0s 2ms/step - loss: 0.4658 - accuracy: 0.8106 - val_loss: 0.4789 - val_accuracy: 0.8130\n",
            "Epoch 35/50\n",
            "16/16 [==============================] - 0s 2ms/step - loss: 0.4642 - accuracy: 0.8106 - val_loss: 0.4765 - val_accuracy: 0.8130\n",
            "Epoch 36/50\n",
            "16/16 [==============================] - 0s 2ms/step - loss: 0.4645 - accuracy: 0.8126 - val_loss: 0.4760 - val_accuracy: 0.8130\n",
            "Epoch 37/50\n",
            "16/16 [==============================] - 0s 3ms/step - loss: 0.4633 - accuracy: 0.8126 - val_loss: 0.4758 - val_accuracy: 0.8130\n",
            "Epoch 38/50\n",
            "16/16 [==============================] - 0s 2ms/step - loss: 0.4628 - accuracy: 0.8126 - val_loss: 0.4751 - val_accuracy: 0.8130\n",
            "Epoch 39/50\n",
            "16/16 [==============================] - 0s 2ms/step - loss: 0.4626 - accuracy: 0.8106 - val_loss: 0.4743 - val_accuracy: 0.8130\n",
            "Epoch 40/50\n",
            "16/16 [==============================] - 0s 2ms/step - loss: 0.4622 - accuracy: 0.8106 - val_loss: 0.4737 - val_accuracy: 0.8130\n",
            "Epoch 41/50\n",
            "16/16 [==============================] - 0s 2ms/step - loss: 0.4622 - accuracy: 0.8086 - val_loss: 0.4740 - val_accuracy: 0.8130\n",
            "Epoch 42/50\n",
            "16/16 [==============================] - 0s 2ms/step - loss: 0.4617 - accuracy: 0.8106 - val_loss: 0.4731 - val_accuracy: 0.8130\n",
            "Epoch 43/50\n",
            "16/16 [==============================] - 0s 2ms/step - loss: 0.4616 - accuracy: 0.8086 - val_loss: 0.4733 - val_accuracy: 0.8130\n",
            "Epoch 44/50\n",
            "16/16 [==============================] - 0s 2ms/step - loss: 0.4609 - accuracy: 0.8106 - val_loss: 0.4720 - val_accuracy: 0.8130\n",
            "Epoch 45/50\n",
            "16/16 [==============================] - 0s 3ms/step - loss: 0.4622 - accuracy: 0.8086 - val_loss: 0.4730 - val_accuracy: 0.8130\n",
            "Epoch 46/50\n",
            "16/16 [==============================] - 0s 2ms/step - loss: 0.4612 - accuracy: 0.8086 - val_loss: 0.4716 - val_accuracy: 0.8130\n",
            "Epoch 47/50\n",
            "16/16 [==============================] - 0s 2ms/step - loss: 0.4604 - accuracy: 0.8126 - val_loss: 0.4714 - val_accuracy: 0.8130\n",
            "Epoch 48/50\n",
            "16/16 [==============================] - 0s 2ms/step - loss: 0.4612 - accuracy: 0.8086 - val_loss: 0.4720 - val_accuracy: 0.8130\n",
            "Epoch 49/50\n",
            "16/16 [==============================] - 0s 2ms/step - loss: 0.4597 - accuracy: 0.8086 - val_loss: 0.4707 - val_accuracy: 0.8130\n",
            "Epoch 50/50\n",
            "16/16 [==============================] - 0s 2ms/step - loss: 0.4591 - accuracy: 0.8106 - val_loss: 0.4711 - val_accuracy: 0.8130\n"
          ],
          "name": "stdout"
        }
      ]
    },
    {
      "cell_type": "markdown",
      "metadata": {
        "id": "fJwPE50q_AGO"
      },
      "source": [
        "###6. Evaluating model performance and validation set"
      ]
    },
    {
      "cell_type": "code",
      "metadata": {
        "id": "GtQTnOg0-5Bl",
        "outputId": "9ae4c3e4-bb96-4172-e607-bd177bed913c",
        "colab": {
          "base_uri": "https://localhost:8080/",
          "height": 88
        }
      },
      "source": [
        "# getting predictions for the validation set \n",
        "prediction = model.predict_classes(X_test)"
      ],
      "execution_count": null,
      "outputs": [
        {
          "output_type": "stream",
          "text": [
            "WARNING:tensorflow:From <ipython-input-77-024158525c55>:2: Sequential.predict_classes (from tensorflow.python.keras.engine.sequential) is deprecated and will be removed after 2021-01-01.\n",
            "Instructions for updating:\n",
            "Please use instead:* `np.argmax(model.predict(x), axis=-1)`,   if your model does multi-class classification   (e.g. if it uses a `softmax` last-layer activation).* `(model.predict(x) > 0.5).astype(\"int32\")`,   if your model does binary classification   (e.g. if it uses a `sigmoid` last-layer activation).\n"
          ],
          "name": "stdout"
        }
      ]
    },
    {
      "cell_type": "code",
      "metadata": {
        "id": "4GxjNHYY_Qtg",
        "outputId": "f1f4a821-3c0b-407e-88cb-ab4fa2b5f804",
        "colab": {
          "base_uri": "https://localhost:8080/",
          "height": 34
        }
      },
      "source": [
        "# calculating the accuracy on validation set\n",
        "accuracy_score(y_test, prediction)"
      ],
      "execution_count": null,
      "outputs": [
        {
          "output_type": "execute_result",
          "data": {
            "text/plain": [
              "0.8130081300813008"
            ]
          },
          "metadata": {
            "tags": []
          },
          "execution_count": 78
        }
      ]
    },
    {
      "cell_type": "code",
      "metadata": {
        "id": "AWxAXJvZ_X0e",
        "outputId": "298d68d7-4e21-4914-c152-3f166ac78edb",
        "colab": {
          "base_uri": "https://localhost:8080/",
          "height": 295
        }
      },
      "source": [
        "# summarize history for loss\n",
        "plt.plot(model_history.history['loss'])\n",
        "plt.plot(model_history.history['val_loss'])\n",
        "plt.title('model loss')\n",
        "plt.ylabel('loss')\n",
        "plt.xlabel('epoch')\n",
        "plt.legend(['train', 'validation'], loc='upper left')\n",
        "plt.show()"
      ],
      "execution_count": null,
      "outputs": [
        {
          "output_type": "display_data",
          "data": {
            "image/png": "[encoded data removed]",
            "text/plain": [
              "<Figure size 432x288 with 1 Axes>"
            ]
          },
          "metadata": {
            "tags": [],
            "needs_background": "light"
          }
        }
      ]
    },
    {
      "cell_type": "code",
      "metadata": {
        "id": "M9okbDqi_kv8",
        "outputId": "05e60769-53c0-4a8a-8631-d9a52b7b5ac0",
        "colab": {
          "base_uri": "https://localhost:8080/",
          "height": 295
        }
      },
      "source": [
        "# summarize history for accuracy\n",
        "plt.plot(model_history.history['accuracy'])\n",
        "plt.plot(model_history.history['val_accuracy'])\n",
        "plt.title('model accuracy')\n",
        "plt.ylabel('accuracy')\n",
        "plt.xlabel('epoch')\n",
        "plt.legend(['train', 'validation'], loc='upper left')\n",
        "plt.show()"
      ],
      "execution_count": null,
      "outputs": [
        {
          "output_type": "display_data",
          "data": {
            "image/png": "[encoded data removed]",
            "text/plain": [
              "<Figure size 432x288 with 1 Axes>"
            ]
          },
          "metadata": {
            "tags": [],
            "needs_background": "light"
          }
        }
      ]
    },
    {
      "cell_type": "code",
      "metadata": {
        "id": "Qnxlr8DbBYd0"
      },
      "source": [
        "loanpred = pd.to_csv"
      ],
      "execution_count": null,
      "outputs": []
    }
  ]
}